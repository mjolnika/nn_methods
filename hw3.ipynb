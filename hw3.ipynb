{
  "nbformat": 4,
  "nbformat_minor": 0,
  "metadata": {
    "colab": {
      "name": "hw3.ipynb",
      "provenance": [],
      "collapsed_sections": [],
      "authorship_tag": "ABX9TyP7005/nHr1/aq/wL3ipp63"
    },
    "kernelspec": {
      "name": "python3",
      "display_name": "Python 3"
    },
    "language_info": {
      "name": "python"
    },
    "accelerator": "GPU"
  },
  "cells": [
    {
      "cell_type": "markdown",
      "source": [
        "Настя Панасюк. 182"
      ],
      "metadata": {
        "id": "J7dNPybAMm-f"
      }
    },
    {
      "cell_type": "code",
      "source": [
        "import torch\n",
        "import torch.nn as nn\n",
        "import torch.nn.functional as F\n",
        "from torch.utils.data import Dataset, DataLoader, RandomSampler, SequentialSampler\n",
        "from torch.nn.utils.rnn import pad_sequence\n",
        "import torch.optim as optim\n",
        "!pip install torchmetrics\n",
        "from torchmetrics import F1\n",
        "from torchmetrics.functional import f1, recall\n",
        "import pandas as pd\n",
        "from sklearn.model_selection import train_test_split\n",
        "import re\n",
        "import nltk\n",
        "nltk.download('stopwords')\n",
        "from nltk.corpus import stopwords\n",
        "from nltk.tokenize import RegexpTokenizer\n",
        "tokenizer = RegexpTokenizer(r'[\\w-]+')\n",
        "stops = set(stopwords.words('english'))\n",
        "from collections import Counter\n",
        "from gensim.models import KeyedVectors\n",
        "import numpy as np"
      ],
      "metadata": {
        "colab": {
          "base_uri": "https://localhost:8080/"
        },
        "id": "bDtfl3rxQ-5u",
        "outputId": "86b92948-ea03-461f-cefb-c0fe60eafbb9"
      },
      "execution_count": 2,
      "outputs": [
        {
          "output_type": "stream",
          "name": "stdout",
          "text": [
            "Collecting torchmetrics\n",
            "  Downloading torchmetrics-0.6.2-py3-none-any.whl (332 kB)\n",
            "\u001b[?25l\r\u001b[K     |█                               | 10 kB 25.4 MB/s eta 0:00:01\r\u001b[K     |██                              | 20 kB 23.2 MB/s eta 0:00:01\r\u001b[K     |███                             | 30 kB 11.2 MB/s eta 0:00:01\r\u001b[K     |████                            | 40 kB 8.8 MB/s eta 0:00:01\r\u001b[K     |█████                           | 51 kB 5.5 MB/s eta 0:00:01\r\u001b[K     |██████                          | 61 kB 5.6 MB/s eta 0:00:01\r\u001b[K     |███████                         | 71 kB 5.5 MB/s eta 0:00:01\r\u001b[K     |███████▉                        | 81 kB 6.2 MB/s eta 0:00:01\r\u001b[K     |████████▉                       | 92 kB 4.9 MB/s eta 0:00:01\r\u001b[K     |█████████▉                      | 102 kB 5.3 MB/s eta 0:00:01\r\u001b[K     |██████████▉                     | 112 kB 5.3 MB/s eta 0:00:01\r\u001b[K     |███████████▉                    | 122 kB 5.3 MB/s eta 0:00:01\r\u001b[K     |████████████▉                   | 133 kB 5.3 MB/s eta 0:00:01\r\u001b[K     |█████████████▉                  | 143 kB 5.3 MB/s eta 0:00:01\r\u001b[K     |██████████████▉                 | 153 kB 5.3 MB/s eta 0:00:01\r\u001b[K     |███████████████▊                | 163 kB 5.3 MB/s eta 0:00:01\r\u001b[K     |████████████████▊               | 174 kB 5.3 MB/s eta 0:00:01\r\u001b[K     |█████████████████▊              | 184 kB 5.3 MB/s eta 0:00:01\r\u001b[K     |██████████████████▊             | 194 kB 5.3 MB/s eta 0:00:01\r\u001b[K     |███████████████████▊            | 204 kB 5.3 MB/s eta 0:00:01\r\u001b[K     |████████████████████▊           | 215 kB 5.3 MB/s eta 0:00:01\r\u001b[K     |█████████████████████▊          | 225 kB 5.3 MB/s eta 0:00:01\r\u001b[K     |██████████████████████▋         | 235 kB 5.3 MB/s eta 0:00:01\r\u001b[K     |███████████████████████▋        | 245 kB 5.3 MB/s eta 0:00:01\r\u001b[K     |████████████████████████▋       | 256 kB 5.3 MB/s eta 0:00:01\r\u001b[K     |█████████████████████████▋      | 266 kB 5.3 MB/s eta 0:00:01\r\u001b[K     |██████████████████████████▋     | 276 kB 5.3 MB/s eta 0:00:01\r\u001b[K     |███████████████████████████▋    | 286 kB 5.3 MB/s eta 0:00:01\r\u001b[K     |████████████████████████████▋   | 296 kB 5.3 MB/s eta 0:00:01\r\u001b[K     |█████████████████████████████▋  | 307 kB 5.3 MB/s eta 0:00:01\r\u001b[K     |██████████████████████████████▌ | 317 kB 5.3 MB/s eta 0:00:01\r\u001b[K     |███████████████████████████████▌| 327 kB 5.3 MB/s eta 0:00:01\r\u001b[K     |████████████████████████████████| 332 kB 5.3 MB/s \n",
            "\u001b[?25hRequirement already satisfied: numpy>=1.17.2 in /usr/local/lib/python3.7/dist-packages (from torchmetrics) (1.19.5)\n",
            "Requirement already satisfied: torch>=1.3.1 in /usr/local/lib/python3.7/dist-packages (from torchmetrics) (1.10.0+cu111)\n",
            "Requirement already satisfied: packaging in /usr/local/lib/python3.7/dist-packages (from torchmetrics) (21.3)\n",
            "Requirement already satisfied: typing-extensions in /usr/local/lib/python3.7/dist-packages (from torch>=1.3.1->torchmetrics) (3.10.0.2)\n",
            "Requirement already satisfied: pyparsing!=3.0.5,>=2.0.2 in /usr/local/lib/python3.7/dist-packages (from packaging->torchmetrics) (3.0.6)\n",
            "Installing collected packages: torchmetrics\n",
            "Successfully installed torchmetrics-0.6.2\n",
            "[nltk_data] Downloading package stopwords to /root/nltk_data...\n",
            "[nltk_data]   Unzipping corpora/stopwords.zip.\n"
          ]
        }
      ]
    },
    {
      "cell_type": "code",
      "source": [
        "DEVICE = torch.device('cuda') if torch.cuda.is_available() else torch.device('cpu')\n",
        "DEVICE"
      ],
      "metadata": {
        "colab": {
          "base_uri": "https://localhost:8080/"
        },
        "id": "ZRWhc1L-MP_A",
        "outputId": "2a3b054c-d302-4949-9aa8-4937cab3302b"
      },
      "execution_count": 3,
      "outputs": [
        {
          "output_type": "execute_result",
          "data": {
            "text/plain": [
              "device(type='cuda')"
            ]
          },
          "metadata": {},
          "execution_count": 3
        }
      ]
    },
    {
      "cell_type": "markdown",
      "source": [
        "### data"
      ],
      "metadata": {
        "id": "Uee4rEkWTDm3"
      }
    },
    {
      "cell_type": "code",
      "execution_count": 4,
      "metadata": {
        "colab": {
          "base_uri": "https://localhost:8080/"
        },
        "id": "oNMSyBrcJYC4",
        "outputId": "439c1f2a-fe79-4800-b6f0-598d8571ff5c"
      },
      "outputs": [
        {
          "output_type": "stream",
          "name": "stdout",
          "text": [
            "Downloading...\n",
            "From: https://drive.google.com/uc?id=1hrvIpvPTITVZcuDg3houUO7Qdss53Pke\n",
            "To: /content/Fake.csv\n",
            "100% 62.8M/62.8M [00:00<00:00, 108MB/s] \n"
          ]
        }
      ],
      "source": [
        "!gdown --id 1hrvIpvPTITVZcuDg3houUO7Qdss53Pke"
      ]
    },
    {
      "cell_type": "code",
      "source": [
        "fake = pd.read_csv('Fake.csv')\n",
        "fake.head(3)"
      ],
      "metadata": {
        "colab": {
          "base_uri": "https://localhost:8080/",
          "height": 143
        },
        "id": "yiKyhWcfM6FG",
        "outputId": "9004b59b-d99c-454a-e8b1-099e235ea46a"
      },
      "execution_count": 5,
      "outputs": [
        {
          "output_type": "execute_result",
          "data": {
            "text/html": [
              "\n",
              "  <div id=\"df-45765984-5226-48ca-a22c-7510017a4669\">\n",
              "    <div class=\"colab-df-container\">\n",
              "      <div>\n",
              "<style scoped>\n",
              "    .dataframe tbody tr th:only-of-type {\n",
              "        vertical-align: middle;\n",
              "    }\n",
              "\n",
              "    .dataframe tbody tr th {\n",
              "        vertical-align: top;\n",
              "    }\n",
              "\n",
              "    .dataframe thead th {\n",
              "        text-align: right;\n",
              "    }\n",
              "</style>\n",
              "<table border=\"1\" class=\"dataframe\">\n",
              "  <thead>\n",
              "    <tr style=\"text-align: right;\">\n",
              "      <th></th>\n",
              "      <th>title</th>\n",
              "      <th>text</th>\n",
              "      <th>subject</th>\n",
              "      <th>date</th>\n",
              "    </tr>\n",
              "  </thead>\n",
              "  <tbody>\n",
              "    <tr>\n",
              "      <th>0</th>\n",
              "      <td>Donald Trump Sends Out Embarrassing New Year’...</td>\n",
              "      <td>Donald Trump just couldn t wish all Americans ...</td>\n",
              "      <td>News</td>\n",
              "      <td>December 31, 2017</td>\n",
              "    </tr>\n",
              "    <tr>\n",
              "      <th>1</th>\n",
              "      <td>Drunk Bragging Trump Staffer Started Russian ...</td>\n",
              "      <td>House Intelligence Committee Chairman Devin Nu...</td>\n",
              "      <td>News</td>\n",
              "      <td>December 31, 2017</td>\n",
              "    </tr>\n",
              "    <tr>\n",
              "      <th>2</th>\n",
              "      <td>Sheriff David Clarke Becomes An Internet Joke...</td>\n",
              "      <td>On Friday, it was revealed that former Milwauk...</td>\n",
              "      <td>News</td>\n",
              "      <td>December 30, 2017</td>\n",
              "    </tr>\n",
              "  </tbody>\n",
              "</table>\n",
              "</div>\n",
              "      <button class=\"colab-df-convert\" onclick=\"convertToInteractive('df-45765984-5226-48ca-a22c-7510017a4669')\"\n",
              "              title=\"Convert this dataframe to an interactive table.\"\n",
              "              style=\"display:none;\">\n",
              "        \n",
              "  <svg xmlns=\"http://www.w3.org/2000/svg\" height=\"24px\"viewBox=\"0 0 24 24\"\n",
              "       width=\"24px\">\n",
              "    <path d=\"M0 0h24v24H0V0z\" fill=\"none\"/>\n",
              "    <path d=\"M18.56 5.44l.94 2.06.94-2.06 2.06-.94-2.06-.94-.94-2.06-.94 2.06-2.06.94zm-11 1L8.5 8.5l.94-2.06 2.06-.94-2.06-.94L8.5 2.5l-.94 2.06-2.06.94zm10 10l.94 2.06.94-2.06 2.06-.94-2.06-.94-.94-2.06-.94 2.06-2.06.94z\"/><path d=\"M17.41 7.96l-1.37-1.37c-.4-.4-.92-.59-1.43-.59-.52 0-1.04.2-1.43.59L10.3 9.45l-7.72 7.72c-.78.78-.78 2.05 0 2.83L4 21.41c.39.39.9.59 1.41.59.51 0 1.02-.2 1.41-.59l7.78-7.78 2.81-2.81c.8-.78.8-2.07 0-2.86zM5.41 20L4 18.59l7.72-7.72 1.47 1.35L5.41 20z\"/>\n",
              "  </svg>\n",
              "      </button>\n",
              "      \n",
              "  <style>\n",
              "    .colab-df-container {\n",
              "      display:flex;\n",
              "      flex-wrap:wrap;\n",
              "      gap: 12px;\n",
              "    }\n",
              "\n",
              "    .colab-df-convert {\n",
              "      background-color: #E8F0FE;\n",
              "      border: none;\n",
              "      border-radius: 50%;\n",
              "      cursor: pointer;\n",
              "      display: none;\n",
              "      fill: #1967D2;\n",
              "      height: 32px;\n",
              "      padding: 0 0 0 0;\n",
              "      width: 32px;\n",
              "    }\n",
              "\n",
              "    .colab-df-convert:hover {\n",
              "      background-color: #E2EBFA;\n",
              "      box-shadow: 0px 1px 2px rgba(60, 64, 67, 0.3), 0px 1px 3px 1px rgba(60, 64, 67, 0.15);\n",
              "      fill: #174EA6;\n",
              "    }\n",
              "\n",
              "    [theme=dark] .colab-df-convert {\n",
              "      background-color: #3B4455;\n",
              "      fill: #D2E3FC;\n",
              "    }\n",
              "\n",
              "    [theme=dark] .colab-df-convert:hover {\n",
              "      background-color: #434B5C;\n",
              "      box-shadow: 0px 1px 3px 1px rgba(0, 0, 0, 0.15);\n",
              "      filter: drop-shadow(0px 1px 2px rgba(0, 0, 0, 0.3));\n",
              "      fill: #FFFFFF;\n",
              "    }\n",
              "  </style>\n",
              "\n",
              "      <script>\n",
              "        const buttonEl =\n",
              "          document.querySelector('#df-45765984-5226-48ca-a22c-7510017a4669 button.colab-df-convert');\n",
              "        buttonEl.style.display =\n",
              "          google.colab.kernel.accessAllowed ? 'block' : 'none';\n",
              "\n",
              "        async function convertToInteractive(key) {\n",
              "          const element = document.querySelector('#df-45765984-5226-48ca-a22c-7510017a4669');\n",
              "          const dataTable =\n",
              "            await google.colab.kernel.invokeFunction('convertToInteractive',\n",
              "                                                     [key], {});\n",
              "          if (!dataTable) return;\n",
              "\n",
              "          const docLinkHtml = 'Like what you see? Visit the ' +\n",
              "            '<a target=\"_blank\" href=https://colab.research.google.com/notebooks/data_table.ipynb>data table notebook</a>'\n",
              "            + ' to learn more about interactive tables.';\n",
              "          element.innerHTML = '';\n",
              "          dataTable['output_type'] = 'display_data';\n",
              "          await google.colab.output.renderOutput(dataTable, element);\n",
              "          const docLink = document.createElement('div');\n",
              "          docLink.innerHTML = docLinkHtml;\n",
              "          element.appendChild(docLink);\n",
              "        }\n",
              "      </script>\n",
              "    </div>\n",
              "  </div>\n",
              "  "
            ],
            "text/plain": [
              "                                               title  ...               date\n",
              "0   Donald Trump Sends Out Embarrassing New Year’...  ...  December 31, 2017\n",
              "1   Drunk Bragging Trump Staffer Started Russian ...  ...  December 31, 2017\n",
              "2   Sheriff David Clarke Becomes An Internet Joke...  ...  December 30, 2017\n",
              "\n",
              "[3 rows x 4 columns]"
            ]
          },
          "metadata": {},
          "execution_count": 5
        }
      ]
    },
    {
      "cell_type": "code",
      "source": [
        "fake = fake.drop_duplicates()"
      ],
      "metadata": {
        "id": "aSMNx9828LyA"
      },
      "execution_count": 6,
      "outputs": []
    },
    {
      "cell_type": "code",
      "source": [
        "fake['subject'].unique()"
      ],
      "metadata": {
        "colab": {
          "base_uri": "https://localhost:8080/"
        },
        "id": "7RVvqy0SM8R5",
        "outputId": "573a9ede-7425-4308-df98-f8ebc43bbad6"
      },
      "execution_count": 7,
      "outputs": [
        {
          "output_type": "execute_result",
          "data": {
            "text/plain": [
              "array(['News', 'politics', 'Government News', 'left-news', 'US_News',\n",
              "       'Middle-east'], dtype=object)"
            ]
          },
          "metadata": {},
          "execution_count": 7
        }
      ]
    },
    {
      "cell_type": "code",
      "source": [
        "fake.groupby('subject').size()"
      ],
      "metadata": {
        "colab": {
          "base_uri": "https://localhost:8080/"
        },
        "id": "ugxXlR6HuIGV",
        "outputId": "47590670-d70e-4772-aadd-21c4780f49c9"
      },
      "execution_count": 8,
      "outputs": [
        {
          "output_type": "execute_result",
          "data": {
            "text/plain": [
              "subject\n",
              "Government News    1570\n",
              "Middle-east         778\n",
              "News               9050\n",
              "US_News             783\n",
              "left-news          4459\n",
              "politics           6838\n",
              "dtype: int64"
            ]
          },
          "metadata": {},
          "execution_count": 8
        }
      ]
    },
    {
      "cell_type": "markdown",
      "source": [
        "unbalanced, некоторые классы в >10 раз больше других\n",
        "но нужно брать данные которые есть, иначе сеть быстро переобучится"
      ],
      "metadata": {
        "id": "vOYCg65TuXEA"
      }
    },
    {
      "cell_type": "markdown",
      "source": [
        "preproc:\n",
        "\n",
        "1) split dates: 2017rofl\n",
        "\n",
        "split < news/>.< news/>\n",
        "\n",
        "2) @ to USERNAME, # to HASHTAG, pic to PH, \\$[0-9]+ to $MONEY\n",
        "\n",
        "3) Photo by Spencer Platt/Getty Images. DELETE"
      ],
      "metadata": {
        "id": "4cLj1jOQPOxj"
      }
    },
    {
      "cell_type": "code",
      "source": [
        "def preprocess(text):\n",
        "    text = re.sub('\\(?@[\\w\\._]+\\)?([^\\w_])', r'USERNAME\\1', text)\n",
        "    text = re.sub('#[\\w_]+([^\\w_])', r'HASHTAG \\1', text)\n",
        "    text = re.sub('http[^ ]+', r'LINK', text)\n",
        "    text = re.sub('pic\\.[^ ]+', r'PHOTO', text)\n",
        "    text = re.sub('$[0-9 \\.]+([ \\.\\?!])', r'MONEY\\1', text)\n",
        "    text = re.sub('([0-9]+)([^ ])', r'\\1 \\2', text)\n",
        "    text = re.sub('(\\w)[\\.\\?!:;](\\w)', r'\\1 \\2', text)\n",
        "    return text.lower()"
      ],
      "metadata": {
        "id": "lpgiVDThudD6"
      },
      "execution_count": 9,
      "outputs": []
    },
    {
      "cell_type": "markdown",
      "source": [
        "Не очень понятно, какие вектора все-таки брать для аббревиатур (тоже случайным образом как с unk? -0.25;025??? поэтому пусть будет lower, хотя можно было бы брать вектор для photo / picture, поэтому пусть так и будет"
      ],
      "metadata": {
        "id": "o4auvAZB9Gak"
      }
    },
    {
      "cell_type": "code",
      "source": [
        "t = 'https://t.co/zcbyc4Wp5b KeithLeBlanc (@KeithLeBlanc63) December 30, 2017I just hope the rest of the Village People aren t implicated. Kirk Ketchum (@kirkketchum) December 30, 2017Slaw, baked potatoes, or French fries? pic.twitter.com/fWfXsZupxy ALT- Immigration (@ALT_uscis) December 30, 2017pic.twitter.com/ymsOBLjfxU Pendulum Swinger (@PendulumSwngr) December 30, 2017you called your police friends to stand up for you when someone made fun of your hat Chris Jackson (@ChrisCJackson) December 30, 2017Is it me, with this masterful pshop of your hat, which I seem to never tire of. I think it s the steely resolve in your one visible eye pic.twitter.com/dWr5k8ZEZV'\n",
        "preprocess(t)"
      ],
      "metadata": {
        "colab": {
          "base_uri": "https://localhost:8080/",
          "height": 87
        },
        "id": "5u5rsmktuV9e",
        "outputId": "0fa5796b-842c-489d-d875-1cf4a58764cb"
      },
      "execution_count": 10,
      "outputs": [
        {
          "output_type": "execute_result",
          "data": {
            "application/vnd.google.colaboratory.intrinsic+json": {
              "type": "string"
            },
            "text/plain": [
              "'link keithleblanc username december 30 , 2017 i just hope the rest of the village people aren t implicated. kirk ketchum username december 30 , 2017 slaw, baked potatoes, or french fries? photo alt- immigration username december 30 , 2017 photo pendulum swinger username december 30 , 2017 you called your police friends to stand up for you when someone made fun of your hat chris jackson username december 30 , 2017 is it me, with this masterful pshop of your hat, which i seem to never tire of. i think it s the steely resolve in your one visible eye photo'"
            ]
          },
          "metadata": {},
          "execution_count": 10
        }
      ]
    },
    {
      "cell_type": "code",
      "source": [
        "def tokenize(text):\n",
        "    toks = tokenizer.tokenize(text)\n",
        "    toks = [tok for tok in toks if tok not in stops]\n",
        "\n",
        "    return toks"
      ],
      "metadata": {
        "id": "ZZGJEokzM-Lb"
      },
      "execution_count": 11,
      "outputs": []
    },
    {
      "cell_type": "code",
      "source": [
        "fake['clean'] = fake['text'].apply(lambda x: preprocess(x))\n",
        "fake['tokens'] = fake['clean'].apply(lambda x: tokenize(x))\n",
        "fake['length'] = fake['tokens'].apply(lambda x: len(x))"
      ],
      "metadata": {
        "id": "RQtnTElfS7LE"
      },
      "execution_count": 12,
      "outputs": []
    },
    {
      "cell_type": "code",
      "source": [
        "fake['length'].median()"
      ],
      "metadata": {
        "colab": {
          "base_uri": "https://localhost:8080/"
        },
        "id": "DhQCGd4p14Hb",
        "outputId": "2d0d93a2-5c85-4059-fc9f-33d485c0bcee"
      },
      "execution_count": 13,
      "outputs": [
        {
          "output_type": "execute_result",
          "data": {
            "text/plain": [
              "205.0"
            ]
          },
          "metadata": {},
          "execution_count": 13
        }
      ]
    },
    {
      "cell_type": "code",
      "source": [
        "fake['length'].mean()"
      ],
      "metadata": {
        "colab": {
          "base_uri": "https://localhost:8080/"
        },
        "id": "aCJ_iucc2FzO",
        "outputId": "f52be730-9424-40be-d4fb-1c2f23d8beff"
      },
      "execution_count": 14,
      "outputs": [
        {
          "output_type": "execute_result",
          "data": {
            "text/plain": [
              "242.4925036204106"
            ]
          },
          "metadata": {},
          "execution_count": 14
        }
      ]
    },
    {
      "cell_type": "code",
      "source": [
        "fake['length'].max()"
      ],
      "metadata": {
        "colab": {
          "base_uri": "https://localhost:8080/"
        },
        "id": "2th_1tc02NuP",
        "outputId": "32dfbda1-7685-4e7d-88d4-ddd432b27c48"
      },
      "execution_count": 35,
      "outputs": [
        {
          "output_type": "execute_result",
          "data": {
            "text/plain": [
              "5037"
            ]
          },
          "metadata": {},
          "execution_count": 35
        }
      ]
    },
    {
      "cell_type": "code",
      "source": [
        "fake['length'].quantile(0.9)"
      ],
      "metadata": {
        "colab": {
          "base_uri": "https://localhost:8080/"
        },
        "id": "-EG-qT7H-zjY",
        "outputId": "8182cb17-c580-453b-bf89-fc1dbb394108"
      },
      "execution_count": 48,
      "outputs": [
        {
          "output_type": "execute_result",
          "data": {
            "text/plain": [
              "408.0"
            ]
          },
          "metadata": {},
          "execution_count": 48
        }
      ]
    },
    {
      "cell_type": "code",
      "source": [
        "indexes = range(0, len(fake['length']))"
      ],
      "metadata": {
        "id": "RjerGMPJ2xgi"
      },
      "execution_count": 15,
      "outputs": []
    },
    {
      "cell_type": "code",
      "source": [
        "import matplotlib.pyplot as plt\n",
        "\n",
        "plt.scatter(indexes, fake['length'])\n",
        "plt.show()"
      ],
      "metadata": {
        "colab": {
          "base_uri": "https://localhost:8080/",
          "height": 265
        },
        "id": "fIAIr3L32Q46",
        "outputId": "704435fa-965e-4a08-ee23-ffa1b9911606"
      },
      "execution_count": 38,
      "outputs": [
        {
          "output_type": "display_data",
          "data": {
            "image/png": "[encoded data removed]",
            "text/plain": [
              "<Figure size 432x288 with 1 Axes>"
            ]
          },
          "metadata": {
            "needs_background": "light"
          }
        }
      ]
    },
    {
      "cell_type": "markdown",
      "source": [
        "Под конец были длинные тексты, но так как я убрала стоп-слова, они уже не 8к, а 5к. Среднее тоже подвинулось, квантили тоже сместились.\n",
        "Если бы мы классфицировали на фейк и не фейк, там было бы принципиально соотношение обращений. Здесь все фейк, так что все стопы можно стереть, я думаю."
      ],
      "metadata": {
        "id": "V64ZxQhh3aPa"
      }
    },
    {
      "cell_type": "markdown",
      "source": [
        "Давайте паддить до квантиля 0.75 (520) #upd в графике хорошо бы добавить измерение теплоты чтобы было  понятнее где основная масса наблюдений\n",
        "\n",
        "upd: 0.9 после убирания стоп слов 408, будем паддить до нее, т.к. максимум 5к все же слишком много. а 408 еще и меньше +- стандартных 512"
      ],
      "metadata": {
        "id": "2_-hcAUg2HrT"
      }
    },
    {
      "cell_type": "code",
      "source": [
        "t = '''Government News    1570\n",
        "Middle-east        778 \n",
        "News               9050\n",
        "US_News            783 \n",
        "left-news          4459\n",
        "politics           6838'''.splitlines()\n",
        "\n",
        "lab = dict()\n",
        "nums = Counter()\n",
        "for line in t:\n",
        "    sub, num = re.split('  +', line)\n",
        "    nums[sub] = num\n",
        "\n",
        "for num, (k,v) in enumerate(nums.most_common()):\n",
        "    lab[k] = num + 1\n",
        "\n",
        "lab"
      ],
      "metadata": {
        "colab": {
          "base_uri": "https://localhost:8080/"
        },
        "id": "E9kuzGOD_fsf",
        "outputId": "9676f0b3-62cf-4cb9-ff24-f9007627f567"
      },
      "execution_count": 17,
      "outputs": [
        {
          "output_type": "execute_result",
          "data": {
            "text/plain": [
              "{'Government News': 6,\n",
              " 'Middle-east': 3,\n",
              " 'News': 1,\n",
              " 'US_News': 2,\n",
              " 'left-news': 5,\n",
              " 'politics': 4}"
            ]
          },
          "metadata": {},
          "execution_count": 17
        }
      ]
    },
    {
      "cell_type": "code",
      "source": [
        "fake['label'] = fake['subject'].apply(lambda x: lab[x])"
      ],
      "metadata": {
        "id": "fJRYOBLE_XGS"
      },
      "execution_count": 18,
      "outputs": []
    },
    {
      "cell_type": "markdown",
      "source": [
        "### article"
      ],
      "metadata": {
        "id": "HwNQY8UAS8SR"
      }
    },
    {
      "cell_type": "markdown",
      "source": [
        "* C-LSTM\n",
        "\n",
        "CNN: extract a sequence of higher-level phrase representations -> LSTM to\n",
        "obtain the sentence representation"
      ],
      "metadata": {
        "id": "HRRmb0IwS-CQ"
      }
    },
    {
      "cell_type": "markdown",
      "source": [
        "CNN - capturing local correlations of spatial or temporal structures\n",
        "\n",
        "can learn short and long-range relations through pooling operations\n",
        "\n",
        "\n",
        "RNN – is able to handle sequences of any length\n",
        "and capture long-term dependencies\n",
        "\n",
        "1) one-layer CNN output\n",
        "1.1) pre-trained word vectors from massive unlabeled text data to learn higher-level representions of n-grams.\n",
        "1.2) Then to learn sequential correlations from higher-level suqence representations, **the feature maps of CNN are organized as sequential window\n",
        "features** to serve as the input of LSTM\n",
        "2) to lstm\n",
        "\n",
        "transform each each sentence to n-gram\n",
        "\n",
        "eval: sentiment, 6-way question classification\n",
        "\n",
        "\n",
        "* feature map\n",
        "* window feature sequence layer corresponds to features for the same window\n",
        "* The dashed lines connect the feature of a window with the source feature map\n",
        "* The final output of the entire model is the last hidden unit of LSTM"
      ],
      "metadata": {
        "id": "lSfVohLSTfsK"
      }
    },
    {
      "cell_type": "markdown",
      "source": [
        "1) one-dimensional convolution involves a filter\n",
        "vector sliding over a sequence and detecting features at different positions\n",
        "\n",
        "2) For each position\n",
        "j in the sentence, we have a window vector wj with\n",
        "k consecutive word vectors\n",
        "\n",
        "3) filter m convolves with the window vectors\n",
        "(k-grams) at each position in a valid way to generate a feature map c ∈ R\n",
        "L−k+1; each element cj of\n",
        "the feature map for window vector wj is produced\n",
        "as follows:\n",
        "cj = f(wj ◦ m + b), \n",
        "◦ is element-wise multiplication, b ∈ R is a\n",
        "bias term and f is a nonlinear transformation function that can be sigmoid, hyperbolic tangent, etc. In\n",
        "our case, we choose ReLU \n",
        "\n",
        "4) feature maps can be rearranged as feature representations for each window wj ,\n",
        "W = [c1; c2; · · · ; cn\n",
        "______________________\n",
        "5) ![image.png](data:image/png;base64,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)"
      ],
      "metadata": {
        "id": "EXzCYfQBaQHm"
      }
    },
    {
      "cell_type": "markdown",
      "source": [
        "6) For text classification, we regard the output of the\n",
        "hidden state at the last time step of LSTM as the\n",
        "document representation and we add a softmax layer\n",
        "on top.\n",
        "\n",
        "\n",
        "7) minimizing\n",
        "the cross-entropy error\n",
        "\n",
        "8) stochastic gradient descent (SGD) to learn the model\n",
        "parameters and adopt the optimizer RMSprop"
      ],
      "metadata": {
        "id": "X4ZSyD6ffc4s"
      }
    },
    {
      "cell_type": "markdown",
      "source": [
        "9) PADDING - maxlen\n",
        "\n",
        "10) word2vec, 300, UNK: [-0.25, 0.25]"
      ],
      "metadata": {
        "id": "Tomecm4sksiS"
      }
    },
    {
      "cell_type": "markdown",
      "source": [
        "regularization:\n",
        "\n",
        "11) dropout (before feeding / before putting to lstm before softmax)\n",
        "\n",
        "12) l2 weight reg to softmax"
      ],
      "metadata": {
        "id": "D2D-sA2xnEp0"
      }
    },
    {
      "cell_type": "markdown",
      "source": [
        "experiments:\n",
        "\n",
        "Ex1: sentiment polar movie reviews Ex2: questions"
      ],
      "metadata": {
        "id": "4iv-VYbQnab9"
      }
    },
    {
      "cell_type": "markdown",
      "source": [
        "5.2 For text preprocessing, we only\n",
        "convert all characters in the dataset to lower case. >> BAD FOR FAKE NEWS  \n",
        "\n",
        "\n",
        "(number of\n",
        "filters: 150 / 300\n",
        " \n",
        "filter length in CNN: 2,3,4\n",
        " \n",
        "memory dimension in\n",
        "LSTM: 150 / 300\n",
        " \n",
        "dropout rate: 0.5\n",
        " \n",
        "l2: 0.001  to the weights in the softmax\n",
        "layer for both tasks"
      ],
      "metadata": {
        "id": "U0F9R_f7qAG1"
      }
    },
    {
      "cell_type": "markdown",
      "source": [
        "### practice"
      ],
      "metadata": {
        "id": "jI_uaAxAa0wX"
      }
    },
    {
      "cell_type": "markdown",
      "source": [
        "3) реализуйте на pytorch ту архитектуру модели, которую в итоге тестировали авторы (подробное описание есть в статье), таким образом, чтобы это был пайплайн для проведения экспериментов: можно было запускать модель с:\n",
        "\n",
        "\n",
        "* maxlen\n",
        "* reg type RMSprop, 0.001\n",
        "* reg place: -> softmax\n",
        "* padding\n",
        "* vectorization\n",
        "* number of filters: 150 / 300\n",
        "* filter length in CNN: 2,3,4\n",
        "* memory dimension: 150/300\n",
        "* dropout 0.5, before feeding / before softmax"
      ],
      "metadata": {
        "id": "JpqNEQDGBKdZ"
      }
    },
    {
      "cell_type": "code",
      "source": [
        "corpus_toks = []\n",
        "for sublist in fake['tokens']:\n",
        "    corpus_toks += sublist\n",
        "\n",
        "corpus_toks = Counter(corpus_toks)\n",
        "\n",
        "word2id = {'PAD':0, 'UNK':1}\n",
        "c = 0\n",
        "for k, length in corpus_toks.most_common():\n",
        "  c += 1\n",
        "  if length > 3:\n",
        "    word2id[k] = c\n",
        "\n",
        "len(word2id)"
      ],
      "metadata": {
        "colab": {
          "base_uri": "https://localhost:8080/"
        },
        "id": "6QsRvHUkIPx4",
        "outputId": "4fd0de86-33c7-450d-c8ba-6a088f079240"
      },
      "execution_count": 19,
      "outputs": [
        {
          "output_type": "execute_result",
          "data": {
            "text/plain": [
              "41314"
            ]
          },
          "metadata": {},
          "execution_count": 19
        }
      ]
    },
    {
      "cell_type": "code",
      "source": [
        "id2word = {i:word for word, i in word2id.items()}"
      ],
      "metadata": {
        "id": "yMPww5wNO_X3"
      },
      "execution_count": 20,
      "outputs": []
    },
    {
      "cell_type": "code",
      "source": [
        "!gdown --id 0B7XkCwpI5KDYNlNUTTlSS21pQmM # https://drive.google.com/file/d/0B7XkCwpI5KDYNlNUTTlSS21pQmM/edit?resourcekey=0-wjGZdNAUop6WykTtMip30g"
      ],
      "metadata": {
        "colab": {
          "base_uri": "https://localhost:8080/"
        },
        "id": "zoSYzJRdBtdg",
        "outputId": "055515f0-31a9-4645-80c7-8fe7eb04f988"
      },
      "execution_count": 21,
      "outputs": [
        {
          "output_type": "stream",
          "name": "stdout",
          "text": [
            "Downloading...\n",
            "From: https://drive.google.com/uc?id=0B7XkCwpI5KDYNlNUTTlSS21pQmM\n",
            "To: /content/GoogleNews-vectors-negative300.bin.gz\n",
            "100% 1.65G/1.65G [00:13<00:00, 127MB/s]\n"
          ]
        }
      ]
    },
    {
      "cell_type": "code",
      "source": [
        "w2v = KeyedVectors.load_word2vec_format('/content/GoogleNews-vectors-negative300.bin.gz', binary=True)"
      ],
      "metadata": {
        "id": "1x0Pn6ZLL0-o"
      },
      "execution_count": 23,
      "outputs": []
    },
    {
      "cell_type": "code",
      "source": [
        "weights = np.zeros((len(word2id), 300))\n",
        "count = 0\n",
        "for word, i in word2id.items():\n",
        "    if word == 'PAD':\n",
        "        continue   \n",
        "    try:\n",
        "        weights[i] = w2v.wv[word]    \n",
        "    except KeyError:\n",
        "      count += 1\n",
        "      weights[i] = np.random.uniform(-0.25, 0.25, 300)\n",
        "      # oov с-0.25:0:25\n",
        "      "
      ],
      "metadata": {
        "colab": {
          "base_uri": "https://localhost:8080/"
        },
        "id": "Cbxeog6rME4i",
        "outputId": "03081578-f394-44b1-b836-d00478766d9a"
      },
      "execution_count": 24,
      "outputs": [
        {
          "output_type": "stream",
          "name": "stderr",
          "text": [
            "/usr/local/lib/python3.7/dist-packages/ipykernel_launcher.py:7: DeprecationWarning: Call to deprecated `wv` (Attribute will be removed in 4.0.0, use self instead).\n",
            "  import sys\n"
          ]
        }
      ]
    },
    {
      "cell_type": "code",
      "source": [
        "class NewsDataset(Dataset):\n",
        "\n",
        "    def __init__(self, dataset, word2id, maxlen, DEVICE):\n",
        "        self.dataset = dataset['tokens'].values\n",
        "        self.word2id = word2id\n",
        "        self.length = dataset.shape[0]\n",
        "        self.target = dataset['label'].values\n",
        "        self.maxlen = maxlen\n",
        "        self.device = DEVICE\n",
        "\n",
        "    def __len__(self): #это обязательный метод, он должен уметь считать длину датасета\n",
        "        return self.length\n",
        "\n",
        "    def __getitem__(self, index): #еще один обязательный метод. По индексу возвращает элемент выборки\n",
        "        tokens = self.dataset[index] # токенизируем\n",
        "        ids = torch.LongTensor([self.word2id[token] for token in tokens if token in self.word2id][:self.maxlen])\n",
        "        y = [self.target[index]]\n",
        "        return ids, y\n",
        "\n",
        "    def collate_fn(self, batch): #этот метод можно реализовывать и отдельно,\n",
        "    # он понадобится для DataLoader во время итерации по батчам\n",
        "      ids, y = list(zip(*batch))\n",
        "      #padded_ids = torch.stack([F.pad(id_, (0, self.maxlen - len(id_))) for id_ in ids], dim=0)\n",
        "      #padded_ids = torch.vstack([F.pad(seq, pad=(0, self.maxlen - seq.shape[0])) for seq in ids])\n",
        "      #padded_ids = pad_sequence(padded_ids, batch_first=True).to(self.device)\n",
        "      padded_ids = torch.vstack([F.pad(idx, pad=(0, self.maxlen - idx.shape[0])) for idx in ids])\n",
        "      padded_ids = pad_sequence(ids).to(self.device)\n",
        "      y = torch.Tensor(y).to(self.device)\n",
        "      return padded_ids, y"
      ],
      "metadata": {
        "id": "WNqJuKQtQvtP"
      },
      "execution_count": 66,
      "outputs": []
    },
    {
      "cell_type": "code",
      "source": [
        "maxlen = 408\n",
        "\n",
        "train_data, val_data = train_test_split(fake[['tokens', 'label']], test_size=0.2, stratify=fake['label'], random_state=42)\n",
        "\n",
        "train_dataset = NewsDataset(train_data, word2id, maxlen, DEVICE)\n",
        "train_sampler = RandomSampler(train_dataset)\n",
        "train_iterator = DataLoader(train_dataset, collate_fn=train_dataset.collate_fn, sampler=train_sampler, batch_size=1024)\n",
        "\n",
        "val_dataset = NewsDataset(val_data, word2id, maxlen, DEVICE)\n",
        "val_sampler = SequentialSampler(val_dataset)\n",
        "val_iterator = DataLoader(val_dataset, collate_fn=train_dataset.collate_fn, sampler=val_sampler, batch_size=1024)"
      ],
      "metadata": {
        "id": "LwKdHWWaXcl_"
      },
      "execution_count": 67,
      "outputs": []
    },
    {
      "cell_type": "markdown",
      "source": [
        "* maxlen\n",
        "* reg type RMSprop, 0.001\n",
        "* reg place: -> softmax \n",
        "* vectorization\n",
        "* number of filters: 150 / 300\n",
        "* filter length in CNN: 2,3,4\n",
        "* memory dimension: 150/300\n",
        "* dropout 0.5, before feeding / before softmax"
      ],
      "metadata": {
        "id": "wfQO4oc3aXXO"
      }
    },
    {
      "cell_type": "code",
      "source": [
        "class CLSTM(nn.Module):\n",
        "    def __init__(self, vocab_size, embedding_dim, hidden, weights, maxlen, dropout, drop_time, filt_num, filt_len:list, mem_dim, class_n):\n",
        "        super().__init__()\n",
        "        self.embedding = nn.Embedding(vocab_size, embedding_dim) #300\n",
        "        self.embedding.from_pretrained(torch.tensor(weights), freeze=True)\n",
        "        self.hidden = hidden # 150\n",
        "\n",
        "        self.maxlen = maxlen\n",
        "        self.dropout = nn.Dropout(p=dropout)\n",
        "        self.drop_time = drop_time\n",
        "\n",
        "        self.filt_num = filt_num\n",
        "        self.filt_len = filt_len\n",
        "        self.mem_dim = mem_dim\n",
        "\n",
        "        self.cnn2 = nn.Conv1d(in_channels=embedding_dim, out_channels=hidden, kernel_size=(2,))\n",
        "        self.cnn3 = nn.Conv1d(in_channels=embedding_dim, out_channels=hidden, kernel_size=(3,))\n",
        "        self.cnn4 = nn.Conv1d(in_channels=embedding_dim, out_channels=hidden, kernel_size=(4,))\n",
        "\n",
        "        self.lstm = nn.LSTM(input_size=self.filt_num*len(self.filt_len), hidden_size=self.mem_dim, num_layers=1, batch_first=True)\n",
        "\n",
        "        self.relu = nn.ReLU()\n",
        "        self.out = nn.Softmax()\n",
        "        self.linear = nn.Linear(hidden, class_n)\n",
        "\n",
        "    def forward(self, word):\n",
        "        #batch_size x seq_len\n",
        "        embedded = self.embedding(word)\n",
        "        #batch_size x seq_len x embedding_dim\n",
        "        embedded = embedded.transpose(1,2)\n",
        "        if self.drop_time == 0:\n",
        "            embedded = self.dropout(embedded)\n",
        "        \n",
        "        f_maps = []\n",
        "        if 2 in self.filt_len:\n",
        "            feature_map = self.relu(self.cnn2(embedded))\n",
        "            f_maps.append(feature_map)\n",
        "        elif 3 in self.filt_len:\n",
        "            feature_map = self.relu(self.cnn3(embedded))\n",
        "            f_maps.append(feature_map)\n",
        "        elif 4 in self.filt_len:\n",
        "            feature_map = self.relu(self.cnn3(embedded))\n",
        "            f_maps.append(feature_map)\n",
        "\n",
        "        if len(f_maps) > 1:\n",
        "            layers = [layer.transpose(1,2) for layer in f_maps]\n",
        "            l_in = f_maps[0].transpose(1,2)\n",
        "            for layer in layers[1:]:\n",
        "                l_in = torch.cat((l_in, layer), 2)\n",
        "        else:\n",
        "            l_in = f_maps[0].transpose(1,2)\n",
        "\n",
        "        \n",
        "        outout, (hidden, _) = self.lstm(l_in)\n",
        "\n",
        "        if self.drop_time == 1:\n",
        "            logits = self.dropout(hidden)  \n",
        "        logits = self.linear(hidden)\n",
        "        logits = self.out(logits)\n",
        "        return logits"
      ],
      "metadata": {
        "id": "uyoKyirDZBqk"
      },
      "execution_count": 59,
      "outputs": []
    },
    {
      "cell_type": "code",
      "source": [
        "def train(model, iterator, optimizer, criterion):\n",
        "    print('Training...')\n",
        "    epoch_loss = 0 # для подсчета среднего лосса на всех батчах\n",
        "    model.train()  # ставим модель в обучение, явно указываем, что сейчас надо будет хранить градиенты у всех весов\n",
        "\n",
        "    epoch_loss = 0\n",
        "    epoch_metric = 0\n",
        "\n",
        "    for i, (texts, ys) in enumerate(iterator): #итерируемся по батчам\n",
        "        optimizer.zero_grad()  #обнуляем градиенты\n",
        "        preds_proba = model(texts) #прогоняем данные через модель\n",
        "        loss = criterion(preds_proba, ys) #считаем значение функции потерь  \n",
        "        loss.backward() #считаем градиенты  \n",
        "        optimizer.step() #обновляем веса \n",
        "        epoch_loss += loss.item() #сохраняем значение функции потерь\n",
        "        batch_metric = f1(preds_proba.round().long(), ys.long(), ignore_index=0)\n",
        "        epoch_metric += batch_metric\n",
        "\n",
        "        if not (i + 1) % int(len(iterator)/5):\n",
        "              print(f'Val loss: {epoch_loss/i}, Val f1: {epoch_metric/i}')\n",
        "        \n",
        "    return epoch_metric / len(iterator), epoch_loss / len(iterator) # возвращаем среднее значение по всей выборке"
      ],
      "metadata": {
        "id": "z2Dc3i2IuBn8"
      },
      "execution_count": 29,
      "outputs": []
    },
    {
      "cell_type": "code",
      "source": [
        "def evaluate(model, iterator, criterion):\n",
        "    print(\"\\nValidating...\")\n",
        "    epoch_loss = 0\n",
        "    epoch_metric = 0\n",
        "    model.eval() \n",
        "    with torch.no_grad():\n",
        "        for i, (texts, ys) in enumerate(iterator):   \n",
        "            predictions = model(texts)  # делаем предсказания на тесте\n",
        "            loss = criterion(predictions, ys)   # считаем значения функции ошибки для статистики  \n",
        "            epoch_loss += loss.item()\n",
        "            batch_metric = f1(predictions.round().long(), ys.long(), ignore_index=0)\n",
        "            epoch_metric += batch_metric\n",
        "            if not (i + 1) % int(len(iterator)/5):\n",
        "              print(f'Val loss: {epoch_loss/i}, Val f1: {epoch_metric/i}')\n",
        "  \n",
        "        \n",
        "    return epoch_metric / len(iterator), epoch_loss / len(iterator) # возвращаем средний лосс по батчам"
      ],
      "metadata": {
        "id": "uxhbSCECumkL"
      },
      "execution_count": 30,
      "outputs": []
    },
    {
      "cell_type": "code",
      "source": [
        "vocab_size = len(word2id)\n",
        "embedding_dim = 300\n",
        "hidden = 150\n",
        "maxlen = 408\n",
        "dropout = 0.5\n",
        "drop_time = [0, 1]\n",
        "filt_num = 150\n",
        "filt_len = [[2], [3], [4], [2, 3], [2, 4], [3, 4], [2, 3, 4]]\n",
        "mem_dim = 150\n",
        "class_n = 6\n",
        "\n",
        "params_dict = {}\n",
        "\n",
        "for f in filt_len:\n",
        "    for d_time in drop_time:\n",
        "\n",
        "        params = f'{f} {d_time}'\n",
        "        print('Params:', params)\n",
        "\n",
        "        model = CLSTM(vocab_size, embedding_dim, hidden, weights, maxlen, dropout, d_time, filt_num, f, mem_dim, class_n)\n",
        "        optimizer = optim.RMSprop(model.parameters(), 0.001, 0.0001)\n",
        "        criterion = nn.CrossEntropyLoss()\n",
        "\n",
        "        # веса модели и значения лосса храним там же, где и все остальные тензоры\n",
        "        model = model.to(DEVICE)\n",
        "        criterion = criterion.to(DEVICE)\n",
        "\n",
        "        losses = []\n",
        "        losses_eval = []\n",
        "\n",
        "        for i in range(5):\n",
        "            print(f'\\nstarting Epoch {i}')\n",
        "            epoch_loss = train(model, train_iterator, optimizer, criterion)\n",
        "            losses.append(epoch_loss)\n",
        "\n",
        "            epoch_loss_on_test = evaluate(model, val_iterator, criterion)\n",
        "            losses_eval.append(epoch_loss_on_test)\n",
        "\n",
        "        params_dict[params] = {'losses':losses,\n",
        "                               'losses_eval': losses_eval}"
      ],
      "metadata": {
        "colab": {
          "base_uri": "https://localhost:8080/",
          "height": 502
        },
        "id": "EE2ykgt7vtYo",
        "outputId": "465f7909-618f-4276-8f34-3485a5aa053a"
      },
      "execution_count": 72,
      "outputs": [
        {
          "output_type": "stream",
          "name": "stdout",
          "text": [
            "Params: [2] 0\n",
            "\n",
            "starting Epoch 0\n",
            "Training...\n"
          ]
        },
        {
          "output_type": "error",
          "ename": "RuntimeError",
          "evalue": "ignored",
          "traceback": [
            "\u001b[0;31m---------------------------------------------------------------------------\u001b[0m",
            "\u001b[0;31mRuntimeError\u001b[0m                              Traceback (most recent call last)",
            "\u001b[0;32m<ipython-input-72-42516dc4b4ba>\u001b[0m in \u001b[0;36m<module>\u001b[0;34m()\u001b[0m\n\u001b[1;32m     31\u001b[0m         \u001b[0;32mfor\u001b[0m \u001b[0mi\u001b[0m \u001b[0;32min\u001b[0m \u001b[0mrange\u001b[0m\u001b[0;34m(\u001b[0m\u001b[0;36m5\u001b[0m\u001b[0;34m)\u001b[0m\u001b[0;34m:\u001b[0m\u001b[0;34m\u001b[0m\u001b[0;34m\u001b[0m\u001b[0m\n\u001b[1;32m     32\u001b[0m             \u001b[0mprint\u001b[0m\u001b[0;34m(\u001b[0m\u001b[0;34mf'\\nstarting Epoch {i}'\u001b[0m\u001b[0;34m)\u001b[0m\u001b[0;34m\u001b[0m\u001b[0;34m\u001b[0m\u001b[0m\n\u001b[0;32m---> 33\u001b[0;31m             \u001b[0mepoch_loss\u001b[0m \u001b[0;34m=\u001b[0m \u001b[0mtrain\u001b[0m\u001b[0;34m(\u001b[0m\u001b[0mmodel\u001b[0m\u001b[0;34m,\u001b[0m \u001b[0mtrain_iterator\u001b[0m\u001b[0;34m,\u001b[0m \u001b[0moptimizer\u001b[0m\u001b[0;34m,\u001b[0m \u001b[0mcriterion\u001b[0m\u001b[0;34m)\u001b[0m\u001b[0;34m\u001b[0m\u001b[0;34m\u001b[0m\u001b[0m\n\u001b[0m\u001b[1;32m     34\u001b[0m             \u001b[0mlosses\u001b[0m\u001b[0;34m.\u001b[0m\u001b[0mappend\u001b[0m\u001b[0;34m(\u001b[0m\u001b[0mepoch_loss\u001b[0m\u001b[0;34m)\u001b[0m\u001b[0;34m\u001b[0m\u001b[0;34m\u001b[0m\u001b[0m\n\u001b[1;32m     35\u001b[0m \u001b[0;34m\u001b[0m\u001b[0m\n",
            "\u001b[0;32m<ipython-input-29-84851991a116>\u001b[0m in \u001b[0;36mtrain\u001b[0;34m(model, iterator, optimizer, criterion)\u001b[0m\n\u001b[1;32m      9\u001b[0m     \u001b[0;32mfor\u001b[0m \u001b[0mi\u001b[0m\u001b[0;34m,\u001b[0m \u001b[0;34m(\u001b[0m\u001b[0mtexts\u001b[0m\u001b[0;34m,\u001b[0m \u001b[0mys\u001b[0m\u001b[0;34m)\u001b[0m \u001b[0;32min\u001b[0m \u001b[0menumerate\u001b[0m\u001b[0;34m(\u001b[0m\u001b[0miterator\u001b[0m\u001b[0;34m)\u001b[0m\u001b[0;34m:\u001b[0m \u001b[0;31m#итерируемся по батчам\u001b[0m\u001b[0;34m\u001b[0m\u001b[0;34m\u001b[0m\u001b[0m\n\u001b[1;32m     10\u001b[0m         \u001b[0moptimizer\u001b[0m\u001b[0;34m.\u001b[0m\u001b[0mzero_grad\u001b[0m\u001b[0;34m(\u001b[0m\u001b[0;34m)\u001b[0m  \u001b[0;31m#обнуляем градиенты\u001b[0m\u001b[0;34m\u001b[0m\u001b[0;34m\u001b[0m\u001b[0m\n\u001b[0;32m---> 11\u001b[0;31m         \u001b[0mpreds_proba\u001b[0m \u001b[0;34m=\u001b[0m \u001b[0mmodel\u001b[0m\u001b[0;34m(\u001b[0m\u001b[0mtexts\u001b[0m\u001b[0;34m)\u001b[0m \u001b[0;31m#прогоняем данные через модель\u001b[0m\u001b[0;34m\u001b[0m\u001b[0;34m\u001b[0m\u001b[0m\n\u001b[0m\u001b[1;32m     12\u001b[0m         \u001b[0mloss\u001b[0m \u001b[0;34m=\u001b[0m \u001b[0mcriterion\u001b[0m\u001b[0;34m(\u001b[0m\u001b[0mpreds_proba\u001b[0m\u001b[0;34m,\u001b[0m \u001b[0mys\u001b[0m\u001b[0;34m)\u001b[0m \u001b[0;31m#считаем значение функции потерь\u001b[0m\u001b[0;34m\u001b[0m\u001b[0;34m\u001b[0m\u001b[0m\n\u001b[1;32m     13\u001b[0m         \u001b[0mloss\u001b[0m\u001b[0;34m.\u001b[0m\u001b[0mbackward\u001b[0m\u001b[0;34m(\u001b[0m\u001b[0;34m)\u001b[0m \u001b[0;31m#считаем градиенты\u001b[0m\u001b[0;34m\u001b[0m\u001b[0;34m\u001b[0m\u001b[0m\n",
            "\u001b[0;32m/usr/local/lib/python3.7/dist-packages/torch/nn/modules/module.py\u001b[0m in \u001b[0;36m_call_impl\u001b[0;34m(self, *input, **kwargs)\u001b[0m\n\u001b[1;32m   1100\u001b[0m         if not (self._backward_hooks or self._forward_hooks or self._forward_pre_hooks or _global_backward_hooks\n\u001b[1;32m   1101\u001b[0m                 or _global_forward_hooks or _global_forward_pre_hooks):\n\u001b[0;32m-> 1102\u001b[0;31m             \u001b[0;32mreturn\u001b[0m \u001b[0mforward_call\u001b[0m\u001b[0;34m(\u001b[0m\u001b[0;34m*\u001b[0m\u001b[0minput\u001b[0m\u001b[0;34m,\u001b[0m \u001b[0;34m**\u001b[0m\u001b[0mkwargs\u001b[0m\u001b[0;34m)\u001b[0m\u001b[0;34m\u001b[0m\u001b[0;34m\u001b[0m\u001b[0m\n\u001b[0m\u001b[1;32m   1103\u001b[0m         \u001b[0;31m# Do not call functions when jit is used\u001b[0m\u001b[0;34m\u001b[0m\u001b[0;34m\u001b[0m\u001b[0;34m\u001b[0m\u001b[0m\n\u001b[1;32m   1104\u001b[0m         \u001b[0mfull_backward_hooks\u001b[0m\u001b[0;34m,\u001b[0m \u001b[0mnon_full_backward_hooks\u001b[0m \u001b[0;34m=\u001b[0m \u001b[0;34m[\u001b[0m\u001b[0;34m]\u001b[0m\u001b[0;34m,\u001b[0m \u001b[0;34m[\u001b[0m\u001b[0;34m]\u001b[0m\u001b[0;34m\u001b[0m\u001b[0;34m\u001b[0m\u001b[0m\n",
            "\u001b[0;32m<ipython-input-59-f780242940b4>\u001b[0m in \u001b[0;36mforward\u001b[0;34m(self, word)\u001b[0m\n\u001b[1;32m     26\u001b[0m     \u001b[0;32mdef\u001b[0m \u001b[0mforward\u001b[0m\u001b[0;34m(\u001b[0m\u001b[0mself\u001b[0m\u001b[0;34m,\u001b[0m \u001b[0mword\u001b[0m\u001b[0;34m)\u001b[0m\u001b[0;34m:\u001b[0m\u001b[0;34m\u001b[0m\u001b[0;34m\u001b[0m\u001b[0m\n\u001b[1;32m     27\u001b[0m         \u001b[0;31m#batch_size x seq_len\u001b[0m\u001b[0;34m\u001b[0m\u001b[0;34m\u001b[0m\u001b[0;34m\u001b[0m\u001b[0m\n\u001b[0;32m---> 28\u001b[0;31m         \u001b[0membedded\u001b[0m \u001b[0;34m=\u001b[0m \u001b[0mself\u001b[0m\u001b[0;34m.\u001b[0m\u001b[0membedding\u001b[0m\u001b[0;34m(\u001b[0m\u001b[0mword\u001b[0m\u001b[0;34m)\u001b[0m\u001b[0;34m\u001b[0m\u001b[0;34m\u001b[0m\u001b[0m\n\u001b[0m\u001b[1;32m     29\u001b[0m         \u001b[0;31m#batch_size x seq_len x embedding_dim\u001b[0m\u001b[0;34m\u001b[0m\u001b[0;34m\u001b[0m\u001b[0;34m\u001b[0m\u001b[0m\n\u001b[1;32m     30\u001b[0m         \u001b[0membedded\u001b[0m \u001b[0;34m=\u001b[0m \u001b[0membedded\u001b[0m\u001b[0;34m.\u001b[0m\u001b[0mtranspose\u001b[0m\u001b[0;34m(\u001b[0m\u001b[0;36m1\u001b[0m\u001b[0;34m,\u001b[0m\u001b[0;36m2\u001b[0m\u001b[0;34m)\u001b[0m\u001b[0;34m\u001b[0m\u001b[0;34m\u001b[0m\u001b[0m\n",
            "\u001b[0;32m/usr/local/lib/python3.7/dist-packages/torch/nn/modules/module.py\u001b[0m in \u001b[0;36m_call_impl\u001b[0;34m(self, *input, **kwargs)\u001b[0m\n\u001b[1;32m   1100\u001b[0m         if not (self._backward_hooks or self._forward_hooks or self._forward_pre_hooks or _global_backward_hooks\n\u001b[1;32m   1101\u001b[0m                 or _global_forward_hooks or _global_forward_pre_hooks):\n\u001b[0;32m-> 1102\u001b[0;31m             \u001b[0;32mreturn\u001b[0m \u001b[0mforward_call\u001b[0m\u001b[0;34m(\u001b[0m\u001b[0;34m*\u001b[0m\u001b[0minput\u001b[0m\u001b[0;34m,\u001b[0m \u001b[0;34m**\u001b[0m\u001b[0mkwargs\u001b[0m\u001b[0;34m)\u001b[0m\u001b[0;34m\u001b[0m\u001b[0;34m\u001b[0m\u001b[0m\n\u001b[0m\u001b[1;32m   1103\u001b[0m         \u001b[0;31m# Do not call functions when jit is used\u001b[0m\u001b[0;34m\u001b[0m\u001b[0;34m\u001b[0m\u001b[0;34m\u001b[0m\u001b[0m\n\u001b[1;32m   1104\u001b[0m         \u001b[0mfull_backward_hooks\u001b[0m\u001b[0;34m,\u001b[0m \u001b[0mnon_full_backward_hooks\u001b[0m \u001b[0;34m=\u001b[0m \u001b[0;34m[\u001b[0m\u001b[0;34m]\u001b[0m\u001b[0;34m,\u001b[0m \u001b[0;34m[\u001b[0m\u001b[0;34m]\u001b[0m\u001b[0;34m\u001b[0m\u001b[0;34m\u001b[0m\u001b[0m\n",
            "\u001b[0;32m/usr/local/lib/python3.7/dist-packages/torch/nn/modules/sparse.py\u001b[0m in \u001b[0;36mforward\u001b[0;34m(self, input)\u001b[0m\n\u001b[1;32m    158\u001b[0m         return F.embedding(\n\u001b[1;32m    159\u001b[0m             \u001b[0minput\u001b[0m\u001b[0;34m,\u001b[0m \u001b[0mself\u001b[0m\u001b[0;34m.\u001b[0m\u001b[0mweight\u001b[0m\u001b[0;34m,\u001b[0m \u001b[0mself\u001b[0m\u001b[0;34m.\u001b[0m\u001b[0mpadding_idx\u001b[0m\u001b[0;34m,\u001b[0m \u001b[0mself\u001b[0m\u001b[0;34m.\u001b[0m\u001b[0mmax_norm\u001b[0m\u001b[0;34m,\u001b[0m\u001b[0;34m\u001b[0m\u001b[0;34m\u001b[0m\u001b[0m\n\u001b[0;32m--> 160\u001b[0;31m             self.norm_type, self.scale_grad_by_freq, self.sparse)\n\u001b[0m\u001b[1;32m    161\u001b[0m \u001b[0;34m\u001b[0m\u001b[0m\n\u001b[1;32m    162\u001b[0m     \u001b[0;32mdef\u001b[0m \u001b[0mextra_repr\u001b[0m\u001b[0;34m(\u001b[0m\u001b[0mself\u001b[0m\u001b[0;34m)\u001b[0m \u001b[0;34m->\u001b[0m \u001b[0mstr\u001b[0m\u001b[0;34m:\u001b[0m\u001b[0;34m\u001b[0m\u001b[0;34m\u001b[0m\u001b[0m\n",
            "\u001b[0;32m/usr/local/lib/python3.7/dist-packages/torch/nn/functional.py\u001b[0m in \u001b[0;36membedding\u001b[0;34m(input, weight, padding_idx, max_norm, norm_type, scale_grad_by_freq, sparse)\u001b[0m\n\u001b[1;32m   2042\u001b[0m         \u001b[0;31m# remove once script supports set_grad_enabled\u001b[0m\u001b[0;34m\u001b[0m\u001b[0;34m\u001b[0m\u001b[0;34m\u001b[0m\u001b[0m\n\u001b[1;32m   2043\u001b[0m         \u001b[0m_no_grad_embedding_renorm_\u001b[0m\u001b[0;34m(\u001b[0m\u001b[0mweight\u001b[0m\u001b[0;34m,\u001b[0m \u001b[0minput\u001b[0m\u001b[0;34m,\u001b[0m \u001b[0mmax_norm\u001b[0m\u001b[0;34m,\u001b[0m \u001b[0mnorm_type\u001b[0m\u001b[0;34m)\u001b[0m\u001b[0;34m\u001b[0m\u001b[0;34m\u001b[0m\u001b[0m\n\u001b[0;32m-> 2044\u001b[0;31m     \u001b[0;32mreturn\u001b[0m \u001b[0mtorch\u001b[0m\u001b[0;34m.\u001b[0m\u001b[0membedding\u001b[0m\u001b[0;34m(\u001b[0m\u001b[0mweight\u001b[0m\u001b[0;34m,\u001b[0m \u001b[0minput\u001b[0m\u001b[0;34m,\u001b[0m \u001b[0mpadding_idx\u001b[0m\u001b[0;34m,\u001b[0m \u001b[0mscale_grad_by_freq\u001b[0m\u001b[0;34m,\u001b[0m \u001b[0msparse\u001b[0m\u001b[0;34m)\u001b[0m\u001b[0;34m\u001b[0m\u001b[0;34m\u001b[0m\u001b[0m\n\u001b[0m\u001b[1;32m   2045\u001b[0m \u001b[0;34m\u001b[0m\u001b[0m\n\u001b[1;32m   2046\u001b[0m \u001b[0;34m\u001b[0m\u001b[0m\n",
            "\u001b[0;31mRuntimeError\u001b[0m: CUDA out of memory. Tried to allocate 480.00 MiB (GPU 0; 11.17 GiB total capacity; 9.67 GiB already allocated; 250.81 MiB free; 10.40 GiB reserved in total by PyTorch) If reserved memory is >> allocated memory try setting max_split_size_mb to avoid fragmentation.  See documentation for Memory Management and PYTORCH_CUDA_ALLOC_CONF"
          ]
        }
      ]
    }
  ]
}