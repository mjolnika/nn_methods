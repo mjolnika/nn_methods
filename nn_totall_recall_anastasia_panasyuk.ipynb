{
  "nbformat": 4,
  "nbformat_minor": 0,
  "metadata": {
    "colab": {
      "name": "nn totall recall anastasia panasyuk.ipynb",
      "provenance": [],
      "collapsed_sections": []
    },
    "kernelspec": {
      "name": "python3",
      "display_name": "Python 3"
    },
    "language_info": {
      "name": "python"
    }
  },
  "cells": [
    {
      "cell_type": "markdown",
      "metadata": {
        "id": "v0_L3fYacmeq"
      },
      "source": [
        "Анастасия Панасюк 182"
      ]
    },
    {
      "cell_type": "markdown",
      "metadata": {
        "id": "ch-tPLp4hi6a"
      },
      "source": [
        "https://colab.research.google.com/drive/1YweXXCnry5y1p_RTL1uPDao6ZFMpKgKW?usp=sharing"
      ]
    },
    {
      "cell_type": "code",
      "metadata": {
        "id": "Tz_aigTHOASO"
      },
      "source": [
        "import re\n",
        "import numpy as np\n",
        "import scipy as sp\n",
        "import pandas as pd\n",
        "import matplotlib.pyplot as plt\n",
        "from sklearn.feature_extraction.text import CountVectorizer, TfidfVectorizer\n",
        "from scipy import stats\n",
        "\n",
        "from sklearn.model_selection import train_test_split, StratifiedKFold, KFold, cross_val_score, GridSearchCV, RepeatedStratifiedKFold\n",
        "from sklearn.preprocessing import StandardScaler\n",
        "from sklearn.metrics import accuracy_score, roc_auc_score, r2_score, mean_absolute_error, mean_squared_error, max_error\n",
        "from sklearn import linear_model\n",
        "from sklearn.ensemble import RandomForestRegressor, RandomForestClassifier\n",
        "from sklearn.neighbors import NearestNeighbors\n",
        "from sklearn.ensemble import GradientBoostingRegressor, GradientBoostingClassifier"
      ],
      "execution_count": 130,
      "outputs": []
    },
    {
      "cell_type": "code",
      "metadata": {
        "colab": {
          "base_uri": "https://localhost:8080/"
        },
        "id": "wibDZvxsLKFc",
        "outputId": "eab9785b-37aa-403c-a711-7a2490468a52"
      },
      "source": [
        "!gdown --id 1aKsPwU3RgoAubx0TSn9_Y8avsgsIB6lx"
      ],
      "execution_count": 3,
      "outputs": [
        {
          "output_type": "stream",
          "name": "stdout",
          "text": [
            "Downloading...\n",
            "From: https://drive.google.com/uc?id=1aKsPwU3RgoAubx0TSn9_Y8avsgsIB6lx\n",
            "To: /content/Shoes_Data.csv\n",
            "\r  0% 0.00/1.31M [00:00<?, ?B/s]\r100% 1.31M/1.31M [00:00<00:00, 20.8MB/s]\n"
          ]
        }
      ]
    },
    {
      "cell_type": "code",
      "metadata": {
        "id": "riMR-7kDT4qE"
      },
      "source": [
        "df = pd.read_csv('Shoes_Data.csv')\n",
        "df = df.drop_duplicates()  # удалю дупликаты - они есть"
      ],
      "execution_count": 4,
      "outputs": []
    },
    {
      "cell_type": "code",
      "metadata": {
        "colab": {
          "base_uri": "https://localhost:8080/",
          "height": 327
        },
        "id": "gAp5bzGST-Z7",
        "outputId": "3d565264-cb0a-4794-b5d2-d45c510de339"
      },
      "source": [
        "df.head()"
      ],
      "execution_count": 5,
      "outputs": [
        {
          "output_type": "execute_result",
          "data": {
            "text/html": [
              "<div>\n",
              "<style scoped>\n",
              "    .dataframe tbody tr th:only-of-type {\n",
              "        vertical-align: middle;\n",
              "    }\n",
              "\n",
              "    .dataframe tbody tr th {\n",
              "        vertical-align: top;\n",
              "    }\n",
              "\n",
              "    .dataframe thead th {\n",
              "        text-align: right;\n",
              "    }\n",
              "</style>\n",
              "<table border=\"1\" class=\"dataframe\">\n",
              "  <thead>\n",
              "    <tr style=\"text-align: right;\">\n",
              "      <th></th>\n",
              "      <th>title</th>\n",
              "      <th>price</th>\n",
              "      <th>rating</th>\n",
              "      <th>total_reviews</th>\n",
              "      <th>product_description</th>\n",
              "      <th>reviews</th>\n",
              "      <th>reviews_rating</th>\n",
              "      <th>Shoe Type</th>\n",
              "    </tr>\n",
              "  </thead>\n",
              "  <tbody>\n",
              "    <tr>\n",
              "      <th>0</th>\n",
              "      <td>CLYMB Outdoor Sports Running Shoes for Mens Boy</td>\n",
              "      <td>₹279.00</td>\n",
              "      <td>2.9 out of 5 stars</td>\n",
              "      <td>2389 ratings</td>\n",
              "      <td>Elevate your style with this classy pair of Ru...</td>\n",
              "      <td>Not happy with product|| It's not as expected....</td>\n",
              "      <td>1.0 out of 5 stars|| 1.0 out of 5 stars|| 3.0 ...</td>\n",
              "      <td>Men</td>\n",
              "    </tr>\n",
              "    <tr>\n",
              "      <th>1</th>\n",
              "      <td>Bourge Men's Loire-z126 Running Shoes</td>\n",
              "      <td>₹479.00</td>\n",
              "      <td>3.9 out of 5 stars</td>\n",
              "      <td>11520 ratings</td>\n",
              "      <td>The product will be an excellent pick for you....</td>\n",
              "      <td>Memory cushioning in these shoes is the best f...</td>\n",
              "      <td>5.0 out of 5 stars|| 1.0 out of 5 stars|| 5.0 ...</td>\n",
              "      <td>Men</td>\n",
              "    </tr>\n",
              "    <tr>\n",
              "      <th>2</th>\n",
              "      <td>T-Rock Men's Sneaker</td>\n",
              "      <td>₹430.00</td>\n",
              "      <td>3.3 out of 5 stars</td>\n",
              "      <td>1251 ratings</td>\n",
              "      <td>Flaunt with these stylish and unique red casua...</td>\n",
              "      <td>Worth to its amount|| Go for it|| Perfect|| 5 ...</td>\n",
              "      <td>5.0 out of 5 stars|| 5.0 out of 5 stars|| 5.0 ...</td>\n",
              "      <td>Men</td>\n",
              "    </tr>\n",
              "    <tr>\n",
              "      <th>3</th>\n",
              "      <td>Robbie jones Sneakers Casual Canvas Fabric Col...</td>\n",
              "      <td>₹499.00</td>\n",
              "      <td>4.2 out of 5 stars</td>\n",
              "      <td>3 ratings</td>\n",
              "      <td>Robbie Jones Shoes Are Designed To Keeping In ...</td>\n",
              "      <td>Sup quality|| Good but not expected|| Awesome 👌.!</td>\n",
              "      <td>5.0 out of 5 stars|| 3.0 out of 5 stars|| 5.0 ...</td>\n",
              "      <td>Men</td>\n",
              "    </tr>\n",
              "    <tr>\n",
              "      <th>4</th>\n",
              "      <td>Sparx Men's Sd0323g Sneakers</td>\n",
              "      <td>₹499.00</td>\n",
              "      <td>4.2 out of 5 stars</td>\n",
              "      <td>20110 ratings</td>\n",
              "      <td>Sparx is a spectacular range of footwear from ...</td>\n",
              "      <td>Best|| Satisfied!|| Affordable beauty 😘😘😘😘 the...</td>\n",
              "      <td>5.0 out of 5 stars|| 5.0 out of 5 stars|| 5.0 ...</td>\n",
              "      <td>Men</td>\n",
              "    </tr>\n",
              "  </tbody>\n",
              "</table>\n",
              "</div>"
            ],
            "text/plain": [
              "                                               title  ... Shoe Type\n",
              "0    CLYMB Outdoor Sports Running Shoes for Mens Boy  ...       Men\n",
              "1              Bourge Men's Loire-z126 Running Shoes  ...       Men\n",
              "2                               T-Rock Men's Sneaker  ...       Men\n",
              "3  Robbie jones Sneakers Casual Canvas Fabric Col...  ...       Men\n",
              "4                       Sparx Men's Sd0323g Sneakers  ...       Men\n",
              "\n",
              "[5 rows x 8 columns]"
            ]
          },
          "metadata": {},
          "execution_count": 5
        }
      ]
    },
    {
      "cell_type": "code",
      "metadata": {
        "id": "jwOmXe6Md9bn"
      },
      "source": [
        "# df.describe() "
      ],
      "execution_count": 1,
      "outputs": []
    },
    {
      "cell_type": "code",
      "metadata": {
        "colab": {
          "base_uri": "https://localhost:8080/"
        },
        "id": "E24MinjPetY-",
        "outputId": "404386cf-1342-40cd-c6ad-5bc92fe1d0b7"
      },
      "source": [
        "df['title'].value_counts().head(30)"
      ],
      "execution_count": null,
      "outputs": [
        {
          "output_type": "execute_result",
          "data": {
            "text/plain": [
              "Sparx Men's Running Shoes                                       7\n",
              "Adidas Men Running Shoes                                        7\n",
              "Red Tape Men's Formal Shoes                                     7\n",
              "Clarks Men's Formal Shoes                                       5\n",
              "LEONE Men Running Shoes                                         5\n",
              "Hush Puppies Men Corso Loafer Formal Shoes                      4\n",
              "Flavia Women Running Shoes                                      4\n",
              "Lee Cooper Men's Formal Shoes                                   4\n",
              "Hush Puppies Men Aaron Derby Formal Shoes                       3\n",
              "Bata Men's Formal Shoes                                         3\n",
              "LEONE Men's Running Shoes                                       3\n",
              "Adidas Men's Adilette Shower Navy Blue Flip-Flops               3\n",
              "Unistar Men's Running Shoes                                     3\n",
              "Flavia Women's Running Shoes                                    3\n",
              "ASICS Men's Running Shoes                                       3\n",
              "Power Men's Clief Running Shoe                                  2\n",
              "ASIAN Men's Future-01 Running Shoes                             2\n",
              "Reebok Men Future Stride Run Shoes                              2\n",
              "Adidas Men's Lite Racer Rbn 2.0 Running Shoe                    2\n",
              "Puma Men Audley DT IDP Sneakers                                 2\n",
              "Clarks Men Leather Formal Shoes                                 2\n",
              "Liberty Gliders (from Men's Golf Black Loafers and Mocassins    2\n",
              "Hush Puppies Men Cash New Formal Shoes                          2\n",
              "Clarks Men Banbury Limit Formal Shoes                           2\n",
              "Mochi Women's Fashion Slippers                                  2\n",
              "Hush Puppies Men Hpo2 Flex Formal Shoes                         2\n",
              "Reebok Men's Energy Runner Running Shoe                         2\n",
              "Adidas Men's CRI Hase Cricket Shoes                             2\n",
              "ASICS Men's Jolt 3 Running Shoe                                 2\n",
              "Campus Men's Rodeo-2 Running Sport Shoe                         2\n",
              "Name: title, dtype: int64"
            ]
          },
          "metadata": {},
          "execution_count": 7
        }
      ]
    },
    {
      "cell_type": "markdown",
      "metadata": {
        "id": "vrzUGYBRPXPW"
      },
      "source": [
        "Про некоторые кроссовки написано много отзывов"
      ]
    },
    {
      "cell_type": "code",
      "metadata": {
        "id": "jF_XcM-f_ANO"
      },
      "source": [
        "df['price'] = df.apply(lambda row: float(row.price.replace('₹', '')), axis=1)"
      ],
      "execution_count": 6,
      "outputs": []
    },
    {
      "cell_type": "code",
      "metadata": {
        "id": "NiK3RUXnJiNn"
      },
      "source": [
        "df['rating'] = df.apply(lambda row: float(row.rating.replace(' out of 5 stars', '')), axis=1)"
      ],
      "execution_count": 7,
      "outputs": []
    },
    {
      "cell_type": "markdown",
      "metadata": {
        "id": "5S-0iySLPlRY"
      },
      "source": [
        "Посмотрим топ кроссовок для инсайтов, как выглядят данные. Видим ин. языки."
      ]
    },
    {
      "cell_type": "code",
      "metadata": {
        "colab": {
          "base_uri": "https://localhost:8080/",
          "height": 606
        },
        "id": "QUYPZi2jPjBT",
        "outputId": "74a767fb-f74b-4fdf-db1b-052103c1da00"
      },
      "source": [
        "df.sort_values(by=['price'], ascending=False).head(10)"
      ],
      "execution_count": 8,
      "outputs": [
        {
          "output_type": "execute_result",
          "data": {
            "text/html": [
              "<div>\n",
              "<style scoped>\n",
              "    .dataframe tbody tr th:only-of-type {\n",
              "        vertical-align: middle;\n",
              "    }\n",
              "\n",
              "    .dataframe tbody tr th {\n",
              "        vertical-align: top;\n",
              "    }\n",
              "\n",
              "    .dataframe thead th {\n",
              "        text-align: right;\n",
              "    }\n",
              "</style>\n",
              "<table border=\"1\" class=\"dataframe\">\n",
              "  <thead>\n",
              "    <tr style=\"text-align: right;\">\n",
              "      <th></th>\n",
              "      <th>title</th>\n",
              "      <th>price</th>\n",
              "      <th>rating</th>\n",
              "      <th>total_reviews</th>\n",
              "      <th>product_description</th>\n",
              "      <th>reviews</th>\n",
              "      <th>reviews_rating</th>\n",
              "      <th>Shoe Type</th>\n",
              "    </tr>\n",
              "  </thead>\n",
              "  <tbody>\n",
              "    <tr>\n",
              "      <th>847</th>\n",
              "      <td>Saucony Men's Canyon Tr Trail Running Shoe</td>\n",
              "      <td>7992.0</td>\n",
              "      <td>4.4</td>\n",
              "      <td>22 ratings</td>\n",
              "      <td>For those looking to add variety to their work...</td>\n",
              "      <td>Well cushioned trail shoes|| Verified Purchase...</td>\n",
              "      <td>5.0 out of 5 stars|| 4.0 out of 5 stars|| 4.0 ...</td>\n",
              "      <td>Men</td>\n",
              "    </tr>\n",
              "    <tr>\n",
              "      <th>1192</th>\n",
              "      <td>Converse Unisex-Adult Sneakers</td>\n",
              "      <td>7702.0</td>\n",
              "      <td>1.0</td>\n",
              "      <td>1 rating</td>\n",
              "      <td>Converse is Change. We started on the court an...</td>\n",
              "      <td>Colour is not good</td>\n",
              "      <td>1.0 out of 5 stars</td>\n",
              "      <td>Women</td>\n",
              "    </tr>\n",
              "    <tr>\n",
              "      <th>832</th>\n",
              "      <td>Nike Men's Cortez Basic Premium Iron Grey/Whit...</td>\n",
              "      <td>7621.0</td>\n",
              "      <td>4.6</td>\n",
              "      <td>55 ratings</td>\n",
              "      <td>STEP INTO A BOLD NEW WORLD : Inspired by Bill ...</td>\n",
              "      <td>Verified Purchase|| Verified Purchase|| Verifi...</td>\n",
              "      <td>5.0 out of 5 stars|| 5.0 out of 5 stars|| 5.0 ...</td>\n",
              "      <td>Men</td>\n",
              "    </tr>\n",
              "    <tr>\n",
              "      <th>1196</th>\n",
              "      <td>Nike Women's WMNS Air Zoom Pegasus 37 Running ...</td>\n",
              "      <td>7480.0</td>\n",
              "      <td>4.5</td>\n",
              "      <td>67 ratings</td>\n",
              "      <td>Nike మహిళల రన్నింగ్ షూ ఫీల్స్ మరియు రూపం మృదువ...</td>\n",
              "      <td>Verified Purchase|| Verified Purchase|| Verifi...</td>\n",
              "      <td>5.0 out of 5 stars|| 5.0 out of 5 stars|| 4.0 ...</td>\n",
              "      <td>Women</td>\n",
              "    </tr>\n",
              "    <tr>\n",
              "      <th>1193</th>\n",
              "      <td>Nike Men's React Vision Running Shoes</td>\n",
              "      <td>7256.0</td>\n",
              "      <td>4.4</td>\n",
              "      <td>200 ratings</td>\n",
              "      <td>The Nike react vision is a STORY of surreal co...</td>\n",
              "      <td>Must buy|| not have a great fiting but great q...</td>\n",
              "      <td>5.0 out of 5 stars|| 3.0 out of 5 stars|| 5.0 ...</td>\n",
              "      <td>Women</td>\n",
              "    </tr>\n",
              "    <tr>\n",
              "      <th>827</th>\n",
              "      <td>Nike Men's Air Zoom Pegasus 38 Running Shoe</td>\n",
              "      <td>7096.0</td>\n",
              "      <td>4.0</td>\n",
              "      <td>51 ratings</td>\n",
              "      <td>Your workhorse with wings returns.The Nike Air...</td>\n",
              "      <td>PERFECT RUNNING SHOES AS DESCRIBED BY NIKE|| M...</td>\n",
              "      <td>5.0 out of 5 stars|| 1.0 out of 5 stars|| 5.0 ...</td>\n",
              "      <td>Men</td>\n",
              "    </tr>\n",
              "    <tr>\n",
              "      <th>828</th>\n",
              "      <td>ASICS Unisex-Adult Gelburst 24 Ge Basketball Shoe</td>\n",
              "      <td>7039.0</td>\n",
              "      <td>4.3</td>\n",
              "      <td>12 ratings</td>\n",
              "      <td>-</td>\n",
              "      <td>Verified Purchase|| Verified Purchase</td>\n",
              "      <td>1.0 out of 5 stars|| 4.0 out of 5 stars</td>\n",
              "      <td>Men</td>\n",
              "    </tr>\n",
              "    <tr>\n",
              "      <th>831</th>\n",
              "      <td>ASICS Men's Evoride 2 Platform</td>\n",
              "      <td>6999.0</td>\n",
              "      <td>4.8</td>\n",
              "      <td>25 ratings</td>\n",
              "      <td>Whether it's tempo runs long runs or racing th...</td>\n",
              "      <td>Report abuse|| Report abuse|| Report abuse|| R...</td>\n",
              "      <td>5.0 out of 5 stars|| 5.0 out of 5 stars|| 5.0 ...</td>\n",
              "      <td>Men</td>\n",
              "    </tr>\n",
              "    <tr>\n",
              "      <th>839</th>\n",
              "      <td>Adidas Men's APAC Halo M Tennis Shoe</td>\n",
              "      <td>6999.0</td>\n",
              "      <td>3.8</td>\n",
              "      <td>7 ratings</td>\n",
              "      <td>BB Fit: These men's adidas tennis shoes back y...</td>\n",
              "      <td>Verified Purchase</td>\n",
              "      <td>3.0 out of 5 stars</td>\n",
              "      <td>Men</td>\n",
              "    </tr>\n",
              "    <tr>\n",
              "      <th>826</th>\n",
              "      <td>Puma Cell Fraction Fade Men's Running Shoes</td>\n",
              "      <td>6999.0</td>\n",
              "      <td>4.2</td>\n",
              "      <td>16 ratings</td>\n",
              "      <td>PRODUCT STORY Stride out in pure comfort and s...</td>\n",
              "      <td>I am no satisfied with this product|| Nice pro...</td>\n",
              "      <td>5.0 out of 5 stars|| 5.0 out of 5 stars|| 4.0 ...</td>\n",
              "      <td>Men</td>\n",
              "    </tr>\n",
              "  </tbody>\n",
              "</table>\n",
              "</div>"
            ],
            "text/plain": [
              "                                                  title  ...  Shoe Type\n",
              "847          Saucony Men's Canyon Tr Trail Running Shoe  ...        Men\n",
              "1192                     Converse Unisex-Adult Sneakers  ...      Women\n",
              "832   Nike Men's Cortez Basic Premium Iron Grey/Whit...  ...        Men\n",
              "1196  Nike Women's WMNS Air Zoom Pegasus 37 Running ...  ...      Women\n",
              "1193              Nike Men's React Vision Running Shoes  ...      Women\n",
              "827         Nike Men's Air Zoom Pegasus 38 Running Shoe  ...        Men\n",
              "828   ASICS Unisex-Adult Gelburst 24 Ge Basketball Shoe  ...        Men\n",
              "831                      ASICS Men's Evoride 2 Platform  ...        Men\n",
              "839                Adidas Men's APAC Halo M Tennis Shoe  ...        Men\n",
              "826         Puma Cell Fraction Fade Men's Running Shoes  ...        Men\n",
              "\n",
              "[10 rows x 8 columns]"
            ]
          },
          "metadata": {},
          "execution_count": 8
        }
      ]
    },
    {
      "cell_type": "markdown",
      "metadata": {
        "id": "h7a5IhfkPp-n"
      },
      "source": [
        "Давайте все почистим"
      ]
    },
    {
      "cell_type": "code",
      "metadata": {
        "id": "nlalLojeUFQ3"
      },
      "source": [
        "def normalize(line):\n",
        "  line = re.sub('_', ' ', line)\n",
        "  return re.sub(' +', ' ', line)\n",
        "\n",
        "def delete_non_latin(line):\n",
        "  if not re.search('\\w+', line):\n",
        "    return None\n",
        "  if not re.findall('[^A-z0-9]+[^\\w]', line):\n",
        "    return line\n",
        "  else:\n",
        "    sentences = re.split('_+', line)\n",
        "    latin = []\n",
        "    for sentence in sentences:\n",
        "      if len(re.findall('[A-z]+ ', sentence))/len(sentence.split(' ')) > 0.5:\n",
        "        latin.append(normalize(sentence))\n",
        "    latin = ' '.join(latin).strip(' ')\n",
        "    return latin"
      ],
      "execution_count": 9,
      "outputs": []
    },
    {
      "cell_type": "code",
      "metadata": {
        "id": "XaabG5l3MMqE"
      },
      "source": [
        "df['product_description'] = [delete_non_latin(row) for row in df['product_description']]\n",
        "df = df.dropna()"
      ],
      "execution_count": 12,
      "outputs": []
    },
    {
      "cell_type": "markdown",
      "metadata": {
        "id": "iz9RgkhKRFsX"
      },
      "source": [
        "### Задание 1 (предсказать цену по описанию: регрессия)"
      ]
    },
    {
      "cell_type": "markdown",
      "metadata": {
        "id": "GR7KcXKlRuDd"
      },
      "source": [
        "Возьмем только нужное для первого задания: цену и описание"
      ]
    },
    {
      "cell_type": "code",
      "metadata": {
        "colab": {
          "base_uri": "https://localhost:8080/",
          "height": 788
        },
        "id": "3rvAEjfl4Kd8",
        "outputId": "986729d0-8bdf-4d06-f3cc-4fedecc147ac"
      },
      "source": [
        "task1 = df[['price', 'product_description']]\n",
        "pd.set_option('display.max_colwidth', None)\n",
        "task1.sort_values('price', ascending=False)"
      ],
      "execution_count": 13,
      "outputs": [
        {
          "output_type": "execute_result",
          "data": {
            "text/html": [
              "<div>\n",
              "<style scoped>\n",
              "    .dataframe tbody tr th:only-of-type {\n",
              "        vertical-align: middle;\n",
              "    }\n",
              "\n",
              "    .dataframe tbody tr th {\n",
              "        vertical-align: top;\n",
              "    }\n",
              "\n",
              "    .dataframe thead th {\n",
              "        text-align: right;\n",
              "    }\n",
              "</style>\n",
              "<table border=\"1\" class=\"dataframe\">\n",
              "  <thead>\n",
              "    <tr style=\"text-align: right;\">\n",
              "      <th></th>\n",
              "      <th>price</th>\n",
              "      <th>product_description</th>\n",
              "    </tr>\n",
              "  </thead>\n",
              "  <tbody>\n",
              "    <tr>\n",
              "      <th>847</th>\n",
              "      <td>7992.0</td>\n",
              "      <td>For those looking to add variety to their workout routine the Canyon TR lets them cross over from road to trail with dirt-friendly traction that still rides smooth on the road.</td>\n",
              "    </tr>\n",
              "    <tr>\n",
              "      <th>1192</th>\n",
              "      <td>7702.0</td>\n",
              "      <td>Converse is Change. We started on the court and got adopted on the street. We began as a rubber company to make sneakers and boots and then we found basketball and reinvented the sport. The Converse Chuck Taylor All Star sneaker became the court sneaker it stood for the game. From there we moved into other sports with new sneaker silhouettes like the Pro Leather the Star Player and the Weapon. The Star Chevron showed up and became another Converse symbol. And just when we seemed to be destined for athletes only  something happened.</td>\n",
              "    </tr>\n",
              "    <tr>\n",
              "      <th>832</th>\n",
              "      <td>7621.0</td>\n",
              "      <td>STEP INTO A BOLD NEW WORLD : Inspired by Bill Bowerman's first masterpiece the Nike Cortez Basic Premium pays homage to the iconic running shoe as it celebrates the Earth with a medley of recycled materials. The reclaimed canvas and Flyleather upper made with at least 50% recycled leather fiber and combined with synthetic materials has a richly textured appearance while the classic foam midsole keeps the iconic look you love with its wedge of super-soft Crater foam. This product is made with at least 20% recycled materials by weight.</td>\n",
              "    </tr>\n",
              "    <tr>\n",
              "      <th>1196</th>\n",
              "      <td>7480.0</td>\n",
              "      <td>The Nike women's running shoe feels and even looks soft and plush. Yet it provides incredible support to help you run your best from your first 5K to your latest marathon and delivers an ultra-responsive feel with each stride.</td>\n",
              "    </tr>\n",
              "    <tr>\n",
              "      <th>1193</th>\n",
              "      <td>7256.0</td>\n",
              "      <td>The Nike react vision is a STORY of surreal comfort. Layered textures shapes and vivid colours are combined in a design influenced by the exaggerated world of our dreams while react foam and an ultra-plush tongue provide surreal comfort.</td>\n",
              "    </tr>\n",
              "    <tr>\n",
              "      <th>...</th>\n",
              "      <td>...</td>\n",
              "      <td>...</td>\n",
              "    </tr>\n",
              "    <tr>\n",
              "      <th>47</th>\n",
              "      <td>155.0</td>\n",
              "      <td>Light weight rubber sole for excellent grip. Sparx presents footwear range that will keep your feet at great ease While you walk run or work out in the Gym. These are light in weight Flexible and very comfortable to wear as well.</td>\n",
              "    </tr>\n",
              "    <tr>\n",
              "      <th>871</th>\n",
              "      <td>142.0</td>\n",
              "      <td>This trendy paragon flip flop slipper for women is comfortable and sports a v-strap for a firm grip. The durable casual footwear is perfect for the modern woman and is available in 2 colors: new blue and pink.</td>\n",
              "    </tr>\n",
              "    <tr>\n",
              "      <th>21</th>\n",
              "      <td>132.0</td>\n",
              "      <td>A part of paragon's paralite range of footwear paralite 1140 are stylish flip-flops for men with thong straps and a light heel. The flip-flops are long-lasting and comfortable. They come in two color options - black body with a red line along the heel or navy blue body with an orange line along the heel.</td>\n",
              "    </tr>\n",
              "    <tr>\n",
              "      <th>56</th>\n",
              "      <td>129.0</td>\n",
              "      <td>Sparx Presents footwear range that Will Keep Your Feet At Great Ease While You walk run or work out in the Gym. These Are Light In Weight Flexible And Very Comfortable To Wear As Well.</td>\n",
              "    </tr>\n",
              "    <tr>\n",
              "      <th>904</th>\n",
              "      <td>127.0</td>\n",
              "      <td>Sparx Presents footwear range that Will Keep Your Feet At Great Ease While You walk run or work out in the Gym. These Are Light In Weight Flexible And Very Comfortable To Wear As Well. Skechers a brand well known for its domination over global footwear industry has brought the legacy of stupendously awesome products innovations and supreme technology to India. Skechers understands the dynamic Indian footwear market and offers a wide range of shoes catering right from poker parties to running walking &amp; gymming to casual shoes across every age and demographic it’s a shoe for every mood! This season Skechers has introduced sport shoes for both men and women. Ever imagined a shoe that gives enhance support &amp; cushion highly flexible breathable with seamless construction and extremely lightweight? Skechers sport shoes has it all. Thanks to the advanced Engineered Mesh construction making it an awesome sporty shoes. It is designed to increase breathability and flexibility while providing the strength and durability as a regular upper. The seamless one piece construction enhances the functionality of the shoe while eliminating unwanted layers. The minimal lallyers allow the mesh to form around your foot which also adds additional comfort. ‘Feels like walking on the bed’ - That’s what memory foam does to your feet. Memory foam in Skechers sport shoes is an ultra-soft insole that instantly contours to foot which gives you customized cushioning system only to elevate everyday comfort.</td>\n",
              "    </tr>\n",
              "  </tbody>\n",
              "</table>\n",
              "<p>1012 rows × 2 columns</p>\n",
              "</div>"
            ],
            "text/plain": [
              "       price                                                                                                                                                                                                                                                                                                                                                                                                                                                                                                                                                                                                                                                                                                                                                                                                                                                                                                                                                                                                                                                                                                                                                                                                                                                                                                                                                                                                                                                                                                                                         product_description\n",
              "847   7992.0                                                                                                                                                                                                                                                                                                                                                                                                                                                                                                                                                                                                                                                                                                                                                                                                                                                                                                                                                                                                                                                                                                                                                                                                                                                                                                                                                                            For those looking to add variety to their workout routine the Canyon TR lets them cross over from road to trail with dirt-friendly traction that still rides smooth on the road.\n",
              "1192  7702.0                                                                                                                                                                                                                                                                                                                                                                                                                                                                                                                                                                                                                                                                                                                                                                                                                                                                                                                                                                                                  Converse is Change. We started on the court and got adopted on the street. We began as a rubber company to make sneakers and boots and then we found basketball and reinvented the sport. The Converse Chuck Taylor All Star sneaker became the court sneaker it stood for the game. From there we moved into other sports with new sneaker silhouettes like the Pro Leather the Star Player and the Weapon. The Star Chevron showed up and became another Converse symbol. And just when we seemed to be destined for athletes only  something happened.\n",
              "832   7621.0                                                                                                                                                                                                                                                                                                                                                                                                                                                                                                                                                                                                                                                                                                                                                                                                                                                                                                                                                                                                 STEP INTO A BOLD NEW WORLD : Inspired by Bill Bowerman's first masterpiece the Nike Cortez Basic Premium pays homage to the iconic running shoe as it celebrates the Earth with a medley of recycled materials. The reclaimed canvas and Flyleather upper made with at least 50% recycled leather fiber and combined with synthetic materials has a richly textured appearance while the classic foam midsole keeps the iconic look you love with its wedge of super-soft Crater foam. This product is made with at least 20% recycled materials by weight.\n",
              "1196  7480.0                                                                                                                                                                                                                                                                                                                                                                                                                                                                                                                                                                                                                                                                                                                                                                                                                                                                                                                                                                                                                                                                                                                                                                                                                                                                                                                          The Nike women's running shoe feels and even looks soft and plush. Yet it provides incredible support to help you run your best from your first 5K to your latest marathon and delivers an ultra-responsive feel with each stride.\n",
              "1193  7256.0                                                                                                                                                                                                                                                                                                                                                                                                                                                                                                                                                                                                                                                                                                                                                                                                                                                                                                                                                                                                                                                                                                                                                                                                                                                                                                               The Nike react vision is a STORY of surreal comfort. Layered textures shapes and vivid colours are combined in a design influenced by the exaggerated world of our dreams while react foam and an ultra-plush tongue provide surreal comfort.\n",
              "...      ...                                                                                                                                                                                                                                                                                                                                                                                                                                                                                                                                                                                                                                                                                                                                                                                                                                                                                                                                                                                                                                                                                                                                                                                                                                                                                                                                                                                                                                                                                                                                                         ...\n",
              "47     155.0                                                                                                                                                                                                                                                                                                                                                                                                                                                                                                                                                                                                                                                                                                                                                                                                                                                                                                                                                                                                                                                                                                                                                                                                                                                                                                                       Light weight rubber sole for excellent grip. Sparx presents footwear range that will keep your feet at great ease While you walk run or work out in the Gym. These are light in weight Flexible and very comfortable to wear as well.\n",
              "871    142.0                                                                                                                                                                                                                                                                                                                                                                                                                                                                                                                                                                                                                                                                                                                                                                                                                                                                                                                                                                                                                                                                                                                                                                                                                                                                                                                                           This trendy paragon flip flop slipper for women is comfortable and sports a v-strap for a firm grip. The durable casual footwear is perfect for the modern woman and is available in 2 colors: new blue and pink.\n",
              "21     132.0                                                                                                                                                                                                                                                                                                                                                                                                                                                                                                                                                                                                                                                                                                                                                                                                                                                                                                                                                                                                                                                                                                                                                                                                                                           A part of paragon's paralite range of footwear paralite 1140 are stylish flip-flops for men with thong straps and a light heel. The flip-flops are long-lasting and comfortable. They come in two color options - black body with a red line along the heel or navy blue body with an orange line along the heel.\n",
              "56     129.0                                                                                                                                                                                                                                                                                                                                                                                                                                                                                                                                                                                                                                                                                                                                                                                                                                                                                                                                                                                                                                                                                                                                                                                                                                                                                                                                                                    Sparx Presents footwear range that Will Keep Your Feet At Great Ease While You walk run or work out in the Gym. These Are Light In Weight Flexible And Very Comfortable To Wear As Well.\n",
              "904    127.0  Sparx Presents footwear range that Will Keep Your Feet At Great Ease While You walk run or work out in the Gym. These Are Light In Weight Flexible And Very Comfortable To Wear As Well. Skechers a brand well known for its domination over global footwear industry has brought the legacy of stupendously awesome products innovations and supreme technology to India. Skechers understands the dynamic Indian footwear market and offers a wide range of shoes catering right from poker parties to running walking & gymming to casual shoes across every age and demographic it’s a shoe for every mood! This season Skechers has introduced sport shoes for both men and women. Ever imagined a shoe that gives enhance support & cushion highly flexible breathable with seamless construction and extremely lightweight? Skechers sport shoes has it all. Thanks to the advanced Engineered Mesh construction making it an awesome sporty shoes. It is designed to increase breathability and flexibility while providing the strength and durability as a regular upper. The seamless one piece construction enhances the functionality of the shoe while eliminating unwanted layers. The minimal lallyers allow the mesh to form around your foot which also adds additional comfort. ‘Feels like walking on the bed’ - That’s what memory foam does to your feet. Memory foam in Skechers sport shoes is an ultra-soft insole that instantly contours to foot which gives you customized cushioning system only to elevate everyday comfort.\n",
              "\n",
              "[1012 rows x 2 columns]"
            ]
          },
          "metadata": {},
          "execution_count": 13
        }
      ]
    },
    {
      "cell_type": "markdown",
      "metadata": {
        "id": "VYWl1ojmWNsO"
      },
      "source": [
        "#### Фича инжиниринг и мысли"
      ]
    },
    {
      "cell_type": "markdown",
      "metadata": {
        "id": "8MNZOqW2Rjbv"
      },
      "source": [
        "Гипотеза, что супер дорогие бренды могут себе позволить использовать капс, обозначая этим какой-то КОНЦЕПТ (STEP INTO A BOLD NEW WORLD : Inspired by Bill Bowerman's first masterpiece the Nike Cortez Basic Premium pays homage to the iconic running shoe as it celebrates the Earth with a medley of recycled materials...\n",
        "1193\t7256.0\tThe Nike react vision is a STORY)"
      ]
    },
    {
      "cell_type": "code",
      "metadata": {
        "id": "n8ES7CcIQzPr"
      },
      "source": [
        "def count_concept(line):\n",
        "  return len(re.findall('[^\\w]?[A-Z][A-Z]+[^\\w]', line))"
      ],
      "execution_count": 14,
      "outputs": []
    },
    {
      "cell_type": "code",
      "metadata": {
        "colab": {
          "base_uri": "https://localhost:8080/"
        },
        "id": "11PGK4VHQvIl",
        "outputId": "15970dd6-8e1e-4dbd-c55d-86866849ecde"
      },
      "source": [
        "task1['concepts'] = [count_concept(row) for row in task1['product_description']]"
      ],
      "execution_count": 15,
      "outputs": [
        {
          "output_type": "stream",
          "name": "stderr",
          "text": [
            "/usr/local/lib/python3.7/dist-packages/ipykernel_launcher.py:1: SettingWithCopyWarning: \n",
            "A value is trying to be set on a copy of a slice from a DataFrame.\n",
            "Try using .loc[row_indexer,col_indexer] = value instead\n",
            "\n",
            "See the caveats in the documentation: https://pandas.pydata.org/pandas-docs/stable/user_guide/indexing.html#returning-a-view-versus-a-copy\n",
            "  \"\"\"Entry point for launching an IPython kernel.\n"
          ]
        }
      ]
    },
    {
      "cell_type": "code",
      "metadata": {
        "colab": {
          "base_uri": "https://localhost:8080/",
          "height": 265
        },
        "id": "rp6xr_xeZBU8",
        "outputId": "ee2424f3-4a83-44c8-93be-885201084405"
      },
      "source": [
        "plt.scatter(task1['price'], task1['concepts'])\n",
        "plt.show()"
      ],
      "execution_count": 18,
      "outputs": [
        {
          "output_type": "display_data",
          "data": {
            "image/png": "[encoded data removed]",
            "text/plain": [
              "<Figure size 432x288 with 1 Axes>"
            ]
          },
          "metadata": {
            "needs_background": "light"
          }
        }
      ]
    },
    {
      "cell_type": "code",
      "metadata": {
        "colab": {
          "base_uri": "https://localhost:8080/",
          "height": 1000
        },
        "id": "A59dk6tDZje5",
        "outputId": "10eca44b-c26c-4392-ccd4-abf1f6ff75bc"
      },
      "source": [
        "task1[task1['concepts'] >= 25].sort_values('price', ascending=False)"
      ],
      "execution_count": 19,
      "outputs": [
        {
          "output_type": "execute_result",
          "data": {
            "text/html": [
              "<div>\n",
              "<style scoped>\n",
              "    .dataframe tbody tr th:only-of-type {\n",
              "        vertical-align: middle;\n",
              "    }\n",
              "\n",
              "    .dataframe tbody tr th {\n",
              "        vertical-align: top;\n",
              "    }\n",
              "\n",
              "    .dataframe thead th {\n",
              "        text-align: right;\n",
              "    }\n",
              "</style>\n",
              "<table border=\"1\" class=\"dataframe\">\n",
              "  <thead>\n",
              "    <tr style=\"text-align: right;\">\n",
              "      <th></th>\n",
              "      <th>price</th>\n",
              "      <th>product_description</th>\n",
              "      <th>concepts</th>\n",
              "    </tr>\n",
              "  </thead>\n",
              "  <tbody>\n",
              "    <tr>\n",
              "      <th>718</th>\n",
              "      <td>3079.0</td>\n",
              "      <td>MEDIAL BRANDING: 3 STRIPES ON QUARTER FXG OUTSOLE: Flexible ground outsole to move with high-speed control and stability on firm ground (dry natural grass) artificial grass (long-bladed synthetic fibre) and hard ground Synthetic Upper: SOFT UPPER WITH DECO STITCHING FOR ADDED VALUE LACED: U-THROAT COLLAR CONSTRUCTIONS ALLOWS FOR EASE OF ENTRY FOR ALL FOOT TYPES. LACES PROVIDE LOCK DOWN. BB Fit: Fine-tune your instincts in these versatile football boots. Their soft synthetic upper allows for easy entry and keeps you comfortable on the pitch. The outsole ensures you stay a class apart on firm ground artificial grass and hard ground.</td>\n",
              "      <td>33</td>\n",
              "    </tr>\n",
              "    <tr>\n",
              "      <th>271</th>\n",
              "      <td>709.0</td>\n",
              "      <td>CENTRINO CASUAL SHOES MATERIAL: SYNTHETIC MATERIAL. THESE SHOES ARE MADE UP OF HIGH QUALITY SYNTHETIC MATERIAL STAYS STRONG AND DURABLE - MEANING THE SHOES WILL LAST MUCH LONGER. LIFESTYLE: FORMAL / BUSINESS. PAIR THESE STYLISH CENTRINO SHOES WITH YOUR SHIRT &amp; TROUSERS FOR THAT PERFECT LOOK. OFFICE WEAR OFFICE SHOES FORMAL SHOES SLIP-ON BUSINESS SHOES. CLOSURE: SLIP-ON. CENTRINO SHOES ARE HAND-CRAFTED FOR THAT PERFECT FIT. PERFORATED INSOLE LETS AIR PASS THROUGH THE MATERIAL. THIS IS GREAT FOR LEATHER SHOES BECAUSE THE MATERIAL LETS AIR IN TO COOL YOUR FEET AND STOP THEM FROM SMELLING. FIT: COMFORT FIT. CENTRINO ENDORSES STYLE THAT STRIKES A FINE BALANCE BETWEEN THE CLASSIC AND THE MODERN THE DISCREET AND THE BOLD WITH GOOD TASTE BEING THE ONLY CRITERION FOR SELECTION. CARE INSTRUCTIONS: ALLOW YOUR PAIR OF SHOES TO AIR ON A REGULAR BASIS. THIS HELPS THEM RETAIN THEIR NATURAL SHAPE DRY SHOES AT ROOM TEMPERATURE ONLY. EXCESSIVE EXPOSURE TO SUN WILL CAUSE THE LEATHER TO SHRINK WRINKLE HARDEN DRY AND CRACK. USE SHOE BAGS TO PREVENT ANY STAINS OR MILDEW DUST ANY DRY DIRT FROM THE SURFACE USING A CLEAN CLOTH. FOR MENS</td>\n",
              "      <td>184</td>\n",
              "    </tr>\n",
              "    <tr>\n",
              "      <th>242</th>\n",
              "      <td>623.0</td>\n",
              "      <td>CENTRINO LOAFER SHOES MATERIAL: SYNTHETIC MATERIAL. THESE SHOES ARE MADE UP OF HIGH QUALITY SYNTHETIC MATERIAL STAYS STRONG AND DURABLE - MEANING THE SHOES WILL LAST MUCH LONGER. LIFESTYLE: FORMAL / BUSINESS. PAIR THESE STYLISH CENTRINO SHOES WITH YOUR SHIRT &amp; TROUSERS FOR THAT PERFECT LOOK. OFFICE WEAR OFFICE SHOES FORMAL SHOES SLIP-ON BUSINESS SHOES. CLOSURE: SLIP-ON. CENTRINO SHOES ARE HAND-CRAFTED FOR THAT PERFECT FIT. PERFORATED INSOLE LETS AIR PASS THROUGH THE MATERIAL. THIS IS GREAT FOR LEATHER SHOES BECAUSE THE MATERIAL LETS AIR IN TO COOL YOUR FEET AND STOP THEM FROM SMELLING. FIT: COMFORT FIT. CENTRINO ENDORSES STYLE THAT STRIKES A FINE BALANCE BETWEEN THE CLASSIC AND THE MODERN THE DISCREET AND THE BOLD WITH GOOD TASTE BEING THE ONLY CRITERION FOR SELECTION. CARE INSTRUCTIONS: ALLOW YOUR PAIR OF SHOES TO AIR ON A REGULAR BASIS. THIS HELPS THEM RETAIN THEIR NATURAL SHAPE DRY SHOES AT ROOM TEMPERATURE ONLY. EXCESSIVE EXPOSURE TO SUN WILL CAUSE THE LEATHER TO SHRINK WRINKLE HARDEN DRY AND CRACK. USE SHOE BAGS TO PREVENT ANY STAINS OR MILDEW DUST ANY DRY DIRT FROM THE SURFACE USING A CLEAN CLOTH. FOR MENS</td>\n",
              "      <td>184</td>\n",
              "    </tr>\n",
              "    <tr>\n",
              "      <th>165</th>\n",
              "      <td>575.0</td>\n",
              "      <td>CENTRINO CASUAL SHOES MATERIAL: SYNTHETIC MATERIAL. THESE SHOES ARE MADE UP OF HIGH QUALITY SYNTHETIC MATERIAL STAYS STRONG AND DURABLE - MEANING THE SHOES WILL LAST MUCH LONGER. LIFESTYLE: FORMAL / BUSINESS. PAIR THESE STYLISH CENTRINO SHOES WITH YOUR SHIRT &amp; TROUSERS FOR THAT PERFECT LOOK. OFFICE WEAR OFFICE SHOES FORMAL SHOES SLIP-ON BUSINESS SHOES. CLOSURE: SLIP-ON. CENTRINO SHOES ARE HAND-CRAFTED FOR THAT PERFECT FIT. PERFORATED INSOLE LETS AIR PASS THROUGH THE MATERIAL. THIS IS GREAT FOR LEATHER SHOES BECAUSE THE MATERIAL LETS AIR IN TO COOL YOUR FEET AND STOP THEM FROM SMELLING. FIT: COMFORT FIT. CENTRINO ENDORSES STYLE THAT STRIKES A FINE BALANCE BETWEEN THE CLASSIC AND THE MODERN THE DISCREET AND THE BOLD WITH GOOD TASTE BEING THE ONLY CRITERION FOR SELECTION. CARE INSTRUCTIONS: ALLOW YOUR PAIR OF SHOES TO AIR ON A REGULAR BASIS. THIS HELPS THEM RETAIN THEIR NATURAL SHAPE DRY SHOES AT ROOM TEMPERATURE ONLY. EXCESSIVE EXPOSURE TO SUN WILL CAUSE THE LEATHER TO SHRINK WRINKLE HARDEN DRY AND CRACK. USE SHOE BAGS TO PREVENT ANY STAINS OR MILDEW DUST ANY DRY DIRT FROM THE SURFACE USING A CLEAN CLOTH. FOR MENS</td>\n",
              "      <td>184</td>\n",
              "    </tr>\n",
              "    <tr>\n",
              "      <th>286</th>\n",
              "      <td>556.0</td>\n",
              "      <td>CENTRINO ROMAN SANDAL MATERIAL: SYNTHETIC MATERIAL. THESE SHOES ARE MADE UP OF HIGH QUALITY SYNTHETIC MATERIAL STAYS STRONG AND DURABLE - MEANING THE SHOES WILL LAST MUCH LONGER. LIFESTYLE: FORMAL / BUSINESS. PAIR THESE STYLISH CENTRINO SHOES WITH YOUR SHIRT &amp; TROUSERS FOR THAT PERFECT LOOK. OFFICE WEAR OFFICE SHOES FORMAL SHOES SLIP-ON BUSINESS SHOES. CLOSURE: SLIP-ON. CENTRINO SHOES ARE HAND-CRAFTED FOR THAT PERFECT FIT. PERFORATED INSOLE LETS AIR PASS THROUGH THE MATERIAL. THIS IS GREAT FOR LEATHER SHOES BECAUSE THE MATERIAL LETS AIR IN TO COOL YOUR FEET AND STOP THEM FROM SMELLING. FIT: COMFORT FIT. CENTRINO ENDORSES STYLE THAT STRIKES A FINE BALANCE BETWEEN THE CLASSIC AND THE MODERN THE DISCREET AND THE BOLD WITH GOOD TASTE BEING THE ONLY CRITERION FOR SELECTION. CARE INSTRUCTIONS: ALLOW YOUR PAIR OF SHOES TO AIR ON A REGULAR BASIS. THIS HELPS THEM RETAIN THEIR NATURAL SHAPE DRY SHOES AT ROOM TEMPERATURE ONLY. EXCESSIVE EXPOSURE TO SUN WILL CAUSE THE LEATHER TO SHRINK WRINKLE HARDEN DRY AND CRACK. USE SHOE BAGS TO PREVENT ANY STAINS OR MILDEW DUST ANY DRY DIRT FROM THE SURFACE USING A CLEAN CLOTH. FOR MENS</td>\n",
              "      <td>184</td>\n",
              "    </tr>\n",
              "    <tr>\n",
              "      <th>887</th>\n",
              "      <td>410.0</td>\n",
              "      <td>Step up your style with The TWINS SHOE Sandal for women. Snake print sandals are an absolute must for women of all ages. They’re chic classy and timeless. You can dress up any outfit with a great pair of snake print or snake embossed sandals. They’ll look amazing with shorts skirts dresses wide leg pants culottes skinny jeans and more. »»Comfortable Sturdy and Durable Design«« This pair of sandals is perfect for your daily use. This pair of footwear for women from TWINS SHOE is not just footwear but an investment. The TPR sole makes this pair sturdy and durable. Made for the city these ladies sandals are going to be your go-to pair this season. »»THE MOST TRENDING STYLE«« - They're perfect for when you're on the go or walking around town. A perfect alternative to the traditional flip flop these sandals are great for the beach a quick run to the store and will even go with a more dressed up outfit. »»ENDLESS OUTFIT COMBINATIONS«« - Pair the TWINS SHOE Sandal with anything and everything casual! They are the go-to style for spring and summer. Pair them with shorts skirts dresses of any length jumpsuits and jeans! »»SPECIFICALLY FOR YOU«« - A pair of nice flat sandals suitable for many occasion like Indoor Outdoor Party Wedding Vacation Travel Daily Walking Street Shopping and so on. Find your perfect way! »»Wearing Ways For One Sandal«« »»Size Information«« ✦Please follow our below size✦ 👉🏻EU 36 = 3UK 👉🏻EU 37 = 4UK 👉🏻EU 38 = 5UK 👉🏻EU 39 = 6UK 👉🏻EU 40 = 7UK 👉🏻EU 41 = 8UK 👉🏻EU 42 = 9UK \"</td>\n",
              "      <td>31</td>\n",
              "    </tr>\n",
              "    <tr>\n",
              "      <th>102</th>\n",
              "      <td>409.0</td>\n",
              "      <td>CENTRINO MATERIAL: SYNTHETIC MATERIAL. THESE SHOES ARE MADE UP OF HIGH QUALITY SYNTHETIC MATERIAL STAYS STRONG AND DURABLE - MEANING THE SHOES WILL LAST MUCH LONGER. LIFESTYLE: FORMAL / BUSINESS. PAIR THESE STYLISH CENTRINO SHOES WITH YOUR SHIRT &amp; TROUSERS FOR THAT PERFECT LOOK. OFFICE WEAR OFFICE SHOES FORMAL SHOES SLIP-ON BUSINESS SHOES. CLOSURE: SLIP-ON. CENTRINO SHOES ARE HAND-CRAFTED FOR THAT PERFECT FIT. PERFORATED INSOLE LETS AIR PASS THROUGH THE MATERIAL. THIS IS GREAT FOR LEATHER SHOES BECAUSE THE MATERIAL LETS AIR IN TO COOL YOUR FEET AND STOP THEM FROM SMELLING. FIT: COMFORT FIT. CENTRINO ENDORSES STYLE THAT STRIKES A FINE BALANCE BETWEEN THE CLASSIC AND THE MODERN THE DISCREET AND THE BOLD WITH GOOD TASTE BEING THE ONLY CRITERION FOR SELECTION. CARE INSTRUCTIONS: ALLOW YOUR PAIR OF SHOES TO AIR ON A REGULAR BASIS. THIS HELPS THEM RETAIN THEIR NATURAL SHAPE DRY SHOES AT ROOM TEMPERATURE ONLY. EXCESSIVE EXPOSURE TO SUN WILL CAUSE THE LEATHER TO SHRINK WRINKLE HARDEN DRY AND CRACK. USE SHOE BAGS TO PREVENT ANY STAINS OR MILDEW DUST ANY DRY DIRT FROM THE SURFACE USING A CLEAN CLOTH. FOR MENS</td>\n",
              "      <td>182</td>\n",
              "    </tr>\n",
              "  </tbody>\n",
              "</table>\n",
              "</div>"
            ],
            "text/plain": [
              "      price  ... concepts\n",
              "718  3079.0  ...       33\n",
              "271   709.0  ...      184\n",
              "242   623.0  ...      184\n",
              "165   575.0  ...      184\n",
              "286   556.0  ...      184\n",
              "887   410.0  ...       31\n",
              "102   409.0  ...      182\n",
              "\n",
              "[7 rows x 3 columns]"
            ]
          },
          "metadata": {},
          "execution_count": 19
        }
      ]
    },
    {
      "cell_type": "markdown",
      "metadata": {
        "id": "iC8PXYQyZ4hh"
      },
      "source": [
        "Видим аутлаеры, в которых все написано капсом. Значит, если все капсом, то это ничего не значит и надо перевести в lower регистр\n",
        "\n",
        "Еще *: интересно, одинаковые ли слова капсят"
      ]
    },
    {
      "cell_type": "code",
      "metadata": {
        "id": "pskG0X_jXJJ8"
      },
      "source": [
        ""
      ],
      "execution_count": null,
      "outputs": []
    },
    {
      "cell_type": "markdown",
      "metadata": {
        "id": "bXeYM_uJTROh"
      },
      "source": [
        "Давайте посмотрим, поможет ли нам, если мы постараемся выделить ner - свидетельствует ли о чем-то неймдроппинг. Конечно, ner не всегда хорошо работает... особенно нлткшный, но все равно\n"
      ]
    },
    {
      "cell_type": "code",
      "metadata": {
        "colab": {
          "base_uri": "https://localhost:8080/"
        },
        "id": "aJykw3l_WIOC",
        "outputId": "65d4ddb6-0e7e-462b-8e50-916d62d389af"
      },
      "source": [
        "import nltk\n",
        "nltk.download('punkt')\n",
        "nltk.download('averaged_perceptron_tagger')\n",
        "nltk.download('maxent_ne_chunker')\n",
        "nltk.download('words')\n",
        "\n",
        "def find_ner(line):\n",
        "  count = 0\n",
        "  for sent in nltk.sent_tokenize(line):\n",
        "    for chunk in nltk.ne_chunk(nltk.pos_tag(nltk.word_tokenize(sent))):\n",
        "       if hasattr(chunk, 'label'):\n",
        "          count += 1\n",
        "  return count\n",
        "\n",
        "task1['ner'] = [find_ner(row) for row in task1['product_description']]"
      ],
      "execution_count": 24,
      "outputs": [
        {
          "output_type": "stream",
          "name": "stdout",
          "text": [
            "[nltk_data] Downloading package punkt to /root/nltk_data...\n",
            "[nltk_data]   Unzipping tokenizers/punkt.zip.\n",
            "[nltk_data] Downloading package averaged_perceptron_tagger to\n",
            "[nltk_data]     /root/nltk_data...\n",
            "[nltk_data]   Unzipping taggers/averaged_perceptron_tagger.zip.\n",
            "[nltk_data] Downloading package maxent_ne_chunker to\n",
            "[nltk_data]     /root/nltk_data...\n",
            "[nltk_data]   Unzipping chunkers/maxent_ne_chunker.zip.\n",
            "[nltk_data] Downloading package words to /root/nltk_data...\n",
            "[nltk_data]   Unzipping corpora/words.zip.\n"
          ]
        },
        {
          "output_type": "stream",
          "name": "stderr",
          "text": [
            "/usr/local/lib/python3.7/dist-packages/ipykernel_launcher.py:15: SettingWithCopyWarning: \n",
            "A value is trying to be set on a copy of a slice from a DataFrame.\n",
            "Try using .loc[row_indexer,col_indexer] = value instead\n",
            "\n",
            "See the caveats in the documentation: https://pandas.pydata.org/pandas-docs/stable/user_guide/indexing.html#returning-a-view-versus-a-copy\n",
            "  from ipykernel import kernelapp as app\n"
          ]
        }
      ]
    },
    {
      "cell_type": "code",
      "metadata": {
        "colab": {
          "base_uri": "https://localhost:8080/",
          "height": 265
        },
        "id": "vA3pHOHHaC8c",
        "outputId": "65aeb1f0-acf1-4bd7-9c36-fb91ebdfbc55"
      },
      "source": [
        "plt.scatter(task1['price'], task1['ner'])\n",
        "plt.show()"
      ],
      "execution_count": null,
      "outputs": [
        {
          "output_type": "display_data",
          "data": {
            "image/png": "[encoded data removed]",
            "text/plain": [
              "<Figure size 432x288 with 1 Axes>"
            ]
          },
          "metadata": {
            "needs_background": "light"
          }
        }
      ]
    },
    {
      "cell_type": "code",
      "metadata": {
        "colab": {
          "base_uri": "https://localhost:8080/",
          "height": 1000
        },
        "id": "LQLJhk7OaKn2",
        "outputId": "12dd6d16-2e65-44bc-ab66-973b6f780490"
      },
      "source": [
        "task1[task1['ner'] >= 30].sort_values('price', ascending=False)"
      ],
      "execution_count": null,
      "outputs": [
        {
          "output_type": "execute_result",
          "data": {
            "text/html": [
              "<div>\n",
              "<style scoped>\n",
              "    .dataframe tbody tr th:only-of-type {\n",
              "        vertical-align: middle;\n",
              "    }\n",
              "\n",
              "    .dataframe tbody tr th {\n",
              "        vertical-align: top;\n",
              "    }\n",
              "\n",
              "    .dataframe thead th {\n",
              "        text-align: right;\n",
              "    }\n",
              "</style>\n",
              "<table border=\"1\" class=\"dataframe\">\n",
              "  <thead>\n",
              "    <tr style=\"text-align: right;\">\n",
              "      <th></th>\n",
              "      <th>price</th>\n",
              "      <th>product_description</th>\n",
              "      <th>concepts</th>\n",
              "      <th>ner</th>\n",
              "    </tr>\n",
              "  </thead>\n",
              "  <tbody>\n",
              "    <tr>\n",
              "      <th>777</th>\n",
              "      <td>5499.0</td>\n",
              "      <td>Keep your options super flexible and comfortable with suave style in the SKECHERS Moreway - Chapson shoe. Soft woven mesh fabric and smooth synthetic upper in a slip on casual comfort loafer styled boat shoe with stitching and overlay accents. Air Cooled Memory Foam insole. Construction Soft smooth woven mesh fabric upper Smooth synthetic overlays at collar and heel Slip on casual comfort loafer moc boat shoe design Stitching accents Stitched raised seam accented moc toe front Breathable mesh fabric with smooth solid look Tone-on-tone synthetic overlays at collar and heel panel Smooth refined loafer design with plain Venetian front and rolled stitch detailing at sides Heel panel overlay with stitched edging Slip on design with flexible comfort instep panel Padded collar Soft fabric shoe lining Air Cooled Memory Foam cushioned comfort insole Goga Mat Arch cushion for added support Very lightweight shock absorbing midsole with articulated design Flexible siped traction outsole 1 inch heel Keep your options super flexible and comfortable with suave style in the SKECHERS Moreway - Chapson shoe. Soft woven mesh fabric and smooth synthetic upper in a slip on casual comfort loafer styled boat shoe with stitching and overlay accents. Air Cooled Memory Foam insole. Construction Soft smooth woven mesh fabric upper Smooth synthetic overlays at collar and heel Slip on casual comfort loafer moc boat shoe design Stitching accents Stitched raised seam accented moc toe front Breathable mesh fabric with smooth solid look Tone-on-tone synthetic overlays at collar and heel panel Smooth refined loafer design with plain Venetian front and rolled stitch detailing at sides Heel panel overlay with stitched edging Slip on design with flexible comfort instep panel Padded collar Soft fabric shoe lining Air Cooled Memory Foam cushioned comfort insole Goga Mat Arch cushion for added support Very lightweight shock absorbing midsole with articulated design Flexible siped traction outsole 1 inch heel</td>\n",
              "      <td>2</td>\n",
              "      <td>30</td>\n",
              "    </tr>\n",
              "    <tr>\n",
              "      <th>254</th>\n",
              "      <td>848.9</td>\n",
              "      <td>Continual attention to innovation is one of Lotto's main strengths. Technology product design and Italian style are absolute requirements for Lotto's high performance sports clothing and footwear and also for leisure clothing and footwear. Italian style and technological innovation within the heart of sport. Born from the last part of the name of its founders the brand name Lotto is now synonymous in the sports world with technological research and design innovation. The accompanying double lozenge figure representing two partially overlapping playing fields is a clear sign of company policy committed from the beginning to soccer and tennis and of an innate inclination towards active sport. The Lotto logo was created in 1973. Since then very few and only slight graphic variations have been made thereby ensuring continuity of the brand image and maximum recognisability over the years. Lotto today distributes its products in about 100 countries through independent sports article stores specialised chain-stores and large stores with specialised sports departments. Continual attention to innovation is one of Lotto's main strengths. Technology product design and Italian style are absolute requirements for Lotto's high performance sports clothing and footwear and also for leisure clothing and footwear. Italian style and technological innovation within the heart of sport. In Lotto’s history major sponsorships have always been the keystones to success stories. This tradition continues today in football with World Cup winner Luca Toni Joan Capdevila Andrea Ranocchia and Federico Balzaretti. It also forges ahead with teams ranging from Genoa in Italy Borussia Mönchengladbach in Germany Sochaux in France Queens Park Rangers in the UK El Deportivo La Coruna in Spain Goias and Recife in Brazil San Lorenzo de Almagro in Argentina as well as the national teams of Costa Rica and Panama. In tennis Lotto has been present at the Italian Open in Rome for more than thirty years and has never missed the Grand Slam tournaments and the nine Masters Series and will be increasingly present at them. David Ferrer Agnieszka Radwańska and Marion Bartoli are just a few of the tennis professionals who are now using Lotto wear. Ultra Marathoner Paolo Venturini is the tester for Lotto running products and the bike trail expert Vittorio Brumutti- being holder of 9 world records model anchor and TV star endorsing the brand’s leisure category.</td>\n",
              "      <td>2</td>\n",
              "      <td>41</td>\n",
              "    </tr>\n",
              "    <tr>\n",
              "      <th>965</th>\n",
              "      <td>799.0</td>\n",
              "      <td>We are doing twin mesh concept with textures in the air mesh makes it unique and smart. Lightweight injected EVA midsole with contrast color print on mid sole. EVA with fabric laminated socks for cushioning. Born from the last part of the name of its founders the brand name Lotto is now synonymous in the sports world with technological research and design innovation. The accompanying double lozenge figure representing two partially overlapping playing fields is a clear sign of company policy committed from the beginning to soccer and tennis and of an innate inclination towards active sport. The Lotto logo was created in 1973. Since then very few and only slight graphic variations have been made thereby ensuring continuity of the brand image and maximum recognisability over the years. Lotto today distributes its products in about 100 countries through independent sports article stores specialised chain-stores and large stores with specialised sports departments. Continual attention to innovation is one of Lotto's main strengths. Technology product design and Italian style are absolute requirements for Lotto's high performance sports clothing and footwear and also for leisure clothing and footwear. Italian style and technological innovation within the heart of sport. In Lotto’s history major sponsorships have always been the keystones to success stories. This tradition continues today in football with World Cup winner Luca Toni Joan Capdevila Andrea Ranocchia and Federico Balzaretti. It also forges ahead with teams ranging from Genoa in Italy Borussia Mönchengladbach in Germany Sochaux in France Queens Park Rangers in the UK El Deportivo La Coruna in Spain Goias and Recife in Brazil San Lorenzo de Almagro in Argentina as well as the national teams of Costa Rica and Panama. In tennis Lotto has been present at the Italian Open in Rome for more than thirty years and has never missed the Grand Slam tournaments and the nine Masters Series and will be increasingly present at them. David Ferrer Agnieszka Radwańska and Marion Bartoli are just a few of the tennis professionals who are now using Lotto wear. Ultra Marathoner Paolo Venturini is the tester for Lotto running products and the bike trail expert Vittorio Brumutti- being holder of 9 world records model anchor and TV star endorsing the brand’s leisure category.</td>\n",
              "      <td>4</td>\n",
              "      <td>38</td>\n",
              "    </tr>\n",
              "    <tr>\n",
              "      <th>271</th>\n",
              "      <td>709.0</td>\n",
              "      <td>CENTRINO CASUAL SHOES MATERIAL: SYNTHETIC MATERIAL. THESE SHOES ARE MADE UP OF HIGH QUALITY SYNTHETIC MATERIAL STAYS STRONG AND DURABLE - MEANING THE SHOES WILL LAST MUCH LONGER. LIFESTYLE: FORMAL / BUSINESS. PAIR THESE STYLISH CENTRINO SHOES WITH YOUR SHIRT &amp; TROUSERS FOR THAT PERFECT LOOK. OFFICE WEAR OFFICE SHOES FORMAL SHOES SLIP-ON BUSINESS SHOES. CLOSURE: SLIP-ON. CENTRINO SHOES ARE HAND-CRAFTED FOR THAT PERFECT FIT. PERFORATED INSOLE LETS AIR PASS THROUGH THE MATERIAL. THIS IS GREAT FOR LEATHER SHOES BECAUSE THE MATERIAL LETS AIR IN TO COOL YOUR FEET AND STOP THEM FROM SMELLING. FIT: COMFORT FIT. CENTRINO ENDORSES STYLE THAT STRIKES A FINE BALANCE BETWEEN THE CLASSIC AND THE MODERN THE DISCREET AND THE BOLD WITH GOOD TASTE BEING THE ONLY CRITERION FOR SELECTION. CARE INSTRUCTIONS: ALLOW YOUR PAIR OF SHOES TO AIR ON A REGULAR BASIS. THIS HELPS THEM RETAIN THEIR NATURAL SHAPE DRY SHOES AT ROOM TEMPERATURE ONLY. EXCESSIVE EXPOSURE TO SUN WILL CAUSE THE LEATHER TO SHRINK WRINKLE HARDEN DRY AND CRACK. USE SHOE BAGS TO PREVENT ANY STAINS OR MILDEW DUST ANY DRY DIRT FROM THE SURFACE USING A CLEAN CLOTH. FOR MENS</td>\n",
              "      <td>184</td>\n",
              "      <td>47</td>\n",
              "    </tr>\n",
              "    <tr>\n",
              "      <th>242</th>\n",
              "      <td>623.0</td>\n",
              "      <td>CENTRINO LOAFER SHOES MATERIAL: SYNTHETIC MATERIAL. THESE SHOES ARE MADE UP OF HIGH QUALITY SYNTHETIC MATERIAL STAYS STRONG AND DURABLE - MEANING THE SHOES WILL LAST MUCH LONGER. LIFESTYLE: FORMAL / BUSINESS. PAIR THESE STYLISH CENTRINO SHOES WITH YOUR SHIRT &amp; TROUSERS FOR THAT PERFECT LOOK. OFFICE WEAR OFFICE SHOES FORMAL SHOES SLIP-ON BUSINESS SHOES. CLOSURE: SLIP-ON. CENTRINO SHOES ARE HAND-CRAFTED FOR THAT PERFECT FIT. PERFORATED INSOLE LETS AIR PASS THROUGH THE MATERIAL. THIS IS GREAT FOR LEATHER SHOES BECAUSE THE MATERIAL LETS AIR IN TO COOL YOUR FEET AND STOP THEM FROM SMELLING. FIT: COMFORT FIT. CENTRINO ENDORSES STYLE THAT STRIKES A FINE BALANCE BETWEEN THE CLASSIC AND THE MODERN THE DISCREET AND THE BOLD WITH GOOD TASTE BEING THE ONLY CRITERION FOR SELECTION. CARE INSTRUCTIONS: ALLOW YOUR PAIR OF SHOES TO AIR ON A REGULAR BASIS. THIS HELPS THEM RETAIN THEIR NATURAL SHAPE DRY SHOES AT ROOM TEMPERATURE ONLY. EXCESSIVE EXPOSURE TO SUN WILL CAUSE THE LEATHER TO SHRINK WRINKLE HARDEN DRY AND CRACK. USE SHOE BAGS TO PREVENT ANY STAINS OR MILDEW DUST ANY DRY DIRT FROM THE SURFACE USING A CLEAN CLOTH. FOR MENS</td>\n",
              "      <td>184</td>\n",
              "      <td>47</td>\n",
              "    </tr>\n",
              "    <tr>\n",
              "      <th>165</th>\n",
              "      <td>575.0</td>\n",
              "      <td>CENTRINO CASUAL SHOES MATERIAL: SYNTHETIC MATERIAL. THESE SHOES ARE MADE UP OF HIGH QUALITY SYNTHETIC MATERIAL STAYS STRONG AND DURABLE - MEANING THE SHOES WILL LAST MUCH LONGER. LIFESTYLE: FORMAL / BUSINESS. PAIR THESE STYLISH CENTRINO SHOES WITH YOUR SHIRT &amp; TROUSERS FOR THAT PERFECT LOOK. OFFICE WEAR OFFICE SHOES FORMAL SHOES SLIP-ON BUSINESS SHOES. CLOSURE: SLIP-ON. CENTRINO SHOES ARE HAND-CRAFTED FOR THAT PERFECT FIT. PERFORATED INSOLE LETS AIR PASS THROUGH THE MATERIAL. THIS IS GREAT FOR LEATHER SHOES BECAUSE THE MATERIAL LETS AIR IN TO COOL YOUR FEET AND STOP THEM FROM SMELLING. FIT: COMFORT FIT. CENTRINO ENDORSES STYLE THAT STRIKES A FINE BALANCE BETWEEN THE CLASSIC AND THE MODERN THE DISCREET AND THE BOLD WITH GOOD TASTE BEING THE ONLY CRITERION FOR SELECTION. CARE INSTRUCTIONS: ALLOW YOUR PAIR OF SHOES TO AIR ON A REGULAR BASIS. THIS HELPS THEM RETAIN THEIR NATURAL SHAPE DRY SHOES AT ROOM TEMPERATURE ONLY. EXCESSIVE EXPOSURE TO SUN WILL CAUSE THE LEATHER TO SHRINK WRINKLE HARDEN DRY AND CRACK. USE SHOE BAGS TO PREVENT ANY STAINS OR MILDEW DUST ANY DRY DIRT FROM THE SURFACE USING A CLEAN CLOTH. FOR MENS</td>\n",
              "      <td>184</td>\n",
              "      <td>47</td>\n",
              "    </tr>\n",
              "    <tr>\n",
              "      <th>286</th>\n",
              "      <td>556.0</td>\n",
              "      <td>CENTRINO ROMAN SANDAL MATERIAL: SYNTHETIC MATERIAL. THESE SHOES ARE MADE UP OF HIGH QUALITY SYNTHETIC MATERIAL STAYS STRONG AND DURABLE - MEANING THE SHOES WILL LAST MUCH LONGER. LIFESTYLE: FORMAL / BUSINESS. PAIR THESE STYLISH CENTRINO SHOES WITH YOUR SHIRT &amp; TROUSERS FOR THAT PERFECT LOOK. OFFICE WEAR OFFICE SHOES FORMAL SHOES SLIP-ON BUSINESS SHOES. CLOSURE: SLIP-ON. CENTRINO SHOES ARE HAND-CRAFTED FOR THAT PERFECT FIT. PERFORATED INSOLE LETS AIR PASS THROUGH THE MATERIAL. THIS IS GREAT FOR LEATHER SHOES BECAUSE THE MATERIAL LETS AIR IN TO COOL YOUR FEET AND STOP THEM FROM SMELLING. FIT: COMFORT FIT. CENTRINO ENDORSES STYLE THAT STRIKES A FINE BALANCE BETWEEN THE CLASSIC AND THE MODERN THE DISCREET AND THE BOLD WITH GOOD TASTE BEING THE ONLY CRITERION FOR SELECTION. CARE INSTRUCTIONS: ALLOW YOUR PAIR OF SHOES TO AIR ON A REGULAR BASIS. THIS HELPS THEM RETAIN THEIR NATURAL SHAPE DRY SHOES AT ROOM TEMPERATURE ONLY. EXCESSIVE EXPOSURE TO SUN WILL CAUSE THE LEATHER TO SHRINK WRINKLE HARDEN DRY AND CRACK. USE SHOE BAGS TO PREVENT ANY STAINS OR MILDEW DUST ANY DRY DIRT FROM THE SURFACE USING A CLEAN CLOTH. FOR MENS</td>\n",
              "      <td>184</td>\n",
              "      <td>47</td>\n",
              "    </tr>\n",
              "    <tr>\n",
              "      <th>102</th>\n",
              "      <td>409.0</td>\n",
              "      <td>CENTRINO MATERIAL: SYNTHETIC MATERIAL. THESE SHOES ARE MADE UP OF HIGH QUALITY SYNTHETIC MATERIAL STAYS STRONG AND DURABLE - MEANING THE SHOES WILL LAST MUCH LONGER. LIFESTYLE: FORMAL / BUSINESS. PAIR THESE STYLISH CENTRINO SHOES WITH YOUR SHIRT &amp; TROUSERS FOR THAT PERFECT LOOK. OFFICE WEAR OFFICE SHOES FORMAL SHOES SLIP-ON BUSINESS SHOES. CLOSURE: SLIP-ON. CENTRINO SHOES ARE HAND-CRAFTED FOR THAT PERFECT FIT. PERFORATED INSOLE LETS AIR PASS THROUGH THE MATERIAL. THIS IS GREAT FOR LEATHER SHOES BECAUSE THE MATERIAL LETS AIR IN TO COOL YOUR FEET AND STOP THEM FROM SMELLING. FIT: COMFORT FIT. CENTRINO ENDORSES STYLE THAT STRIKES A FINE BALANCE BETWEEN THE CLASSIC AND THE MODERN THE DISCREET AND THE BOLD WITH GOOD TASTE BEING THE ONLY CRITERION FOR SELECTION. CARE INSTRUCTIONS: ALLOW YOUR PAIR OF SHOES TO AIR ON A REGULAR BASIS. THIS HELPS THEM RETAIN THEIR NATURAL SHAPE DRY SHOES AT ROOM TEMPERATURE ONLY. EXCESSIVE EXPOSURE TO SUN WILL CAUSE THE LEATHER TO SHRINK WRINKLE HARDEN DRY AND CRACK. USE SHOE BAGS TO PREVENT ANY STAINS OR MILDEW DUST ANY DRY DIRT FROM THE SURFACE USING A CLEAN CLOTH. FOR MENS</td>\n",
              "      <td>182</td>\n",
              "      <td>46</td>\n",
              "    </tr>\n",
              "  </tbody>\n",
              "</table>\n",
              "</div>"
            ],
            "text/plain": [
              "      price  ... ner\n",
              "777  5499.0  ...  30\n",
              "254   848.9  ...  41\n",
              "965   799.0  ...  38\n",
              "271   709.0  ...  47\n",
              "242   623.0  ...  47\n",
              "165   575.0  ...  47\n",
              "286   556.0  ...  47\n",
              "102   409.0  ...  46\n",
              "\n",
              "[8 rows x 4 columns]"
            ]
          },
          "metadata": {},
          "execution_count": 165
        }
      ]
    },
    {
      "cell_type": "markdown",
      "metadata": {
        "id": "6zH33O_xW09f"
      },
      "source": [
        "Цена VS длина описания"
      ]
    },
    {
      "cell_type": "code",
      "metadata": {
        "colab": {
          "base_uri": "https://localhost:8080/"
        },
        "id": "y7KZoq3fdaX9",
        "outputId": "3af70206-4bea-4bda-f025-f7baab86f956"
      },
      "source": [
        "task1['length'] = [len(row.split(' ')) for row in task1['product_description']]"
      ],
      "execution_count": null,
      "outputs": [
        {
          "output_type": "stream",
          "name": "stderr",
          "text": [
            "/usr/local/lib/python3.7/dist-packages/ipykernel_launcher.py:1: SettingWithCopyWarning: \n",
            "A value is trying to be set on a copy of a slice from a DataFrame.\n",
            "Try using .loc[row_indexer,col_indexer] = value instead\n",
            "\n",
            "See the caveats in the documentation: https://pandas.pydata.org/pandas-docs/stable/user_guide/indexing.html#returning-a-view-versus-a-copy\n",
            "  \"\"\"Entry point for launching an IPython kernel.\n"
          ]
        }
      ]
    },
    {
      "cell_type": "code",
      "metadata": {
        "colab": {
          "base_uri": "https://localhost:8080/",
          "height": 265
        },
        "id": "uak2FZrjiH9M",
        "outputId": "b5d4d5e2-ee99-4e18-ab53-0373f43dd181"
      },
      "source": [
        "plt.scatter(task1['price'], task1['length'])\n",
        "plt.show()"
      ],
      "execution_count": null,
      "outputs": [
        {
          "output_type": "display_data",
          "data": {
            "image/png": "[encoded data removed]",
            "text/plain": [
              "<Figure size 432x288 with 1 Axes>"
            ]
          },
          "metadata": {
            "needs_background": "light"
          }
        }
      ]
    },
    {
      "cell_type": "code",
      "metadata": {
        "colab": {
          "base_uri": "https://localhost:8080/",
          "height": 1000
        },
        "id": "_Jhy6BR2iVYo",
        "outputId": "e626bf3b-dabb-4873-e1dd-544d75288bec"
      },
      "source": [
        "task1[task1['length'] >= 300].sort_values('price', ascending=False)"
      ],
      "execution_count": null,
      "outputs": [
        {
          "output_type": "execute_result",
          "data": {
            "text/html": [
              "<div>\n",
              "<style scoped>\n",
              "    .dataframe tbody tr th:only-of-type {\n",
              "        vertical-align: middle;\n",
              "    }\n",
              "\n",
              "    .dataframe tbody tr th {\n",
              "        vertical-align: top;\n",
              "    }\n",
              "\n",
              "    .dataframe thead th {\n",
              "        text-align: right;\n",
              "    }\n",
              "</style>\n",
              "<table border=\"1\" class=\"dataframe\">\n",
              "  <thead>\n",
              "    <tr style=\"text-align: right;\">\n",
              "      <th></th>\n",
              "      <th>price</th>\n",
              "      <th>product_description</th>\n",
              "      <th>concepts</th>\n",
              "      <th>ner</th>\n",
              "      <th>length</th>\n",
              "    </tr>\n",
              "  </thead>\n",
              "  <tbody>\n",
              "    <tr>\n",
              "      <th>777</th>\n",
              "      <td>5499.0</td>\n",
              "      <td>Keep your options super flexible and comfortable with suave style in the SKECHERS Moreway - Chapson shoe. Soft woven mesh fabric and smooth synthetic upper in a slip on casual comfort loafer styled boat shoe with stitching and overlay accents. Air Cooled Memory Foam insole. Construction Soft smooth woven mesh fabric upper Smooth synthetic overlays at collar and heel Slip on casual comfort loafer moc boat shoe design Stitching accents Stitched raised seam accented moc toe front Breathable mesh fabric with smooth solid look Tone-on-tone synthetic overlays at collar and heel panel Smooth refined loafer design with plain Venetian front and rolled stitch detailing at sides Heel panel overlay with stitched edging Slip on design with flexible comfort instep panel Padded collar Soft fabric shoe lining Air Cooled Memory Foam cushioned comfort insole Goga Mat Arch cushion for added support Very lightweight shock absorbing midsole with articulated design Flexible siped traction outsole 1 inch heel Keep your options super flexible and comfortable with suave style in the SKECHERS Moreway - Chapson shoe. Soft woven mesh fabric and smooth synthetic upper in a slip on casual comfort loafer styled boat shoe with stitching and overlay accents. Air Cooled Memory Foam insole. Construction Soft smooth woven mesh fabric upper Smooth synthetic overlays at collar and heel Slip on casual comfort loafer moc boat shoe design Stitching accents Stitched raised seam accented moc toe front Breathable mesh fabric with smooth solid look Tone-on-tone synthetic overlays at collar and heel panel Smooth refined loafer design with plain Venetian front and rolled stitch detailing at sides Heel panel overlay with stitched edging Slip on design with flexible comfort instep panel Padded collar Soft fabric shoe lining Air Cooled Memory Foam cushioned comfort insole Goga Mat Arch cushion for added support Very lightweight shock absorbing midsole with articulated design Flexible siped traction outsole 1 inch heel</td>\n",
              "      <td>2</td>\n",
              "      <td>30</td>\n",
              "      <td>310</td>\n",
              "    </tr>\n",
              "    <tr>\n",
              "      <th>1168</th>\n",
              "      <td>4749.0</td>\n",
              "      <td>Designed for race day or fast training the Wave Sayonara delivers an exceptional ride in light weight versatile execution. It features a harmonious mid-foot wrap for refined fit an ultra-responsive U4iC midsole and parallel wave in the heel for a cushioned run and a wide fore foot and full ground midsole for stable fast ride. Pronation type provided is performance neutral which is built with lower profile midsole dimensions for a more responsive performance ride and allows the foot to work without impediments. Rihachi Mizuno opened his first store in 1906 to share his passion for sports through the gear he and a small team of craftsmen proudly made in Japan. Driven by an uncompromising focus on athletic performance and aware that getting small product design details right could make a big difference on the field every generation of Mizuno products since then has combined meticulous craftsmanship with restless innovation. Today Mizuno Sports extends this legacy of innovation by combining time-honored heritage with a modern sense of style for items that fit your life the way you want to live it. Mizuno not only supports sporting activities by offering better sporting goods but also develops products and services that make the most of the value of sports and actively spread that in daily life. Rihachi Mizuno opened his first store in 1906 to share his passion for sports through the gear he and a small team of craftsmen proudly made in japan driven by an uncompromising focus on athletic performance and aware that getting small product design details right could make a big difference on the field every generation of Mizuno products since then has combined meticulous craftsmanship with restless innovation today Mizuno sports extends this legacy of innovation by combining time-honoured heritage with a modern sense of style for items that fit your life the way you want to live it mizuno not only supports sporting activities by offering better sporting goods but also develops products and services that make the most of the value of sports and actively spread that in daily life we will contribute to making people around the world happy through the power of sports.</td>\n",
              "      <td>0</td>\n",
              "      <td>12</td>\n",
              "      <td>360</td>\n",
              "    </tr>\n",
              "    <tr>\n",
              "      <th>773</th>\n",
              "      <td>4699.0</td>\n",
              "      <td>Details Lightweight responsive ULTRA GO cushioning High-rebound ULTRA PILLARS underfoot react to your every step for the ultimate comfort Skechers Air Cooled Goga Mat breathable insole provides high-rebound cushioning Soft woven mesh fabric upper - Seamless comfort fit Weight: 7.2 oz. per shoe in a men's size 9 1 1/2 inch heel Construction Soft woven athletic mesh fabric upper Solid color design with knit-in texture detail Synthetic toe panel overlay for added durability Slip on comfort walking design Side S logo Heel fabric overlay panel with top pull-on loop Soft padded collar for supreme comfort Natural expansion provides a comfortable natural fit Skechers a brand well known for its domination over global footwear industry has brought the legacy of stupendously awesome products innovations and supreme technology to India. Skechers understands the dynamic Indian footwear market and offers a wide range of shoes catering right from poker parties to running walking &amp; gymming to casual shoes across every age and demographic it’s a shoe for every mood! This season Skechers has introduced sport shoes for both men and women. Ever imagined a shoe that gives enhance support &amp; cushion highly flexible breathable with seamless construction and extremely lightweight? Skechers sport shoes has it all. Thanks to the advanced Engineered Mesh construction making it an awesome sporty shoes. It is designed to increase breathability and flexibility while providing the strength and durability as a regular upper. The seamless one piece construction enhances the functionality of the shoe while eliminating unwanted layers. The minimal lallyers allow the mesh to form around your foot which also adds additional comfort. ‘Feels like walking on the bed’ - That’s what memory foam does to your feet. Memory foam in Skechers sport shoes is an ultra-soft insole that instantly contours to foot which gives you customized cushioning system only to elevate everyday comfort.</td>\n",
              "      <td>4</td>\n",
              "      <td>15</td>\n",
              "      <td>306</td>\n",
              "    </tr>\n",
              "    <tr>\n",
              "      <th>1124</th>\n",
              "      <td>4499.0</td>\n",
              "      <td>Upper: Strong yet lightweight textured Knitted upper offers breathability and stability. Single layer in forefoot offers greater flexibility. Hot melt overlay at toe and heel offers durability and stability. Quick-fit portal on heel for easy on convenience. Bottom: All new Air-Cooled Goga Mat insole provides more cushioning high rebound and a cooling comfort. 5GEN bottom – Skechers proprietary technology which is light weight and provides more cushioning and rebound. Go Walk 4 bottom with adaptive GOGA PILLARS provides added cushion and rebound. Slip and Abrasion resistance property in bottom avoids slippage and protects from early wear and tear. Skechers a brand well known for its domination over global footwear industry has brought the legacy of stupendously awesome products innovations and supreme technology to India. Skechers understands the dynamic Indian footwear market and offers a wide range of shoes catering right from poker parties to running walking &amp; gymming to casual shoes across every age and demographic it’s a shoe for every mood! This season Skechers has introduced sport shoes for both men and women. Ever imagined a shoe that gives enhance support &amp; cushion highly flexible breathable with seamless construction and extremely lightweight? Skechers sport shoes has it all. Thanks to the advanced Engineered Mesh construction making it an awesome sporty shoes. It is designed to increase breathability and flexibility while providing the strength and durability as a regular upper. The seamless one piece construction enhances the functionality of the shoe while eliminating unwanted layers. The minimal lallyers allow the mesh to form around your foot which also adds additional comfort. ‘Feels like walking on the bed’ - That’s what memory foam does to your feet. Memory foam in Skechers sport shoes is an ultra-soft insole that instantly contours to foot which gives you customized cushioning system only to elevate everyday comfort.</td>\n",
              "      <td>3</td>\n",
              "      <td>15</td>\n",
              "      <td>302</td>\n",
              "    </tr>\n",
              "    <tr>\n",
              "      <th>566</th>\n",
              "      <td>3419.0</td>\n",
              "      <td>Product description : Athletic and Outdoor Shoes Men Shoes brand description Skechers a brand well known for its domination over global footwear industry has brought the legacy of stupendously awesome products innovations and supreme technology to India. Skechers understands the dynamic Indian footwear market and offers a wide range of shoes catering right from poker parties to running walking and gymming to casual shoes across every age and demographic it’s a shoe for every mood! This season Skechers has introduced sport shoes for both men and women. Engineered Mesh: Ever imagined a shoe that gives enhance support and cushion highly flexible breathable with seamless construction and extremely lightweight? Skechers sport shoes has it all. Thanks to the advanced Engineered Mesh construction making it an awesome sporty shoes. It is designed to increase breathability and flexibility while providing the strength and durability as a regular upper. The seamless one piece construction enhances the functionality of the shoe while eliminating unwanted layers. The minimal lallyers allow the mesh to form around your foot which also adds additional comfort. Memory Foam: Feels like walking on the bed - That’s what memory foam does to your feet. Memory foam in Skechers sport shoes is an ultra-soft insole that instantly contours to foot which gives you customized cushioning system only to elevate everyday comfort. Skechers a brand well known for its domination over global footwear industry has brought the legacy of stupendously awesome products innovations and supreme technology to India. Skechers understands the dynamic Indian footwear market and offers a wide range of shoes catering right from poker parties to running walking &amp; gymming to casual shoes across every age and demographic it’s a shoe for every mood! This season Skechers has introduced sport shoes for both men and women. Ever imagined a shoe that gives enhance support &amp; cushion highly flexible breathable with seamless construction and extremely lightweight? Skechers sport shoes has it all. Thanks to the advanced Engineered Mesh construction making it an awesome sporty shoes. It is designed to increase breathability and flexibility while providing the strength and durability as a regular upper. The seamless one piece construction enhances the functionality of the shoe while eliminating unwanted layers. The minimal lallyers allow the mesh to form around your foot which also adds additional comfort. ‘Feels like walking on the bed’ - That’s what memory foam does to your feet. Memory foam in Skechers sport shoes is an ultra-soft insole that instantly contours to foot which gives you customized cushioning system only to elevate everyday comfort.</td>\n",
              "      <td>0</td>\n",
              "      <td>16</td>\n",
              "      <td>423</td>\n",
              "    </tr>\n",
              "    <tr>\n",
              "      <th>765</th>\n",
              "      <td>3212.0</td>\n",
              "      <td>Designed for race day or fast training the Wave Sayonara delivers an exceptional ride in light weight versatile execution. It features a harmonious mid-foot wrap for refined fit an ultra-responsive U4iC midsole and parallel wave in the heel for a cushioned run and a wide fore foot and full ground midsole for stable fast ride. Pronation type provided is performance neutral which is built with lower profile midsole dimensions for a more responsive performance ride and allows the foot to work without impediments. Rihachi Mizuno opened his first store in 1906 to share his passion for sports through the gear he and a small team of craftsmen proudly made in Japan. Driven by an uncompromising focus on athletic performance and aware that getting small product design details right could make a big difference on the field every generation of Mizuno products since then has combined meticulous craftsmanship with restless innovation. Today Mizuno Sports extends this legacy of innovation by combining time-honored heritage with a modern sense of style for items that fit your life the way you want to live it. Mizuno not only supports sporting activities by offering better sporting goods but also develops products and services that make the most of the value of sports and actively spread that in daily life. Rihachi Mizuno opened his first store in 1906 to share his passion for sports through the gear he and a small team of craftsmen proudly made in japan driven by an uncompromising focus on athletic performance and aware that getting small product design details right could make a big difference on the field every generation of Mizuno products since then has combined meticulous craftsmanship with restless innovation today Mizuno sports extends this legacy of innovation by combining time-honoured heritage with a modern sense of style for items that fit your life the way you want to live it mizuno not only supports sporting activities by offering better sporting goods but also develops products and services that make the most of the value of sports and actively spread that in daily life we will contribute to making people around the world happy through the power of sports.</td>\n",
              "      <td>0</td>\n",
              "      <td>12</td>\n",
              "      <td>360</td>\n",
              "    </tr>\n",
              "    <tr>\n",
              "      <th>818</th>\n",
              "      <td>3169.0</td>\n",
              "      <td>The next generation of Wave Rider line is Mizuno’s best yet. This is the ideal balance between fit and performance all packed in a sleek lightweight daily trainer with superb underfoot sensation for a smooth and responsive run that work harmoniously with the runner in every stride. Pronation type provided is maximum neutral which is built with higher midsole dimension for more luxurious cushioning to allow the foot to work without impediments. Rihachi Mizuno opened his first store in 1906 to share his passion for sports through the gear he and a small team of craftsmen proudly made in Japan. Driven by an uncompromising focus on athletic performance and aware that getting small product design details right could make a big difference on the field every generation of Mizuno products since then has combined meticulous craftsmanship with restless innovation. Today Mizuno Sports extends this legacy of innovation by combining time-honored heritage with a modern sense of style for items that fit your life the way you want to live it. Mizuno not only supports sporting activities by offering better sporting goods but also develops products and services that make the most of the value of sports and actively spread that in daily life. Rihachi Mizuno opened his first store in 1906 to share his passion for sports through the gear he and a small team of craftsmen proudly made in japan driven by an uncompromising focus on athletic performance and aware that getting small product design details right could make a big difference on the field every generation of Mizuno products since then has combined meticulous craftsmanship with restless innovation today Mizuno sports extends this legacy of innovation by combining time-honoured heritage with a modern sense of style for items that fit your life the way you want to live it mizuno not only supports sporting activities by offering better sporting goods but also develops products and services that make the most of the value of sports and actively spread that in daily life we will contribute to making people around the world happy through the power of sports.</td>\n",
              "      <td>0</td>\n",
              "      <td>12</td>\n",
              "      <td>349</td>\n",
              "    </tr>\n",
              "    <tr>\n",
              "      <th>747</th>\n",
              "      <td>3000.0</td>\n",
              "      <td>Upper: Soft and seamless Engineered mesh upper offers breathability and flexibility. Open weaved mesh provides air ventilation and offers a cooling comfort.Closed weaved mesh offers stability. Bottom:Air-Cooled Memory Foam insole provides breathability pressure relief and instant comfort.Lightweight Elite-Flex bottom offers high flexibility stability and cushioning comfort.Improved traction pattern in bottom provides better grip during every ride and abrasion resistance. brand description Skechers a brand well known for its domination over global footwear industry has brought the legacy of stupendously awesome products innovations and supreme technology to India. Skechers understands the dynamic Indian footwear market and offers a wide range of shoes catering right from poker parties to running walking &amp; gymming to casual shoes across every age and demographic it’s a shoe for every mood! This season Skechers has introduced sport shoes for both men and women. Engineered Mesh: Ever imagined a shoe that gives enhance support &amp; cushion highly flexible breathable with seamless construction and extremely lightweight? Skechers sport shoes has it all. Thanks to the advanced Engineered Mesh construction making it an awesome sporty shoes. It is designed to increase breathability and flexibility while providing the strength and durability as a regular upper. The seamless one piece construction enhances the functionality of the shoe while eliminating unwanted layers. The minimal lallyers allow the mesh to form around your foot which also adds additional comfort. Memory Foam: ‘Feels like walking on the bed’ - That’s what memory foam does to your feet. Memory foam in Skechers sport shoes is an ultra-soft insole that instantly contours to foot which gives you customized cushioning system only to elevate everyday comfort. Skechers a brand well known for its domination over global footwear industry has brought the legacy of stupendously awesome products innovations and supreme technology to India. Skechers understands the dynamic Indian footwear market and offers a wide range of shoes catering right from poker parties to running walking &amp; gymming to casual shoes across every age and demographic it’s a shoe for every mood! This season Skechers has introduced sport shoes for both men and women. Ever imagined a shoe that gives enhance support &amp; cushion highly flexible breathable with seamless construction and extremely lightweight? Skechers sport shoes has it all. Thanks to the advanced Engineered Mesh construction making it an awesome sporty shoes. It is designed to increase breathability and flexibility while providing the strength and durability as a regular upper. The seamless one piece construction enhances the functionality of the shoe while eliminating unwanted layers. The minimal lallyers allow the mesh to form around your foot which also adds additional comfort. ‘Feels like walking on the bed’ - That’s what memory foam does to your feet. Memory foam in Skechers sport shoes is an ultra-soft insole that instantly contours to foot which gives you customized cushioning system only to elevate everyday comfort.</td>\n",
              "      <td>0</td>\n",
              "      <td>17</td>\n",
              "      <td>473</td>\n",
              "    </tr>\n",
              "    <tr>\n",
              "      <th>550</th>\n",
              "      <td>2474.0</td>\n",
              "      <td>Upper: Strong yet soft dual-tone textured knitted upper offers breathability and stability. Single layer in forefoot offers greater flexibility. Hot melt overlay at eye stay and heel offers durability and stability. Bottom: All new Skechers Air Cooled Goga Mat insole provides high-rebound cushioning and a cooling comfort. 5GEN midsole – Skechers proprietary technology which is light weight and provides more cushioning and rebound. GO RUN 600 outsole that has similar design DNA as GORUN 5. Advanced bottom design provides multidirectional traction and avoids slippage. Added rubber in key strike zones protects bottom from early wear and tear. Skechers a brand well known for its domination over global footwear industry has brought the legacy of stupendously awesome products innovations and supreme technology to India. Skechers understands the dynamic Indian footwear market and offers a wide range of shoes catering right from poker parties to running walking &amp; gymming to casual shoes across every age and demographic it’s a shoe for every mood! This season Skechers has introduced sport shoes for both men and women. Ever imagined a shoe that gives enhance support &amp; cushion highly flexible breathable with seamless construction and extremely lightweight? Skechers sport shoes has it all. Thanks to the advanced Engineered Mesh construction making it an awesome sporty shoes. It is designed to increase breathability and flexibility while providing the strength and durability as a regular upper. The seamless one piece construction enhances the functionality of the shoe while eliminating unwanted layers. The minimal lallyers allow the mesh to form around your foot which also adds additional comfort. ‘Feels like walking on the bed’ - That’s what memory foam does to your feet. Memory foam in Skechers sport shoes is an ultra-soft insole that instantly contours to foot which gives you customized cushioning system only to elevate everyday comfort.</td>\n",
              "      <td>5</td>\n",
              "      <td>14</td>\n",
              "      <td>301</td>\n",
              "    </tr>\n",
              "    <tr>\n",
              "      <th>530</th>\n",
              "      <td>2130.0</td>\n",
              "      <td>Go further than ever before with the men's gel-contend 5 running shoe by ASICS Created to offer The energized cushioning and stability required to clock up those extra miles. The gel-contend 5 shoe offers a supportive fit thanks to an internal heel counter while rearfoot gel technology and the AmpliFoam Midsole ensure your feet remain cushioned and comfortable every step of the way. A solid rubber outsole gives this shoe a high level of durability while the athletic Mesh and removable orthoclase sockliner help you stay fresher for longer as you take on new challenges. You can rest assured that the gel-contend 5 shoe will give you comfort and protection when you need it most. Weight: 10.25 oz. Heel Height: 22mm Forefoot Height: 12mm Product features AmpliFoam Midsole engineered to maintain durability at softer densities providing better flexibility comfort and platform adaptability ideal for natural running. Rearfoot gel technology cushioning system attenuates shock during impact phase and allows for a smooth transition to midstance. Orthoclase sockliner moisture management (orthoclase is a registered trademark of atp manufacturing llc). orthoclase x-40 sockliner this premium sockliner features higher rebound properties while providing excellent moisture management and a high-level of breathability (orthoclase is a registered trademark of atp manufacturing llc.). ASICS has been developing sports footwear and apparel for more than 50 years. In this time innovation has been the key to our introduction of design philosophies that have revolutionised the world of sports. At our research and development centre in Kobe Japan we work in close collaboration with male and female athletes. Through our scientific approach we have strived to create highly innovative sports product solutions that our customers rely upon. Technologies such as core GEL cushioning system and Flytefoam are renown for enabling the most comfortable and performance-enhancing footwear and apparel on the market for athletes and active consumers alike.</td>\n",
              "      <td>3</td>\n",
              "      <td>10</td>\n",
              "      <td>308</td>\n",
              "    </tr>\n",
              "    <tr>\n",
              "      <th>516</th>\n",
              "      <td>2026.0</td>\n",
              "      <td>Upper: Soft and lightweight mesh upper offers breathability and a cooling comfort. Single layer in forefoot offers greater flexibility. Dual side elastic panels for custom fit. Stretchable collar fabric and pull tab on heel for easy wear on and off convenience. Bottom: All new Skechers Air Cooled Goga Mat insole provides high-rebound cushioning and a cooling comfort. All new ULTRA GO bottom – Skechers proprietary technology which is light weight and provides ultra-cushioning and rebound. All new ON-THE-GO-GLIDE 2.0 bottom design offers cushioning and stability. Smooth traction pattern in bottom provides better grip on the ground and abrasion resistance. Skechers a brand well known for its domination over global footwear industry has brought the legacy of stupendously awesome products innovations and supreme technology to India. Skechers understands the dynamic Indian footwear market and offers a wide range of shoes catering right from poker parties to running walking &amp; gymming to casual shoes across every age and demographic it’s a shoe for every mood! This season Skechers has introduced sport shoes for both men and women. Ever imagined a shoe that gives enhance support &amp; cushion highly flexible breathable with seamless construction and extremely lightweight? Skechers sport shoes has it all. Thanks to the advanced Engineered Mesh construction making it an awesome sporty shoes. It is designed to increase breathability and flexibility while providing the strength and durability as a regular upper. The seamless one piece construction enhances the functionality of the shoe while eliminating unwanted layers. The minimal lallyers allow the mesh to form around your foot which also adds additional comfort. ‘Feels like walking on the bed’ - That’s what memory foam does to your feet. Memory foam in Skechers sport shoes is an ultra-soft insole that instantly contours to foot which gives you customized cushioning system only to elevate everyday comfort.</td>\n",
              "      <td>6</td>\n",
              "      <td>13</td>\n",
              "      <td>303</td>\n",
              "    </tr>\n",
              "    <tr>\n",
              "      <th>427</th>\n",
              "      <td>2000.0</td>\n",
              "      <td>Upper: Strong yet soft dual-tone textured knitted upper offers breathability and stability. Single layer in forefoot offers greater flexibility. Hot melt overlay at eye stay and heel offers durability and stability. Bottom: All new Skechers Air Cooled Goga Mat insole provides high-rebound cushioning and a cooling comfort. 5GEN midsole – Skechers proprietary technology which is light weight and provides more cushioning and rebound. GO RUN 600 outsole that has similar design DNA as GORUN 5. Advanced bottom design provides multidirectional traction and avoids slippage. Added rubber in key strike zones protects bottom from early wear and tear. Skechers a brand well known for its domination over global footwear industry has brought the legacy of stupendously awesome products innovations and supreme technology to India. Skechers understands the dynamic Indian footwear market and offers a wide range of shoes catering right from poker parties to running walking &amp; gymming to casual shoes across every age and demographic it’s a shoe for every mood! This season Skechers has introduced sport shoes for both men and women. Ever imagined a shoe that gives enhance support &amp; cushion highly flexible breathable with seamless construction and extremely lightweight? Skechers sport shoes has it all. Thanks to the advanced Engineered Mesh construction making it an awesome sporty shoes. It is designed to increase breathability and flexibility while providing the strength and durability as a regular upper. The seamless one piece construction enhances the functionality of the shoe while eliminating unwanted layers. The minimal lallyers allow the mesh to form around your foot which also adds additional comfort. ‘Feels like walking on the bed’ - That’s what memory foam does to your feet. Memory foam in Skechers sport shoes is an ultra-soft insole that instantly contours to foot which gives you customized cushioning system only to elevate everyday comfort.</td>\n",
              "      <td>5</td>\n",
              "      <td>14</td>\n",
              "      <td>301</td>\n",
              "    </tr>\n",
              "    <tr>\n",
              "      <th>504</th>\n",
              "      <td>1299.0</td>\n",
              "      <td>Up your style game in the Rick Point NU IDP sneaker from PUMA. This sneaker gives you the ultimate combination of comfort and style at an affordable price-point. Designed to give you optimal comfort for each and every step of the day these men’s casual sneakers are a must-have to complete your casual look. The Rick Point NU IDP shoes are the perfect fit if you’re looking for: Style: These authentic sneakers have stylish and clean features mixed with modern elements. With bold PUMA branding the black casual shoes for men is just as stylish as it is functional. Our round toe shoes are best suited for when you flaunt a casual look while having all-day-long comfort. The synthetic PU upper with perforated Formstrip detail makes it a must-have. Comfort: The men’s casual sneakers from PUMA feature lace-ups which give a comfortable snug fit. The heel has a padded collar making it ultra-comfortable. Features: The round toe shoes feature rubber sole which allows for a sturdy firm grip. The comfort shoes are lightweight and durable making them a perfect choice for everyday use. Care Instructions: Allow your pair of sportstyle shoes to air and deodorize on a regular basis. Use shoe bags to prevent any stains or mildew. Dust any dry dirt from the surface using a clean cloth. Do not use polish or shiner. Warranty: This casual shoe comes with 90 days product warranty against manufacturing defects. Performance on all levels - This is PUMA. As one of the world’s leading sports brands PUMA believes in standing on the same playing field as the fastest athletes on the planet. With a mission of Forever Faster PUMA shares excitement in Teamsports innovates Golf brings style into Running and Training and performance into Motorsports. PUMA has associations with some of the most elite athletes such as sprint legend Usain Bolt star striker Antoine Griezmann Indian Cricket Captain Virat Kohli fashion icons like Cara Delevingne Selena Gomez and many more.</td>\n",
              "      <td>12</td>\n",
              "      <td>19</td>\n",
              "      <td>328</td>\n",
              "    </tr>\n",
              "    <tr>\n",
              "      <th>254</th>\n",
              "      <td>848.9</td>\n",
              "      <td>Continual attention to innovation is one of Lotto's main strengths. Technology product design and Italian style are absolute requirements for Lotto's high performance sports clothing and footwear and also for leisure clothing and footwear. Italian style and technological innovation within the heart of sport. Born from the last part of the name of its founders the brand name Lotto is now synonymous in the sports world with technological research and design innovation. The accompanying double lozenge figure representing two partially overlapping playing fields is a clear sign of company policy committed from the beginning to soccer and tennis and of an innate inclination towards active sport. The Lotto logo was created in 1973. Since then very few and only slight graphic variations have been made thereby ensuring continuity of the brand image and maximum recognisability over the years. Lotto today distributes its products in about 100 countries through independent sports article stores specialised chain-stores and large stores with specialised sports departments. Continual attention to innovation is one of Lotto's main strengths. Technology product design and Italian style are absolute requirements for Lotto's high performance sports clothing and footwear and also for leisure clothing and footwear. Italian style and technological innovation within the heart of sport. In Lotto’s history major sponsorships have always been the keystones to success stories. This tradition continues today in football with World Cup winner Luca Toni Joan Capdevila Andrea Ranocchia and Federico Balzaretti. It also forges ahead with teams ranging from Genoa in Italy Borussia Mönchengladbach in Germany Sochaux in France Queens Park Rangers in the UK El Deportivo La Coruna in Spain Goias and Recife in Brazil San Lorenzo de Almagro in Argentina as well as the national teams of Costa Rica and Panama. In tennis Lotto has been present at the Italian Open in Rome for more than thirty years and has never missed the Grand Slam tournaments and the nine Masters Series and will be increasingly present at them. David Ferrer Agnieszka Radwańska and Marion Bartoli are just a few of the tennis professionals who are now using Lotto wear. Ultra Marathoner Paolo Venturini is the tester for Lotto running products and the bike trail expert Vittorio Brumutti- being holder of 9 world records model anchor and TV star endorsing the brand’s leisure category.</td>\n",
              "      <td>2</td>\n",
              "      <td>41</td>\n",
              "      <td>381</td>\n",
              "    </tr>\n",
              "    <tr>\n",
              "      <th>965</th>\n",
              "      <td>799.0</td>\n",
              "      <td>We are doing twin mesh concept with textures in the air mesh makes it unique and smart. Lightweight injected EVA midsole with contrast color print on mid sole. EVA with fabric laminated socks for cushioning. Born from the last part of the name of its founders the brand name Lotto is now synonymous in the sports world with technological research and design innovation. The accompanying double lozenge figure representing two partially overlapping playing fields is a clear sign of company policy committed from the beginning to soccer and tennis and of an innate inclination towards active sport. The Lotto logo was created in 1973. Since then very few and only slight graphic variations have been made thereby ensuring continuity of the brand image and maximum recognisability over the years. Lotto today distributes its products in about 100 countries through independent sports article stores specialised chain-stores and large stores with specialised sports departments. Continual attention to innovation is one of Lotto's main strengths. Technology product design and Italian style are absolute requirements for Lotto's high performance sports clothing and footwear and also for leisure clothing and footwear. Italian style and technological innovation within the heart of sport. In Lotto’s history major sponsorships have always been the keystones to success stories. This tradition continues today in football with World Cup winner Luca Toni Joan Capdevila Andrea Ranocchia and Federico Balzaretti. It also forges ahead with teams ranging from Genoa in Italy Borussia Mönchengladbach in Germany Sochaux in France Queens Park Rangers in the UK El Deportivo La Coruna in Spain Goias and Recife in Brazil San Lorenzo de Almagro in Argentina as well as the national teams of Costa Rica and Panama. In tennis Lotto has been present at the Italian Open in Rome for more than thirty years and has never missed the Grand Slam tournaments and the nine Masters Series and will be increasingly present at them. David Ferrer Agnieszka Radwańska and Marion Bartoli are just a few of the tennis professionals who are now using Lotto wear. Ultra Marathoner Paolo Venturini is the tester for Lotto running products and the bike trail expert Vittorio Brumutti- being holder of 9 world records model anchor and TV star endorsing the brand’s leisure category.</td>\n",
              "      <td>4</td>\n",
              "      <td>38</td>\n",
              "      <td>372</td>\n",
              "    </tr>\n",
              "  </tbody>\n",
              "</table>\n",
              "</div>"
            ],
            "text/plain": [
              "       price  ... length\n",
              "777   5499.0  ...    310\n",
              "1168  4749.0  ...    360\n",
              "773   4699.0  ...    306\n",
              "1124  4499.0  ...    302\n",
              "566   3419.0  ...    423\n",
              "765   3212.0  ...    360\n",
              "818   3169.0  ...    349\n",
              "747   3000.0  ...    473\n",
              "550   2474.0  ...    301\n",
              "530   2130.0  ...    308\n",
              "516   2026.0  ...    303\n",
              "427   2000.0  ...    301\n",
              "504   1299.0  ...    328\n",
              "254    848.9  ...    381\n",
              "965    799.0  ...    372\n",
              "\n",
              "[15 rows x 5 columns]"
            ]
          },
          "metadata": {},
          "execution_count": 171
        }
      ]
    },
    {
      "cell_type": "markdown",
      "metadata": {
        "id": "4kgP8pPyi-oi"
      },
      "source": [
        "Длинные предложения в целом у более дорогих кроссовок, но это скорее выбросы."
      ]
    },
    {
      "cell_type": "markdown",
      "metadata": {
        "id": "djaN4AQtagQV"
      },
      "source": [
        "Вывод, что супер дорогие туфли скорее выверены по описаниям и там нет слишком большого количества NER\n"
      ]
    },
    {
      "cell_type": "markdown",
      "metadata": {
        "id": "qgmcjBj1jaaW"
      },
      "source": [
        "Добавлю препроцессинг, что тексты, в которых все капсом, будут переведын в нижний регистр\n",
        "Также в случае, Если Все Слова Текста набраны с большой буквы, оставлю первые слова предложений с большой, а остальные слова переведу в нижний регистр"
      ]
    },
    {
      "cell_type": "markdown",
      "metadata": {
        "id": "FxorgIImof4g"
      },
      "source": [
        "Почищу датафрейм и потом пересчитаю все метрики (ner, concepts, length)"
      ]
    },
    {
      "cell_type": "code",
      "metadata": {
        "id": "eEAop8hMmMda"
      },
      "source": [
        "task1 = df[['price', 'product_description']]"
      ],
      "execution_count": 20,
      "outputs": []
    },
    {
      "cell_type": "code",
      "metadata": {
        "id": "gx08l2r1jlbQ"
      },
      "source": [
        "def lower_if_all(line):\n",
        "  if not re.search('[a-z]', line):\n",
        "    return line.lower()\n",
        "  elif len(re.findall('[^\\w]?[A-Z][a-z]+[^\\w]', line))/len(line.split(' ')) > 0.9:\n",
        "    sentences = line.split('.')\n",
        "    other = []\n",
        "    for sentence in sentences:\n",
        "      tokens = sentence.split(' ')\n",
        "      other.append(tokens[0] + ' ' + ' '.join([token.lower() for token in tokens[1:]]))\n",
        "    return '.'.join(other)\n",
        "  return line"
      ],
      "execution_count": 21,
      "outputs": []
    },
    {
      "cell_type": "code",
      "metadata": {
        "colab": {
          "base_uri": "https://localhost:8080/"
        },
        "id": "mTs_JpYxjfPM",
        "outputId": "cf3d6fae-b10f-4a5b-d4e8-1b0b3ad1438c"
      },
      "source": [
        "task1['product_description'] = [lower_if_all(row) for row in task1['product_description']]"
      ],
      "execution_count": 22,
      "outputs": [
        {
          "output_type": "stream",
          "name": "stderr",
          "text": [
            "/usr/local/lib/python3.7/dist-packages/ipykernel_launcher.py:1: SettingWithCopyWarning: \n",
            "A value is trying to be set on a copy of a slice from a DataFrame.\n",
            "Try using .loc[row_indexer,col_indexer] = value instead\n",
            "\n",
            "See the caveats in the documentation: https://pandas.pydata.org/pandas-docs/stable/user_guide/indexing.html#returning-a-view-versus-a-copy\n",
            "  \"\"\"Entry point for launching an IPython kernel.\n"
          ]
        }
      ]
    },
    {
      "cell_type": "code",
      "metadata": {
        "colab": {
          "base_uri": "https://localhost:8080/"
        },
        "id": "3j15Bugvoo8N",
        "outputId": "893c2ff4-3919-46c7-c6e2-23313c8c8b3a"
      },
      "source": [
        "task1['length'] = [len(row.split(' ')) for row in task1['product_description']]\n",
        "task1['length'] = task1['length']/task1['length'].median() # делю длину на медиану, чтобы посмотреть, в целом длиннее текст или короче чем обычно в выборке\n",
        "task1['concepts'] = [count_concept(row)/len(row.split(' ')) for row in task1['product_description']]\n",
        "task1['ner'] = [find_ner(row)/len(row.split(' ')) for row in task1['product_description']]"
      ],
      "execution_count": 47,
      "outputs": [
        {
          "output_type": "stream",
          "name": "stderr",
          "text": [
            "/usr/local/lib/python3.7/dist-packages/ipykernel_launcher.py:1: SettingWithCopyWarning: \n",
            "A value is trying to be set on a copy of a slice from a DataFrame.\n",
            "Try using .loc[row_indexer,col_indexer] = value instead\n",
            "\n",
            "See the caveats in the documentation: https://pandas.pydata.org/pandas-docs/stable/user_guide/indexing.html#returning-a-view-versus-a-copy\n",
            "  \"\"\"Entry point for launching an IPython kernel.\n"
          ]
        }
      ]
    },
    {
      "cell_type": "code",
      "metadata": {
        "colab": {
          "base_uri": "https://localhost:8080/",
          "height": 727
        },
        "id": "kPMSdZT-X6Lm",
        "outputId": "9110e482-1767-469a-f3e7-26a1b24c67f9"
      },
      "source": [
        "task1.head(10)"
      ],
      "execution_count": 26,
      "outputs": [
        {
          "output_type": "execute_result",
          "data": {
            "text/html": [
              "<div>\n",
              "<style scoped>\n",
              "    .dataframe tbody tr th:only-of-type {\n",
              "        vertical-align: middle;\n",
              "    }\n",
              "\n",
              "    .dataframe tbody tr th {\n",
              "        vertical-align: top;\n",
              "    }\n",
              "\n",
              "    .dataframe thead th {\n",
              "        text-align: right;\n",
              "    }\n",
              "</style>\n",
              "<table border=\"1\" class=\"dataframe\">\n",
              "  <thead>\n",
              "    <tr style=\"text-align: right;\">\n",
              "      <th></th>\n",
              "      <th>price</th>\n",
              "      <th>product_description</th>\n",
              "      <th>length</th>\n",
              "      <th>concepts</th>\n",
              "      <th>ner</th>\n",
              "    </tr>\n",
              "  </thead>\n",
              "  <tbody>\n",
              "    <tr>\n",
              "      <th>0</th>\n",
              "      <td>279.0</td>\n",
              "      <td>Elevate your style with this classy pair of Running Shoe from the house of CLYMB brand. Featuring a contemporary refined design with exceptional comfort this pair is perfect to give your quintessential dressing an upgrade.</td>\n",
              "      <td>35</td>\n",
              "      <td>0.028571</td>\n",
              "      <td>0.028571</td>\n",
              "    </tr>\n",
              "    <tr>\n",
              "      <th>1</th>\n",
              "      <td>479.0</td>\n",
              "      <td>The product will be an excellent pick for you. It ensures an easy maintenance.</td>\n",
              "      <td>14</td>\n",
              "      <td>0.000000</td>\n",
              "      <td>0.000000</td>\n",
              "    </tr>\n",
              "    <tr>\n",
              "      <th>2</th>\n",
              "      <td>430.0</td>\n",
              "      <td>Flaunt with these stylish and unique red casual shoes as per the latest fashion trend from the house of T-Rock Brand known for its wide range of men's casual formal sports/running ethnic party wear shoes. This pair is having classic style which will add glamour to your look. These shoes go well with your casual wear. Team it with your casual attire to complete your perfect casual or party look.</td>\n",
              "      <td>70</td>\n",
              "      <td>0.000000</td>\n",
              "      <td>0.014286</td>\n",
              "    </tr>\n",
              "    <tr>\n",
              "      <th>3</th>\n",
              "      <td>499.0</td>\n",
              "      <td>Robbie jones shoes are designed to keeping in mind durability as well as trends the most stylish range of shoes. they are exclusively designed to match the latest trends of the new generation. this pair of shoes is sure to make you look smart &amp; classy. these will go with most of your casual outfits. this product is made of premium quality and highly material. wearing this prime quality amazing and cozy shoe with the combination of jean and t-shirt. it presents standard look to your personality. we are always providing latest fashion shoes for men's casual shoes for men.</td>\n",
              "      <td>101</td>\n",
              "      <td>0.000000</td>\n",
              "      <td>0.009901</td>\n",
              "    </tr>\n",
              "    <tr>\n",
              "      <th>4</th>\n",
              "      <td>499.0</td>\n",
              "      <td>Sparx is a spectacular range of footwear from the house of Relaxo Footwears Ltd. a name trusted among millions of people in India and across the world for delivering unmatched quality. Since its inception the company has established a benchmark for bringing the finest range of footwears. Sparx the most stylish range of shoes sandals and slippers are exclusively designed to match the latest trends of the new generation. Known for its sturdy and stylish designs Sparx is an iconic youth brand for those who dare to explore the world. Sparx is a spectacular range of footwear from the house of Relaxo Footwears Ltd. a name trusted among millions of people in India and across the world for delivering unmatched quality. Since its inception the company has established a benchmark for bringing the finest range of footwears. A perfect combination of comfort style and workmanship Sparx is all about confidence and making a fashion statement. Its flaunting design pattern sparks a cool statement as you take a step ahead in them.</td>\n",
              "      <td>171</td>\n",
              "      <td>0.000000</td>\n",
              "      <td>0.046784</td>\n",
              "    </tr>\n",
              "    <tr>\n",
              "      <th>5</th>\n",
              "      <td>449.0</td>\n",
              "      <td>casual shoes for boys and mens in white colour</td>\n",
              "      <td>9</td>\n",
              "      <td>0.000000</td>\n",
              "      <td>0.000000</td>\n",
              "    </tr>\n",
              "    <tr>\n",
              "      <th>6</th>\n",
              "      <td>499.0</td>\n",
              "      <td>Robbie Jones has a vast collection of casual shoes for men. You can explore our range of casual shoes daily shoes or lifestyle shoes.Take your pick from an array of sports shoes in vibrant colours like red yellow green blue brown black grey olive pink beige and white. Designed for top performance these shoes match the way you play or run. Available in materials like leather canvas suede leather faux leather mesh etc these shoes are lightweight comfortable sturdy and extremely sporty. The sole of all Robbie Jones shoes is designed to provide an increased amount of comfort and the material is good enough to provide an improved fit. These shoes are easy to maintain and last for a really long time given to their durability.</td>\n",
              "      <td>126</td>\n",
              "      <td>0.000000</td>\n",
              "      <td>0.023810</td>\n",
              "    </tr>\n",
              "    <tr>\n",
              "      <th>7</th>\n",
              "      <td>449.0</td>\n",
              "      <td>Elevate your style with this classy pair of Loafer from the house of KNOOS brand. Featuring a contemporary refined design with exceptional comfort this pair is perfect to give your quintessential dressing an upgrade.</td>\n",
              "      <td>34</td>\n",
              "      <td>0.029412</td>\n",
              "      <td>0.058824</td>\n",
              "    </tr>\n",
              "    <tr>\n",
              "      <th>8</th>\n",
              "      <td>559.0</td>\n",
              "      <td>Very stylish and comfortable shoes.</td>\n",
              "      <td>5</td>\n",
              "      <td>0.000000</td>\n",
              "      <td>0.000000</td>\n",
              "    </tr>\n",
              "    <tr>\n",
              "      <th>9</th>\n",
              "      <td>399.0</td>\n",
              "      <td>Elevate your style with this classy pair of Sneaker from the house of ROAD RUNNER brand. Featuring a contemporary refined design with exceptional comfort this pair is perfect to give your quintessential dressing an upgrade.</td>\n",
              "      <td>35</td>\n",
              "      <td>0.057143</td>\n",
              "      <td>0.057143</td>\n",
              "    </tr>\n",
              "  </tbody>\n",
              "</table>\n",
              "</div>"
            ],
            "text/plain": [
              "   price  ...       ner\n",
              "0  279.0  ...  0.028571\n",
              "1  479.0  ...  0.000000\n",
              "2  430.0  ...  0.014286\n",
              "3  499.0  ...  0.009901\n",
              "4  499.0  ...  0.046784\n",
              "5  449.0  ...  0.000000\n",
              "6  499.0  ...  0.023810\n",
              "7  449.0  ...  0.058824\n",
              "8  559.0  ...  0.000000\n",
              "9  399.0  ...  0.057143\n",
              "\n",
              "[10 rows x 5 columns]"
            ]
          },
          "metadata": {},
          "execution_count": 26
        }
      ]
    },
    {
      "cell_type": "markdown",
      "metadata": {
        "id": "B0c5h1_io0Is"
      },
      "source": [
        "### Предобработка"
      ]
    },
    {
      "cell_type": "markdown",
      "metadata": {
        "id": "ouvMYR1Lpe1j"
      },
      "source": [
        "Удаляю все стоп-слова, лемматизирую. Если в тексте встречается слово капсом, в матрицу пойдет два слова: слово-капсом и слово-без-капса. Я считаю, что \"капс\" - это упоминание какого-то концепта, на котором концентрируется автор текста и который хочет выделить, поэтому это важно."
      ]
    },
    {
      "cell_type": "code",
      "metadata": {
        "colab": {
          "base_uri": "https://localhost:8080/"
        },
        "id": "qWybKC8JAf99",
        "outputId": "c6dd3508-5b8c-4879-8695-e812ae17b608"
      },
      "source": [
        "import nltk\n",
        "nltk.download('stopwords')\n",
        "from nltk.corpus import stopwords\n",
        "import nltk\n",
        "nltk.download('wordnet')\n",
        "\n",
        "from nltk.stem import WordNetLemmatizer\n",
        "  \n",
        "lemmatizer = WordNetLemmatizer()\n",
        "\n",
        "from nltk.tokenize import RegexpTokenizer\n",
        "tokenizer = RegexpTokenizer(r'[\\w-]+')\n",
        "\n",
        "from nltk.corpus import wordnet as wn\n",
        "from nltk.stem.wordnet import WordNetLemmatizer\n",
        "from nltk import word_tokenize, pos_tag\n",
        "from collections import defaultdict\n",
        "tag_map = defaultdict(lambda : wn.NOUN)\n",
        "tag_map['J'] = wn.ADJ\n",
        "tag_map['V'] = wn.VERB\n",
        "tag_map['R'] = wn.ADV\n",
        "stops = set(stopwords.words('english'))\n",
        "\n",
        "def lemmatize(line):\n",
        "  tokens = tokenizer.tokenize(line)\n",
        "  lemmas = []\n",
        "  for token, tag in pos_tag(tokens):\n",
        "      if len(token) > 1:\n",
        "        lemma = lemmatizer.lemmatize(token.lower(), tag_map[tag[0]])\n",
        "        if lemma not in stops:\n",
        "          if not re.search('[a-z]', token):\n",
        "            lemmas.append(f'{lemma.upper()} {lemma}')\n",
        "          else:\n",
        "            lemmas.append(lemma)\n",
        "  return ' '.join(lemmas)"
      ],
      "execution_count": 27,
      "outputs": [
        {
          "output_type": "stream",
          "name": "stdout",
          "text": [
            "[nltk_data] Downloading package stopwords to /root/nltk_data...\n",
            "[nltk_data]   Unzipping corpora/stopwords.zip.\n",
            "[nltk_data] Downloading package wordnet to /root/nltk_data...\n",
            "[nltk_data]   Unzipping corpora/wordnet.zip.\n"
          ]
        }
      ]
    },
    {
      "cell_type": "code",
      "metadata": {
        "colab": {
          "base_uri": "https://localhost:8080/"
        },
        "id": "Zp21lN7fulMh",
        "outputId": "ce5ead06-1456-40a2-900d-95919adcfc51"
      },
      "source": [
        "task1['lemmatized'] = [lemmatize(row) for row in task1['product_description']]"
      ],
      "execution_count": 28,
      "outputs": [
        {
          "output_type": "stream",
          "name": "stderr",
          "text": [
            "/usr/local/lib/python3.7/dist-packages/ipykernel_launcher.py:1: SettingWithCopyWarning: \n",
            "A value is trying to be set on a copy of a slice from a DataFrame.\n",
            "Try using .loc[row_indexer,col_indexer] = value instead\n",
            "\n",
            "See the caveats in the documentation: https://pandas.pydata.org/pandas-docs/stable/user_guide/indexing.html#returning-a-view-versus-a-copy\n",
            "  \"\"\"Entry point for launching an IPython kernel.\n"
          ]
        }
      ]
    },
    {
      "cell_type": "code",
      "metadata": {
        "colab": {
          "base_uri": "https://localhost:8080/",
          "height": 1000
        },
        "id": "owtwYO6qxyg2",
        "outputId": "54448b61-ac8d-4483-9665-87f7b8060a5e"
      },
      "source": [
        "task1.head(10)"
      ],
      "execution_count": 30,
      "outputs": [
        {
          "output_type": "execute_result",
          "data": {
            "text/html": [
              "<div>\n",
              "<style scoped>\n",
              "    .dataframe tbody tr th:only-of-type {\n",
              "        vertical-align: middle;\n",
              "    }\n",
              "\n",
              "    .dataframe tbody tr th {\n",
              "        vertical-align: top;\n",
              "    }\n",
              "\n",
              "    .dataframe thead th {\n",
              "        text-align: right;\n",
              "    }\n",
              "</style>\n",
              "<table border=\"1\" class=\"dataframe\">\n",
              "  <thead>\n",
              "    <tr style=\"text-align: right;\">\n",
              "      <th></th>\n",
              "      <th>price</th>\n",
              "      <th>product_description</th>\n",
              "      <th>length</th>\n",
              "      <th>concepts</th>\n",
              "      <th>ner</th>\n",
              "      <th>lemmatized</th>\n",
              "    </tr>\n",
              "  </thead>\n",
              "  <tbody>\n",
              "    <tr>\n",
              "      <th>0</th>\n",
              "      <td>279.0</td>\n",
              "      <td>Elevate your style with this classy pair of Running Shoe from the house of CLYMB brand. Featuring a contemporary refined design with exceptional comfort this pair is perfect to give your quintessential dressing an upgrade.</td>\n",
              "      <td>35</td>\n",
              "      <td>0.028571</td>\n",
              "      <td>0.028571</td>\n",
              "      <td>elevate style classy pair run shoe house CLYMB clymb brand feature contemporary refine design exceptional comfort pair perfect give quintessential dress upgrade</td>\n",
              "    </tr>\n",
              "    <tr>\n",
              "      <th>1</th>\n",
              "      <td>479.0</td>\n",
              "      <td>The product will be an excellent pick for you. It ensures an easy maintenance.</td>\n",
              "      <td>14</td>\n",
              "      <td>0.000000</td>\n",
              "      <td>0.000000</td>\n",
              "      <td>product excellent pick ensure easy maintenance</td>\n",
              "    </tr>\n",
              "    <tr>\n",
              "      <th>2</th>\n",
              "      <td>430.0</td>\n",
              "      <td>Flaunt with these stylish and unique red casual shoes as per the latest fashion trend from the house of T-Rock Brand known for its wide range of men's casual formal sports/running ethnic party wear shoes. This pair is having classic style which will add glamour to your look. These shoes go well with your casual wear. Team it with your casual attire to complete your perfect casual or party look.</td>\n",
              "      <td>70</td>\n",
              "      <td>0.000000</td>\n",
              "      <td>0.014286</td>\n",
              "      <td>flaunt stylish unique red casual shoe per late fashion trend house t-rock brand know wide range men casual formal sport run ethnic party wear shoe pair classic style add glamour look shoe go well casual wear team casual attire complete perfect casual party look</td>\n",
              "    </tr>\n",
              "    <tr>\n",
              "      <th>3</th>\n",
              "      <td>499.0</td>\n",
              "      <td>Robbie jones shoes are designed to keeping in mind durability as well as trends the most stylish range of shoes. they are exclusively designed to match the latest trends of the new generation. this pair of shoes is sure to make you look smart &amp; classy. these will go with most of your casual outfits. this product is made of premium quality and highly material. wearing this prime quality amazing and cozy shoe with the combination of jean and t-shirt. it presents standard look to your personality. we are always providing latest fashion shoes for men's casual shoes for men.</td>\n",
              "      <td>101</td>\n",
              "      <td>0.000000</td>\n",
              "      <td>0.009901</td>\n",
              "      <td>robbie jones shoe design keep mind durability well trend stylish range shoe exclusively design match late trend new generation pair shoe sure make look smart classy go casual outfit product make premium quality highly material wear prime quality amazing cozy shoe combination jean t-shirt present standard look personality always provide late fashion shoe men casual shoe men</td>\n",
              "    </tr>\n",
              "    <tr>\n",
              "      <th>4</th>\n",
              "      <td>499.0</td>\n",
              "      <td>Sparx is a spectacular range of footwear from the house of Relaxo Footwears Ltd. a name trusted among millions of people in India and across the world for delivering unmatched quality. Since its inception the company has established a benchmark for bringing the finest range of footwears. Sparx the most stylish range of shoes sandals and slippers are exclusively designed to match the latest trends of the new generation. Known for its sturdy and stylish designs Sparx is an iconic youth brand for those who dare to explore the world. Sparx is a spectacular range of footwear from the house of Relaxo Footwears Ltd. a name trusted among millions of people in India and across the world for delivering unmatched quality. Since its inception the company has established a benchmark for bringing the finest range of footwears. A perfect combination of comfort style and workmanship Sparx is all about confidence and making a fashion statement. Its flaunting design pattern sparks a cool statement as you take a step ahead in them.</td>\n",
              "      <td>171</td>\n",
              "      <td>0.000000</td>\n",
              "      <td>0.046784</td>\n",
              "      <td>sparx spectacular range footwear house relaxo footwear ltd name trust among million people india across world deliver unmatched quality since inception company establish benchmark bring fine range footwear sparx stylish range shoe sandal slipper exclusively design match late trend new generation known sturdy stylish design sparx iconic youth brand dare explore world sparx spectacular range footwear house relaxo footwear ltd name trust among million people india across world deliver unmatched quality since inception company establish benchmark bring fine range footwear perfect combination comfort style workmanship sparx confidence make fashion statement flaunt design pattern spark cool statement take step ahead</td>\n",
              "    </tr>\n",
              "    <tr>\n",
              "      <th>5</th>\n",
              "      <td>449.0</td>\n",
              "      <td>casual shoes for boys and mens in white colour</td>\n",
              "      <td>9</td>\n",
              "      <td>0.000000</td>\n",
              "      <td>0.000000</td>\n",
              "      <td>casual shoe boy men white colour</td>\n",
              "    </tr>\n",
              "    <tr>\n",
              "      <th>6</th>\n",
              "      <td>499.0</td>\n",
              "      <td>Robbie Jones has a vast collection of casual shoes for men. You can explore our range of casual shoes daily shoes or lifestyle shoes.Take your pick from an array of sports shoes in vibrant colours like red yellow green blue brown black grey olive pink beige and white. Designed for top performance these shoes match the way you play or run. Available in materials like leather canvas suede leather faux leather mesh etc these shoes are lightweight comfortable sturdy and extremely sporty. The sole of all Robbie Jones shoes is designed to provide an increased amount of comfort and the material is good enough to provide an improved fit. These shoes are easy to maintain and last for a really long time given to their durability.</td>\n",
              "      <td>126</td>\n",
              "      <td>0.000000</td>\n",
              "      <td>0.023810</td>\n",
              "      <td>robbie jones vast collection casual shoe men explore range casual shoe daily shoe lifestyle shoe take pick array sport shoe vibrant colour like red yellow green blue brown black grey olive pink beige white design top performance shoe match way play run available material like leather canvas suede leather faux leather mesh etc shoe lightweight comfortable sturdy extremely sporty sole robbie jones shoe design provide increased amount comfort material good enough provide improved fit shoe easy maintain last really long time give durability</td>\n",
              "    </tr>\n",
              "    <tr>\n",
              "      <th>7</th>\n",
              "      <td>449.0</td>\n",
              "      <td>Elevate your style with this classy pair of Loafer from the house of KNOOS brand. Featuring a contemporary refined design with exceptional comfort this pair is perfect to give your quintessential dressing an upgrade.</td>\n",
              "      <td>34</td>\n",
              "      <td>0.029412</td>\n",
              "      <td>0.058824</td>\n",
              "      <td>elevate style classy pair loafer house KNOOS knoos brand feature contemporary refine design exceptional comfort pair perfect give quintessential dress upgrade</td>\n",
              "    </tr>\n",
              "    <tr>\n",
              "      <th>8</th>\n",
              "      <td>559.0</td>\n",
              "      <td>Very stylish and comfortable shoes.</td>\n",
              "      <td>5</td>\n",
              "      <td>0.000000</td>\n",
              "      <td>0.000000</td>\n",
              "      <td>stylish comfortable shoe</td>\n",
              "    </tr>\n",
              "    <tr>\n",
              "      <th>9</th>\n",
              "      <td>399.0</td>\n",
              "      <td>Elevate your style with this classy pair of Sneaker from the house of ROAD RUNNER brand. Featuring a contemporary refined design with exceptional comfort this pair is perfect to give your quintessential dressing an upgrade.</td>\n",
              "      <td>35</td>\n",
              "      <td>0.057143</td>\n",
              "      <td>0.057143</td>\n",
              "      <td>elevate style classy pair sneaker house ROAD road RUNNER runner brand feature contemporary refine design exceptional comfort pair perfect give quintessential dress upgrade</td>\n",
              "    </tr>\n",
              "  </tbody>\n",
              "</table>\n",
              "</div>"
            ],
            "text/plain": [
              "   price  ...                                                                                                                                                                                                                                                                                                                                                                                                                                                                                                                                                                                                                                                                                                                                       lemmatized\n",
              "0  279.0  ...                                                                                                                                                                                                                                                                                                                                                                                                                                                                                                                                                                                 elevate style classy pair run shoe house CLYMB clymb brand feature contemporary refine design exceptional comfort pair perfect give quintessential dress upgrade\n",
              "1  479.0  ...                                                                                                                                                                                                                                                                                                                                                                                                                                                                                                                                                                                                                                                                                                   product excellent pick ensure easy maintenance\n",
              "2  430.0  ...                                                                                                                                                                                                                                                                                                                                                                                                                                                                            flaunt stylish unique red casual shoe per late fashion trend house t-rock brand know wide range men casual formal sport run ethnic party wear shoe pair classic style add glamour look shoe go well casual wear team casual attire complete perfect casual party look\n",
              "3  499.0  ...                                                                                                                                                                                                                                                                                                                                                          robbie jones shoe design keep mind durability well trend stylish range shoe exclusively design match late trend new generation pair shoe sure make look smart classy go casual outfit product make premium quality highly material wear prime quality amazing cozy shoe combination jean t-shirt present standard look personality always provide late fashion shoe men casual shoe men\n",
              "4  499.0  ...  sparx spectacular range footwear house relaxo footwear ltd name trust among million people india across world deliver unmatched quality since inception company establish benchmark bring fine range footwear sparx stylish range shoe sandal slipper exclusively design match late trend new generation known sturdy stylish design sparx iconic youth brand dare explore world sparx spectacular range footwear house relaxo footwear ltd name trust among million people india across world deliver unmatched quality since inception company establish benchmark bring fine range footwear perfect combination comfort style workmanship sparx confidence make fashion statement flaunt design pattern spark cool statement take step ahead\n",
              "5  449.0  ...                                                                                                                                                                                                                                                                                                                                                                                                                                                                                                                                                                                                                                                                                                                 casual shoe boy men white colour\n",
              "6  499.0  ...                                                                                                                                                                                   robbie jones vast collection casual shoe men explore range casual shoe daily shoe lifestyle shoe take pick array sport shoe vibrant colour like red yellow green blue brown black grey olive pink beige white design top performance shoe match way play run available material like leather canvas suede leather faux leather mesh etc shoe lightweight comfortable sturdy extremely sporty sole robbie jones shoe design provide increased amount comfort material good enough provide improved fit shoe easy maintain last really long time give durability\n",
              "7  449.0  ...                                                                                                                                                                                                                                                                                                                                                                                                                                                                                                                                                                                   elevate style classy pair loafer house KNOOS knoos brand feature contemporary refine design exceptional comfort pair perfect give quintessential dress upgrade\n",
              "8  559.0  ...                                                                                                                                                                                                                                                                                                                                                                                                                                                                                                                                                                                                                                                                                                                         stylish comfortable shoe\n",
              "9  399.0  ...                                                                                                                                                                                                                                                                                                                                                                                                                                                                                                                                                                      elevate style classy pair sneaker house ROAD road RUNNER runner brand feature contemporary refine design exceptional comfort pair perfect give quintessential dress upgrade\n",
              "\n",
              "[10 rows x 6 columns]"
            ]
          },
          "metadata": {},
          "execution_count": 30
        }
      ]
    },
    {
      "cell_type": "markdown",
      "metadata": {
        "id": "kZ0Wqs8G2_5k"
      },
      "source": [
        "### Векторизовать"
      ]
    },
    {
      "cell_type": "code",
      "metadata": {
        "id": "RIYi6htW4zN4"
      },
      "source": [
        "tfidf_vectorizer = TfidfVectorizer(analyzer='word')\n",
        "bow_vectorizer = CountVectorizer()\n",
        "X_tf = tfidf_vectorizer.fit_transform(task1['lemmatized'])\n",
        "X_bow = bow_vectorizer.fit_transform(task1['lemmatized'])"
      ],
      "execution_count": 31,
      "outputs": []
    },
    {
      "cell_type": "markdown",
      "metadata": {
        "id": "A-TAFLR9bKzw"
      },
      "source": [
        "Давайте посмотрим какая точность просто на tfidf / bow без доп. фичей"
      ]
    },
    {
      "cell_type": "code",
      "metadata": {
        "colab": {
          "base_uri": "https://localhost:8080/"
        },
        "id": "qVD883wOg-SM",
        "outputId": "7625846c-00de-4848-a4b6-97f49de5fca7"
      },
      "source": [
        "X_train_bow, X_test_bow, y_train_bow, y_test_bow = train_test_split(X_bow, task1['price'], test_size=0.70, random_state=42)\n",
        "\n",
        "model = linear_model.LinearRegression()\n",
        "model = model.fit(X_train_bow, y_train_bow)\n",
        "train_preds = model.predict(X_train_bow)\n",
        "test_preds = model.predict(X_test_bow)\n",
        "\n",
        "print('result on train: {}'.format(mean_absolute_error(y_train_bow, train_preds)))\n",
        "print('result on test: {}'.format(mean_absolute_error(y_test_bow,test_preds)))"
      ],
      "execution_count": 62,
      "outputs": [
        {
          "output_type": "stream",
          "name": "stdout",
          "text": [
            "result on train: 112.30269558622469\n",
            "result on test: 1676.914245847357\n"
          ]
        }
      ]
    },
    {
      "cell_type": "code",
      "metadata": {
        "colab": {
          "base_uri": "https://localhost:8080/"
        },
        "id": "pJyLU2QXg-VM",
        "outputId": "52eb4efa-09e8-42cb-af90-fa4954a065e7"
      },
      "source": [
        "X_train_tf, X_test_tf, y_train_tf, y_test_tf = train_test_split(X_tf, task1['price'], test_size=0.70, random_state=42)\n",
        "\n",
        "model = linear_model.LinearRegression()\n",
        "model = model.fit(X_train_tf, y_train_tf)\n",
        "train_preds = model.predict(X_train_tf)\n",
        "test_preds = model.predict(X_test_tf)\n",
        "\n",
        "print('result on train: {}'.format(mean_absolute_error(y_train_tf, train_preds)))\n",
        "print('result on test: {}'.format(mean_absolute_error(y_test_tf,test_preds)))"
      ],
      "execution_count": 63,
      "outputs": [
        {
          "output_type": "stream",
          "name": "stdout",
          "text": [
            "result on train: 110.30176734281122\n",
            "result on test: 1364.5627172348125\n"
          ]
        }
      ]
    },
    {
      "cell_type": "code",
      "metadata": {
        "colab": {
          "base_uri": "https://localhost:8080/"
        },
        "id": "xioD3-RimYxk",
        "outputId": "bd0e477a-ff7d-4bc2-bc75-1a69724519a9"
      },
      "source": [
        "regr = RandomForestRegressor(random_state=42)\n",
        "regr.fit(X_train_bow, y_train_bow)\n",
        "train_preds = regr.predict(X_train_bow)\n",
        "test_preds = regr.predict(X_test_bow)\n",
        "\n",
        "print('result on train: {}'.format(mean_absolute_error(y_train_bow, train_preds)))\n",
        "print('result on test: {}'.format(mean_absolute_error(y_test_bow,test_preds)))"
      ],
      "execution_count": 66,
      "outputs": [
        {
          "output_type": "stream",
          "name": "stdout",
          "text": [
            "result on train: 368.9992296540093\n",
            "result on test: 811.851672456207\n"
          ]
        }
      ]
    },
    {
      "cell_type": "code",
      "metadata": {
        "colab": {
          "base_uri": "https://localhost:8080/"
        },
        "id": "WkeffjoZg-Y0",
        "outputId": "eb5d23ca-93ed-4d21-c079-f0ef80e5fea8"
      },
      "source": [
        "regr = RandomForestRegressor(random_state=42)\n",
        "regr.fit(X_train_tf, y_train_tf)\n",
        "train_preds = regr.predict(X_train_tf)\n",
        "test_preds = regr.predict(X_test_tf)\n",
        "\n",
        "print('result on train: {}'.format(mean_absolute_error(y_train_tf, train_preds)))\n",
        "print('result on test: {}'.format(mean_absolute_error(y_test_tf, test_preds)))\n"
      ],
      "execution_count": 64,
      "outputs": [
        {
          "output_type": "stream",
          "name": "stdout",
          "text": [
            "result on train: 377.64124561741886\n",
            "result on test: 817.0923138100343\n"
          ]
        }
      ]
    },
    {
      "cell_type": "code",
      "metadata": {
        "colab": {
          "base_uri": "https://localhost:8080/"
        },
        "id": "Oc93Xz6ymr9w",
        "outputId": "02825461-d74e-4afe-9112-4a1e10ea25c5"
      },
      "source": [
        "from sklearn.svm import SVR\n",
        "from sklearn.pipeline import make_pipeline\n",
        "from sklearn.preprocessing import StandardScaler\n",
        "import numpy as np\n",
        "n_samples, n_features = 10, 5\n",
        "rng = np.random.RandomState(0)\n",
        "y = rng.randn(n_samples)\n",
        "X = rng.randn(n_samples, n_features)\n",
        "\n",
        "regr = make_pipeline(StandardScaler(with_mean=False), SVR(C=1.0, epsilon=0.2))\n",
        "regr.fit(X_train_bow, y_train_bow)\n",
        "train_preds = regr.predict(X_train_bow)\n",
        "test_preds = regr.predict(X_test_bow)\n",
        "print('result on train: {}'.format(mean_absolute_error(y_train_bow, train_preds)))\n",
        "print('result on test: {}'.format(mean_absolute_error(y_test_bow, test_preds)))"
      ],
      "execution_count": 74,
      "outputs": [
        {
          "output_type": "stream",
          "name": "stdout",
          "text": [
            "result on train: 1229.6621699227771\n",
            "result on test: 1110.8916134139167\n"
          ]
        }
      ]
    },
    {
      "cell_type": "code",
      "metadata": {
        "colab": {
          "base_uri": "https://localhost:8080/"
        },
        "id": "uAvZwdKkpfJE",
        "outputId": "b9d75893-e417-486a-f319-451bd371e003"
      },
      "source": [
        "n_samples, n_features = 10, 5\n",
        "rng = np.random.RandomState(0)\n",
        "y = rng.randn(n_samples)\n",
        "X = rng.randn(n_samples, n_features)\n",
        "\n",
        "regr = make_pipeline(StandardScaler(with_mean=False), SVR(C=1.0, epsilon=0.2))\n",
        "regr.fit(X_train_tf, y_train_tf)\n",
        "train_preds = regr.predict(X_train_tf)\n",
        "test_preds = regr.predict(X_test_tf)\n",
        "print('result on train: {}'.format(mean_absolute_error(y_train_tf, train_preds)))\n",
        "print('result on test: {}'.format(mean_absolute_error(y_test_tf, test_preds)))"
      ],
      "execution_count": 75,
      "outputs": [
        {
          "output_type": "stream",
          "name": "stdout",
          "text": [
            "result on train: 1229.5954671916277\n",
            "result on test: 1111.003489659119\n"
          ]
        }
      ]
    },
    {
      "cell_type": "code",
      "metadata": {
        "colab": {
          "base_uri": "https://localhost:8080/"
        },
        "id": "-LRFmY4qpvHT",
        "outputId": "d8720e6f-3636-4904-e809-8510a8ed115a"
      },
      "source": [
        "reg = GradientBoostingRegressor(random_state=42)\n",
        "reg.fit(X_train_bow, y_train_bow)\n",
        "train_preds = reg.predict(X_train_bow)\n",
        "test_preds = reg.predict(X_test_bow)\n",
        "\n",
        "print('result on train: {}'.format(mean_absolute_error(y_train_bow, train_preds)))\n",
        "print('result on test: {}'.format(mean_absolute_error(y_test_bow, test_preds)))"
      ],
      "execution_count": 77,
      "outputs": [
        {
          "output_type": "stream",
          "name": "stdout",
          "text": [
            "result on train: 473.88624731021326\n",
            "result on test: 903.6743037353917\n"
          ]
        }
      ]
    },
    {
      "cell_type": "code",
      "metadata": {
        "colab": {
          "base_uri": "https://localhost:8080/"
        },
        "id": "aGavT_R7qVRR",
        "outputId": "b1ed41db-945a-49e2-f19a-64f9cdea473e"
      },
      "source": [
        "reg.fit(X_train_tf, y_train_tf)\n",
        "train_preds = reg.predict(X_train_tf)\n",
        "test_preds = reg.predict(X_test_tf)\n",
        "\n",
        "print('result on train: {}'.format(mean_absolute_error(y_train_tf, train_preds)))\n",
        "print('result on test: {}'.format(mean_absolute_error(y_test_, test_preds)))"
      ],
      "execution_count": 78,
      "outputs": [
        {
          "output_type": "stream",
          "name": "stdout",
          "text": [
            "result on train: 425.83551802442275\n",
            "result on test: 883.3792531758118\n"
          ]
        }
      ]
    },
    {
      "cell_type": "markdown",
      "metadata": {
        "id": "M8um1VwMqkWN"
      },
      "source": [
        "Лучший результат у randomforest на bow МАЕ 811 (на tfidf чуточку хуже - 817) и у градиентного бустинга (на тфидф - 883). Тогда буду подбирать параметры для этих двух на посчитанном тфидф, т.к. в бустинге разница на датасетах в 20 единиц, а в randomforest в 6."
      ]
    },
    {
      "cell_type": "code",
      "metadata": {
        "colab": {
          "base_uri": "https://localhost:8080/"
        },
        "id": "gsCLsMpKup3H",
        "outputId": "0d5419df-b037-4640-cb4f-20a824c1d2e7"
      },
      "source": [
        "tuned_parameters = {'n_estimators': [500, 700, 1000], 'max_depth': [None, 2, 3], 'min_samples_split': [2, 3]}\n",
        "CV_rfc = GridSearchCV(RandomForestRegressor(), tuned_parameters, cv= 5).fit(X_train_tf, y_train_tf)\n",
        "\n",
        "CV_rfc.best_params_"
      ],
      "execution_count": 84,
      "outputs": [
        {
          "output_type": "execute_result",
          "data": {
            "text/plain": [
              "{'max_depth': None, 'min_samples_split': 2, 'n_estimators': 500}"
            ]
          },
          "metadata": {},
          "execution_count": 84
        }
      ]
    },
    {
      "cell_type": "code",
      "metadata": {
        "colab": {
          "base_uri": "https://localhost:8080/"
        },
        "id": "4-KHEw5J3AVt",
        "outputId": "4d33d9be-6987-498d-9ccb-29d8f2a59ebc"
      },
      "source": [
        "regr = RandomForestRegressor(random_state=42, max_depth=None, min_samples_split=2, n_estimators=500)\n",
        "regr.fit(X_train_tf, y_train_tf)\n",
        "train_preds = regr.predict(X_train_tf)\n",
        "test_preds = regr.predict(X_test_tf)\n",
        "\n",
        "print('result on train: {}'.format(mean_absolute_error(y_train_tf, train_preds)))\n",
        "print('result on test: {}'.format(mean_absolute_error(y_test_tf, test_preds)))"
      ],
      "execution_count": 95,
      "outputs": [
        {
          "output_type": "stream",
          "name": "stdout",
          "text": [
            "result on train: 370.1908467565804\n",
            "result on test: 815.562929915704\n"
          ]
        }
      ]
    },
    {
      "cell_type": "markdown",
      "metadata": {
        "id": "G6knmsjG3QQb"
      },
      "source": [
        "Лучше не стало, как-то плохо я подобрала параметры( Так не надо. "
      ]
    },
    {
      "cell_type": "code",
      "metadata": {
        "id": "j83WuL0rrefb"
      },
      "source": [
        "parameters = {\n",
        "    \"learning_rate\": [0.01, 0.025, 0.05, 0.075, 0.1, 0.15, 0.2],\n",
        "    \"max_depth\":[3,5,8],\n",
        "    \"criterion\": [\"mae\"],\n",
        "    \"n_estimators\":[10]\n",
        "    }\n",
        "\n",
        "clf = GridSearchCV(GradientBoostingRegressor(), parameters, cv=10, n_jobs=-1).fit(X_train_tf, y_train_tf)"
      ],
      "execution_count": null,
      "outputs": []
    },
    {
      "cell_type": "code",
      "metadata": {
        "colab": {
          "base_uri": "https://localhost:8080/"
        },
        "id": "T9hcw_qJ2ZoQ",
        "outputId": "a48f9a22-c64f-4530-827a-efecb0edd5a2"
      },
      "source": [
        "print(clf.score(X_train_tf, y_train_tf))\n",
        "print(clf.best_params_)"
      ],
      "execution_count": 86,
      "outputs": [
        {
          "output_type": "stream",
          "name": "stdout",
          "text": [
            "0.7809799125083254\n",
            "{'criterion': 'mae', 'learning_rate': 0.15, 'max_depth': 8, 'n_estimators': 10}\n"
          ]
        }
      ]
    },
    {
      "cell_type": "code",
      "metadata": {
        "colab": {
          "base_uri": "https://localhost:8080/"
        },
        "id": "ZadxipFjuokJ",
        "outputId": "9c83d478-5e0e-40d9-de3f-ddc13c7838be"
      },
      "source": [
        "reg = GradientBoostingRegressor(random_state=42, learning_rate=0.15, max_depth=8)\n",
        "reg.fit(X_train_tf, y_train_tf)\n",
        "train_preds = reg.predict(X_train_tf)\n",
        "test_preds = reg.predict(X_test_tf)\n",
        "\n",
        "print('result on train: {}'.format(mean_absolute_error(y_train_tf, train_preds)))\n",
        "print('result on test: {}'.format(mean_absolute_error(y_test_tf, test_preds)))"
      ],
      "execution_count": 91,
      "outputs": [
        {
          "output_type": "stream",
          "name": "stdout",
          "text": [
            "result on train: 126.54276410034434\n",
            "result on test: 862.2743204091136\n"
          ]
        }
      ]
    },
    {
      "cell_type": "markdown",
      "metadata": {
        "id": "_rS71LPR355W"
      },
      "source": [
        "Для бустинга стало получше, но тоже на немного (862 vs 883). Надо как-то другие параметры подавать гридсерчу, но я не знаю в каких диапазонах, чего-то не понимаю.\n"
      ]
    },
    {
      "cell_type": "markdown",
      "metadata": {
        "id": "LPsHp6Aa5c3m"
      },
      "source": [
        "Попробую зафитить с лучшими параметрами датасет с доп фичами"
      ]
    },
    {
      "cell_type": "code",
      "metadata": {
        "id": "jgXAOctHuZSk"
      },
      "source": [
        "final = sp.sparse.hstack((X_tf, np.array([[row] for row in task1['ner']])))\n",
        "final = sp.sparse.hstack((final, np.array([[row] for row in task1['length']])))\n",
        "final = sp.sparse.hstack((final, np.array([[row] for row in task1['concepts']])))"
      ],
      "execution_count": 98,
      "outputs": []
    },
    {
      "cell_type": "code",
      "metadata": {
        "colab": {
          "base_uri": "https://localhost:8080/"
        },
        "id": "HRsv--Cv6M0V",
        "outputId": "c8d3f2b2-7a8e-404c-fe40-48ae36175c9f"
      },
      "source": [
        "X_train_tf, X_test_tf, y_train_tf, y_test_tf = train_test_split(final, task1['price'], test_size=0.70, random_state=42)\n",
        "regr = RandomForestRegressor(random_state=42, max_depth=None, min_samples_split=2, n_estimators=500)\n",
        "regr.fit(X_train_tf, y_train_tf)\n",
        "train_preds = regr.predict(X_train_tf)\n",
        "test_preds = regr.predict(X_test_tf)\n",
        "\n",
        "print('result on train: {}'.format(mean_absolute_error(y_train_tf, train_preds)))\n",
        "print('result on test: {}'.format(mean_absolute_error(y_test_tf, test_preds)))"
      ],
      "execution_count": 100,
      "outputs": [
        {
          "output_type": "stream",
          "name": "stdout",
          "text": [
            "result on train: 358.45663216717276\n",
            "result on test: 807.3801648950133\n"
          ]
        }
      ]
    },
    {
      "cell_type": "markdown",
      "metadata": {
        "id": "qQByRsqj6mCc"
      },
      "source": [
        "Стало чуток лучше, 807"
      ]
    },
    {
      "cell_type": "markdown",
      "metadata": {
        "id": "FTKXSfo1xPi2"
      },
      "source": [
        "### Задание 2: классификация оценки от тексту отзыва"
      ]
    },
    {
      "cell_type": "code",
      "metadata": {
        "colab": {
          "base_uri": "https://localhost:8080/",
          "height": 675
        },
        "id": "9OCCJwkG7Mdk",
        "outputId": "8aed4a5c-fcf7-451f-ebcb-9e3a30b9c7be"
      },
      "source": [
        "task2.head(10)"
      ],
      "execution_count": 108,
      "outputs": [
        {
          "output_type": "execute_result",
          "data": {
            "text/html": [
              "<div>\n",
              "<style scoped>\n",
              "    .dataframe tbody tr th:only-of-type {\n",
              "        vertical-align: middle;\n",
              "    }\n",
              "\n",
              "    .dataframe tbody tr th {\n",
              "        vertical-align: top;\n",
              "    }\n",
              "\n",
              "    .dataframe thead th {\n",
              "        text-align: right;\n",
              "    }\n",
              "</style>\n",
              "<table border=\"1\" class=\"dataframe\">\n",
              "  <thead>\n",
              "    <tr style=\"text-align: right;\">\n",
              "      <th></th>\n",
              "      <th>reviews</th>\n",
              "      <th>reviews_rating</th>\n",
              "    </tr>\n",
              "  </thead>\n",
              "  <tbody>\n",
              "    <tr>\n",
              "      <th>0</th>\n",
              "      <td>Not happy with product|| It's not as expected.|| AVERAGE PRODUCT|| Pic more beautiful|| Got damage product. But quality is average for 300₹|| Bad product different from what was listed|| Worst product|| Don't buy|| Low quality makes pain on heals by sharp edges inside shoes|| Do not buy it anyway</td>\n",
              "      <td>1.0 out of 5 stars|| 1.0 out of 5 stars|| 3.0 out of 5 stars|| 3.0 out of 5 stars|| 3.0 out of 5 stars|| 2.0 out of 5 stars|| 1.0 out of 5 stars|| 2.0 out of 5 stars|| 1.0 out of 5 stars|| 1.0 out of 5 stars</td>\n",
              "    </tr>\n",
              "    <tr>\n",
              "      <th>1</th>\n",
              "      <td>Memory cushioning in these shoes is the best feature!|| Poor quality product|| Best for gym n sports|| Must must must buy|| Worth for this price|| Satisfied|| Please try this shoe|| Very good for heels. Comfy cushion|| Good lookinggood quality not exact fit a bit over sized.|| Awesome Amazon Awesome</td>\n",
              "      <td>5.0 out of 5 stars|| 1.0 out of 5 stars|| 5.0 out of 5 stars|| 5.0 out of 5 stars|| 4.0 out of 5 stars|| 5.0 out of 5 stars|| 5.0 out of 5 stars|| 5.0 out of 5 stars|| 4.0 out of 5 stars|| 5.0 out of 5 stars</td>\n",
              "    </tr>\n",
              "    <tr>\n",
              "      <th>2</th>\n",
              "      <td>Worth to its amount|| Go for it|| Perfect|| 5 star|| Itam not received|| Worst product .please dont buy|| Nice Shoes|| Pros and cons|| No buy|| Ignore this and go for another option.</td>\n",
              "      <td>5.0 out of 5 stars|| 5.0 out of 5 stars|| 5.0 out of 5 stars|| 5.0 out of 5 stars|| 1.0 out of 5 stars|| 1.0 out of 5 stars|| 5.0 out of 5 stars|| 4.0 out of 5 stars|| 1.0 out of 5 stars|| 1.0 out of 5 stars</td>\n",
              "    </tr>\n",
              "    <tr>\n",
              "      <th>3</th>\n",
              "      <td>Sup quality|| Good but not expected|| Awesome 👌.!</td>\n",
              "      <td>5.0 out of 5 stars|| 3.0 out of 5 stars|| 5.0 out of 5 stars</td>\n",
              "    </tr>\n",
              "    <tr>\n",
              "      <th>4</th>\n",
              "      <td>Best|| Satisfied!|| Affordable beauty 😘😘😘😘 the eye catcher 😊|| Economical and soft for feet|| Good looking shoe however buy one size low|| Must bye for puja|| Why so much variation in sizes.|| Review after 30 days of use|| You get what you pay for|| Cheap and branded spent 588/- x 5 to 6 time is better than 4500/- one time</td>\n",
              "      <td>5.0 out of 5 stars|| 5.0 out of 5 stars|| 5.0 out of 5 stars|| 5.0 out of 5 stars|| 5.0 out of 5 stars|| 5.0 out of 5 stars|| 1.0 out of 5 stars|| 3.0 out of 5 stars|| 2.0 out of 5 stars|| 5.0 out of 5 stars</td>\n",
              "    </tr>\n",
              "    <tr>\n",
              "      <th>5</th>\n",
              "      <td>Awesome|| Nice Product|| Nic fitting|| Poor quality product|| Shoes|| Nice|| Bad|| Fits comfortably|| So comfortable and fancy|| Nice</td>\n",
              "      <td>5.0 out of 5 stars|| 4.0 out of 5 stars|| 4.0 out of 5 stars|| 1.0 out of 5 stars|| 2.0 out of 5 stars|| 3.0 out of 5 stars|| 1.0 out of 5 stars|| 4.0 out of 5 stars|| 5.0 out of 5 stars|| 2.0 out of 5 stars</td>\n",
              "    </tr>\n",
              "    <tr>\n",
              "      <th>6</th>\n",
              "      <td>Bang for buck(paise)|| Refund or change|| This shoes are really good for casual ware .|| Comfort|| Got one|| Poor quality|| A good product for this price|| Good quality but the seller have to improve their serviceas I got wrong shoe number|| The soul of the shoes is Not what it looks like in the photo|| Product not as described and v.poor quality</td>\n",
              "      <td>5.0 out of 5 stars|| 1.0 out of 5 stars|| 4.0 out of 5 stars|| 5.0 out of 5 stars|| 4.0 out of 5 stars|| 2.0 out of 5 stars|| 5.0 out of 5 stars|| 4.0 out of 5 stars|| 3.0 out of 5 stars|| 1.0 out of 5 stars</td>\n",
              "    </tr>\n",
              "    <tr>\n",
              "      <th>7</th>\n",
              "      <td>Think twice before ordering Amazon|| Very poor product don't buy it|| Thank you Knoos and Amazon.|| Not at all a good product|| Ossm products... Buy it without thinking|| Nice Shoes..Fits as expected...Value for Money|| Worst worst worst....|| Can get better stuff for this price..|| Poor quality|| Buy only if you like low quality shoes</td>\n",
              "      <td>1.0 out of 5 stars|| 1.0 out of 5 stars|| 5.0 out of 5 stars|| 1.0 out of 5 stars|| 5.0 out of 5 stars|| 5.0 out of 5 stars|| 1.0 out of 5 stars|| 3.0 out of 5 stars|| 1.0 out of 5 stars|| 1.0 out of 5 stars</td>\n",
              "    </tr>\n",
              "    <tr>\n",
              "      <th>8</th>\n",
              "      <td>Material is good and comfortable. Nice product|| comffotable fit|| Superb quality.|| Worth for money|| Quality|| Very comfort|| Yah product mujhe bahut achcha|| Good|| Best in bata at this range|| Nice</td>\n",
              "      <td>5.0 out of 5 stars|| 5.0 out of 5 stars|| 5.0 out of 5 stars|| 4.0 out of 5 stars|| 5.0 out of 5 stars|| 5.0 out of 5 stars|| 5.0 out of 5 stars|| 4.0 out of 5 stars|| 5.0 out of 5 stars|| 4.0 out of 5 stars</td>\n",
              "    </tr>\n",
              "    <tr>\n",
              "      <th>9</th>\n",
              "      <td>It's nice and very comfortable.|| How can you cheat with customer you erase size number back side of shoes.</td>\n",
              "      <td>5.0 out of 5 stars|| 1.0 out of 5 stars</td>\n",
              "    </tr>\n",
              "  </tbody>\n",
              "</table>\n",
              "</div>"
            ],
            "text/plain": [
              "                                                                                                                                                                                                                                                                                                                                                        reviews                                                                                                                                                                                                   reviews_rating\n",
              "0                                                     Not happy with product|| It's not as expected.|| AVERAGE PRODUCT|| Pic more beautiful|| Got damage product. But quality is average for 300₹|| Bad product different from what was listed|| Worst product|| Don't buy|| Low quality makes pain on heals by sharp edges inside shoes|| Do not buy it anyway  1.0 out of 5 stars|| 1.0 out of 5 stars|| 3.0 out of 5 stars|| 3.0 out of 5 stars|| 3.0 out of 5 stars|| 2.0 out of 5 stars|| 1.0 out of 5 stars|| 2.0 out of 5 stars|| 1.0 out of 5 stars|| 1.0 out of 5 stars\n",
              "1                                                  Memory cushioning in these shoes is the best feature!|| Poor quality product|| Best for gym n sports|| Must must must buy|| Worth for this price|| Satisfied|| Please try this shoe|| Very good for heels. Comfy cushion|| Good lookinggood quality not exact fit a bit over sized.|| Awesome Amazon Awesome  5.0 out of 5 stars|| 1.0 out of 5 stars|| 5.0 out of 5 stars|| 5.0 out of 5 stars|| 4.0 out of 5 stars|| 5.0 out of 5 stars|| 5.0 out of 5 stars|| 5.0 out of 5 stars|| 4.0 out of 5 stars|| 5.0 out of 5 stars\n",
              "2                                                                                                                                                                        Worth to its amount|| Go for it|| Perfect|| 5 star|| Itam not received|| Worst product .please dont buy|| Nice Shoes|| Pros and cons|| No buy|| Ignore this and go for another option.  5.0 out of 5 stars|| 5.0 out of 5 stars|| 5.0 out of 5 stars|| 5.0 out of 5 stars|| 1.0 out of 5 stars|| 1.0 out of 5 stars|| 5.0 out of 5 stars|| 4.0 out of 5 stars|| 1.0 out of 5 stars|| 1.0 out of 5 stars\n",
              "3                                                                                                                                                                                                                                                                                                             Sup quality|| Good but not expected|| Awesome 👌.!                                                                                                                                                     5.0 out of 5 stars|| 3.0 out of 5 stars|| 5.0 out of 5 stars\n",
              "4                          Best|| Satisfied!|| Affordable beauty 😘😘😘😘 the eye catcher 😊|| Economical and soft for feet|| Good looking shoe however buy one size low|| Must bye for puja|| Why so much variation in sizes.|| Review after 30 days of use|| You get what you pay for|| Cheap and branded spent 588/- x 5 to 6 time is better than 4500/- one time  5.0 out of 5 stars|| 5.0 out of 5 stars|| 5.0 out of 5 stars|| 5.0 out of 5 stars|| 5.0 out of 5 stars|| 5.0 out of 5 stars|| 1.0 out of 5 stars|| 3.0 out of 5 stars|| 2.0 out of 5 stars|| 5.0 out of 5 stars\n",
              "5                                                                                                                                                                                                                         Awesome|| Nice Product|| Nic fitting|| Poor quality product|| Shoes|| Nice|| Bad|| Fits comfortably|| So comfortable and fancy|| Nice  5.0 out of 5 stars|| 4.0 out of 5 stars|| 4.0 out of 5 stars|| 1.0 out of 5 stars|| 2.0 out of 5 stars|| 3.0 out of 5 stars|| 1.0 out of 5 stars|| 4.0 out of 5 stars|| 5.0 out of 5 stars|| 2.0 out of 5 stars\n",
              "6  Bang for buck(paise)|| Refund or change|| This shoes are really good for casual ware .|| Comfort|| Got one|| Poor quality|| A good product for this price|| Good quality but the seller have to improve their serviceas I got wrong shoe number|| The soul of the shoes is Not what it looks like in the photo|| Product not as described and v.poor quality  5.0 out of 5 stars|| 1.0 out of 5 stars|| 4.0 out of 5 stars|| 5.0 out of 5 stars|| 4.0 out of 5 stars|| 2.0 out of 5 stars|| 5.0 out of 5 stars|| 4.0 out of 5 stars|| 3.0 out of 5 stars|| 1.0 out of 5 stars\n",
              "7             Think twice before ordering Amazon|| Very poor product don't buy it|| Thank you Knoos and Amazon.|| Not at all a good product|| Ossm products... Buy it without thinking|| Nice Shoes..Fits as expected...Value for Money|| Worst worst worst....|| Can get better stuff for this price..|| Poor quality|| Buy only if you like low quality shoes  1.0 out of 5 stars|| 1.0 out of 5 stars|| 5.0 out of 5 stars|| 1.0 out of 5 stars|| 5.0 out of 5 stars|| 5.0 out of 5 stars|| 1.0 out of 5 stars|| 3.0 out of 5 stars|| 1.0 out of 5 stars|| 1.0 out of 5 stars\n",
              "8                                                                                                                                                     Material is good and comfortable. Nice product|| comffotable fit|| Superb quality.|| Worth for money|| Quality|| Very comfort|| Yah product mujhe bahut achcha|| Good|| Best in bata at this range|| Nice  5.0 out of 5 stars|| 5.0 out of 5 stars|| 5.0 out of 5 stars|| 4.0 out of 5 stars|| 5.0 out of 5 stars|| 5.0 out of 5 stars|| 5.0 out of 5 stars|| 4.0 out of 5 stars|| 5.0 out of 5 stars|| 4.0 out of 5 stars\n",
              "9                                                                                                                                                                                                                                                   It's nice and very comfortable.|| How can you cheat with customer you erase size number back side of shoes.                                                                                                                                                                          5.0 out of 5 stars|| 1.0 out of 5 stars"
            ]
          },
          "metadata": {},
          "execution_count": 108
        }
      ]
    },
    {
      "cell_type": "code",
      "metadata": {
        "id": "7lcaaL-G7uLP"
      },
      "source": [
        "reviews = df['reviews']\n",
        "ratings = df['reviews_rating']"
      ],
      "execution_count": 110,
      "outputs": []
    },
    {
      "cell_type": "code",
      "metadata": {
        "id": "oori4nN38IU5"
      },
      "source": [
        "rev = []\n",
        "for x, y in zip(reviews, ratings):\n",
        "  rating = y.replace(' ', '').replace('outof5stars', '').split('||')\n",
        "  review = x.split('||')\n",
        "  review = [r.strip(' ') for r in review]\n",
        "  for x1, y1 in zip(review, rating):\n",
        "    rev.append([x1, float(y1)])"
      ],
      "execution_count": 136,
      "outputs": []
    },
    {
      "cell_type": "code",
      "metadata": {
        "id": "TWNuW9tZ89mg"
      },
      "source": [
        "task2 = pd.DataFrame(rev, columns=['review', 'rating'])"
      ],
      "execution_count": 115,
      "outputs": []
    },
    {
      "cell_type": "code",
      "metadata": {
        "colab": {
          "base_uri": "https://localhost:8080/",
          "height": 300
        },
        "id": "31b4GRjj9gba",
        "outputId": "7f2e24a6-18ac-4fc2-ec11-dc5512388961"
      },
      "source": [
        "task2.describe()"
      ],
      "execution_count": 117,
      "outputs": [
        {
          "output_type": "execute_result",
          "data": {
            "text/html": [
              "<div>\n",
              "<style scoped>\n",
              "    .dataframe tbody tr th:only-of-type {\n",
              "        vertical-align: middle;\n",
              "    }\n",
              "\n",
              "    .dataframe tbody tr th {\n",
              "        vertical-align: top;\n",
              "    }\n",
              "\n",
              "    .dataframe thead th {\n",
              "        text-align: right;\n",
              "    }\n",
              "</style>\n",
              "<table border=\"1\" class=\"dataframe\">\n",
              "  <thead>\n",
              "    <tr style=\"text-align: right;\">\n",
              "      <th></th>\n",
              "      <th>rating</th>\n",
              "    </tr>\n",
              "  </thead>\n",
              "  <tbody>\n",
              "    <tr>\n",
              "      <th>count</th>\n",
              "      <td>8195.000000</td>\n",
              "    </tr>\n",
              "    <tr>\n",
              "      <th>mean</th>\n",
              "      <td>3.710921</td>\n",
              "    </tr>\n",
              "    <tr>\n",
              "      <th>std</th>\n",
              "      <td>1.546930</td>\n",
              "    </tr>\n",
              "    <tr>\n",
              "      <th>min</th>\n",
              "      <td>1.000000</td>\n",
              "    </tr>\n",
              "    <tr>\n",
              "      <th>25%</th>\n",
              "      <td>3.000000</td>\n",
              "    </tr>\n",
              "    <tr>\n",
              "      <th>50%</th>\n",
              "      <td>4.000000</td>\n",
              "    </tr>\n",
              "    <tr>\n",
              "      <th>75%</th>\n",
              "      <td>5.000000</td>\n",
              "    </tr>\n",
              "    <tr>\n",
              "      <th>max</th>\n",
              "      <td>5.000000</td>\n",
              "    </tr>\n",
              "  </tbody>\n",
              "</table>\n",
              "</div>"
            ],
            "text/plain": [
              "            rating\n",
              "count  8195.000000\n",
              "mean      3.710921\n",
              "std       1.546930\n",
              "min       1.000000\n",
              "25%       3.000000\n",
              "50%       4.000000\n",
              "75%       5.000000\n",
              "max       5.000000"
            ]
          },
          "metadata": {},
          "execution_count": 117
        }
      ]
    },
    {
      "cell_type": "code",
      "metadata": {
        "colab": {
          "base_uri": "https://localhost:8080/",
          "height": 363
        },
        "id": "bKfFW6rL9Zhp",
        "outputId": "ab8f51e4-7480-48eb-fe01-5581949d70a6"
      },
      "source": [
        "task2.head(10)"
      ],
      "execution_count": 119,
      "outputs": [
        {
          "output_type": "execute_result",
          "data": {
            "text/html": [
              "<div>\n",
              "<style scoped>\n",
              "    .dataframe tbody tr th:only-of-type {\n",
              "        vertical-align: middle;\n",
              "    }\n",
              "\n",
              "    .dataframe tbody tr th {\n",
              "        vertical-align: top;\n",
              "    }\n",
              "\n",
              "    .dataframe thead th {\n",
              "        text-align: right;\n",
              "    }\n",
              "</style>\n",
              "<table border=\"1\" class=\"dataframe\">\n",
              "  <thead>\n",
              "    <tr style=\"text-align: right;\">\n",
              "      <th></th>\n",
              "      <th>review</th>\n",
              "      <th>rating</th>\n",
              "    </tr>\n",
              "  </thead>\n",
              "  <tbody>\n",
              "    <tr>\n",
              "      <th>0</th>\n",
              "      <td>happy product</td>\n",
              "      <td>1.0</td>\n",
              "    </tr>\n",
              "    <tr>\n",
              "      <th>1</th>\n",
              "      <td>expect</td>\n",
              "      <td>1.0</td>\n",
              "    </tr>\n",
              "    <tr>\n",
              "      <th>2</th>\n",
              "      <td>AVERAGE average PRODUCT product</td>\n",
              "      <td>3.0</td>\n",
              "    </tr>\n",
              "    <tr>\n",
              "      <th>3</th>\n",
              "      <td>pic beautiful</td>\n",
              "      <td>3.0</td>\n",
              "    </tr>\n",
              "    <tr>\n",
              "      <th>4</th>\n",
              "      <td>got damage product quality average 300 300</td>\n",
              "      <td>3.0</td>\n",
              "    </tr>\n",
              "    <tr>\n",
              "      <th>5</th>\n",
              "      <td>bad product different list</td>\n",
              "      <td>2.0</td>\n",
              "    </tr>\n",
              "    <tr>\n",
              "      <th>6</th>\n",
              "      <td>worst product</td>\n",
              "      <td>1.0</td>\n",
              "    </tr>\n",
              "    <tr>\n",
              "      <th>7</th>\n",
              "      <td>buy</td>\n",
              "      <td>2.0</td>\n",
              "    </tr>\n",
              "    <tr>\n",
              "      <th>8</th>\n",
              "      <td>low quality make pain heals sharp edge inside shoe</td>\n",
              "      <td>1.0</td>\n",
              "    </tr>\n",
              "    <tr>\n",
              "      <th>9</th>\n",
              "      <td>buy anyway</td>\n",
              "      <td>1.0</td>\n",
              "    </tr>\n",
              "  </tbody>\n",
              "</table>\n",
              "</div>"
            ],
            "text/plain": [
              "                                               review  rating\n",
              "0                                       happy product     1.0\n",
              "1                                              expect     1.0\n",
              "2                     AVERAGE average PRODUCT product     3.0\n",
              "3                                       pic beautiful     3.0\n",
              "4          got damage product quality average 300 300     3.0\n",
              "5                          bad product different list     2.0\n",
              "6                                       worst product     1.0\n",
              "7                                                 buy     2.0\n",
              "8  low quality make pain heals sharp edge inside shoe     1.0\n",
              "9                                          buy anyway     1.0"
            ]
          },
          "metadata": {},
          "execution_count": 119
        }
      ]
    },
    {
      "cell_type": "code",
      "metadata": {
        "colab": {
          "base_uri": "https://localhost:8080/",
          "height": 283
        },
        "id": "5wLrf0OXLSy3",
        "outputId": "af0f5223-f081-4e72-9558-bdcaa838272a"
      },
      "source": [
        "task2['rating'].plot(kind='hist')"
      ],
      "execution_count": 134,
      "outputs": [
        {
          "output_type": "execute_result",
          "data": {
            "text/plain": [
              "<matplotlib.axes._subplots.AxesSubplot at 0x7f505d04d990>"
            ]
          },
          "metadata": {},
          "execution_count": 134
        },
        {
          "output_type": "display_data",
          "data": {
            "image/png": "[encoded data removed]",
            "text/plain": [
              "<Figure size 432x288 with 1 Axes>"
            ]
          },
          "metadata": {
            "needs_background": "light"
          }
        }
      ]
    },
    {
      "cell_type": "markdown",
      "metadata": {
        "id": "pgkfCxOJLfeq"
      },
      "source": [
        "Классы несбалансированны"
      ]
    },
    {
      "cell_type": "code",
      "metadata": {
        "id": "Cd3SYbVGAVgc"
      },
      "source": [
        "task2['review'] = [lemmatize(row) for row in task2['review']]"
      ],
      "execution_count": 118,
      "outputs": []
    },
    {
      "cell_type": "code",
      "metadata": {
        "id": "2rrviijmFZ1S"
      },
      "source": [
        "tfidf_vectorizer = TfidfVectorizer(analyzer='word')\n",
        "bow_vectorizer = CountVectorizer()\n",
        "X_tfidf = tfidf_vectorizer.fit_transform(task2['review'])\n",
        "X_bow = bow_vectorizer.fit_transform(task2['review'])\n",
        "X_train_bow, X_test_bow, y_train_bow, y_test_bow = train_test_split(X_bow, task2['rating'], test_size=0.70, random_state=42)\n",
        "X_train_tfidf, X_test_tfidf, y_train_tfidf, y_test_tfidf = train_test_split(X_tfidf, task2['rating'], test_size=0.70, random_state=42)"
      ],
      "execution_count": 121,
      "outputs": []
    },
    {
      "cell_type": "code",
      "metadata": {
        "colab": {
          "base_uri": "https://localhost:8080/"
        },
        "id": "qbaqtfu6Gl2-",
        "outputId": "3c571c65-cbf9-4f29-8ad5-6f9243288bf8"
      },
      "source": [
        "from sklearn.model_selection import cross_val_score\n",
        "from sklearn.model_selection import RepeatedStratifiedKFold\n",
        "from sklearn.linear_model import LogisticRegression\n",
        "from numpy import mean\n",
        "from numpy import std\n",
        "model = LogisticRegression(multi_class='multinomial', solver='lbfgs')\n",
        "cv = RepeatedStratifiedKFold(n_splits=10, n_repeats=3, random_state=1)\n",
        "n_scores = cross_val_score(model, X_train_tfidf, y_train_tfidf, scoring='accuracy', cv=cv, n_jobs=-1)\n",
        "print('Mean Accuracy: %.3f (%.3f)' % (mean(n_scores), std(n_scores)))"
      ],
      "execution_count": 124,
      "outputs": [
        {
          "output_type": "stream",
          "name": "stdout",
          "text": [
            "Mean Accuracy: 0.574 (0.018)\n"
          ]
        }
      ]
    },
    {
      "cell_type": "code",
      "metadata": {
        "colab": {
          "base_uri": "https://localhost:8080/"
        },
        "id": "UK8RkipAIjhU",
        "outputId": "617b5136-d5fc-44d1-938d-8ad0e002e5b1"
      },
      "source": [
        "n_scores = cross_val_score(model, X_train_bow, y_train_bow, scoring='accuracy', cv=cv, n_jobs=-1)\n",
        "print('Mean Accuracy: %.3f (%.3f)' % (mean(n_scores), std(n_scores)))"
      ],
      "execution_count": 125,
      "outputs": [
        {
          "output_type": "stream",
          "name": "stdout",
          "text": [
            "Mean Accuracy: 0.576 (0.020)\n"
          ]
        }
      ]
    },
    {
      "cell_type": "code",
      "metadata": {
        "id": "6E1JHmpcQL-O"
      },
      "source": [
        "model = model.fit(X_train_tfidf, y_train_tfidf)\n",
        "answers = model.predict(X_test_tfidf)"
      ],
      "execution_count": 138,
      "outputs": []
    },
    {
      "cell_type": "code",
      "metadata": {
        "colab": {
          "base_uri": "https://localhost:8080/"
        },
        "id": "A4BOsLaQQt1t",
        "outputId": "ac5af2de-ecb1-491f-ee79-87ee9b6d51d9"
      },
      "source": [
        "from sklearn.metrics import f1_score\n",
        "y_true = y_test_tfidf\n",
        "y_pred = answers\n",
        "f1_score(y_true, y_pred, average='micro')"
      ],
      "execution_count": 142,
      "outputs": [
        {
          "output_type": "execute_result",
          "data": {
            "text/plain": [
              "0.5926442391493812"
            ]
          },
          "metadata": {},
          "execution_count": 142
        }
      ]
    },
    {
      "cell_type": "markdown",
      "metadata": {
        "id": "ovdAWdLLQ7uS"
      },
      "source": [
        "Ф-мера средне"
      ]
    },
    {
      "cell_type": "code",
      "metadata": {
        "id": "mjyNzC0kRMuc"
      },
      "source": [
        "from sklearn.metrics import confusion_matrix\n",
        "cm = confusion_matrix(y_true, y_pred)"
      ],
      "execution_count": 143,
      "outputs": []
    },
    {
      "cell_type": "code",
      "metadata": {
        "colab": {
          "base_uri": "https://localhost:8080/",
          "height": 281
        },
        "id": "A7_KHs7WRiIv",
        "outputId": "8e553924-4a80-4719-c6a1-4c34abadbb63"
      },
      "source": [
        "import seaborn as sns\n",
        "import matplotlib.pyplot as plt\n",
        "%matplotlib inline\n",
        "\n",
        "sns.heatmap(data=confusion_matrix(y_true, y_pred), annot=True, fmt=\"d\", cbar=False, xticklabels=[1,2,3,4,5], yticklabels=[1,2,3,4,5])\n",
        "plt.title(\"Confusion matrix\")\n",
        "plt.show()"
      ],
      "execution_count": 147,
      "outputs": [
        {
          "output_type": "display_data",
          "data": {
            "image/png": "[encoded data removed]",
            "text/plain": [
              "<Figure size 432x288 with 1 Axes>"
            ]
          },
          "metadata": {
            "needs_background": "light"
          }
        }
      ]
    },
    {
      "cell_type": "markdown",
      "metadata": {
        "id": "RueeLJGLTOPx"
      },
      "source": [
        "Почти все определяет как отзыв с оценкой 5, но умеет отделять 1 (в 60% случаев)"
      ]
    },
    {
      "cell_type": "code",
      "metadata": {
        "id": "IKq8Ej08JNz5"
      },
      "source": [
        "from sklearn.neighbors import KNeighborsClassifier\n",
        "neigh = KNeighborsClassifier(n_neighbors=3)\n",
        "neigh.fit(X_train_tfidf, y_train_tfidf)\n",
        "\n",
        "answers = neigh.predict(X_test_tfidf)"
      ],
      "execution_count": 159,
      "outputs": []
    },
    {
      "cell_type": "code",
      "metadata": {
        "colab": {
          "base_uri": "https://localhost:8080/"
        },
        "id": "B2_0ZgazT2Wm",
        "outputId": "64d4b8b1-1043-4feb-d92a-9a3eee691e7e"
      },
      "source": [
        "y_true = y_test_tfidf\n",
        "y_pred = answers\n",
        "f1_score(y_true, y_pred, average='micro')"
      ],
      "execution_count": 160,
      "outputs": [
        {
          "output_type": "execute_result",
          "data": {
            "text/plain": [
              "0.45319853582011504"
            ]
          },
          "metadata": {},
          "execution_count": 160
        }
      ]
    },
    {
      "cell_type": "code",
      "metadata": {
        "colab": {
          "base_uri": "https://localhost:8080/",
          "height": 281
        },
        "id": "UlHCoaNMUBo6",
        "outputId": "4bec9091-9c3e-4f8b-8ea9-83f82c634619"
      },
      "source": [
        "cm = confusion_matrix(y_true, y_pred)\n",
        "sns.heatmap(data=confusion_matrix(y_true, y_pred), annot=True, fmt=\"d\", cbar=False, xticklabels=[1,2,3,4,5], yticklabels=[1,2,3,4,5])\n",
        "plt.title(\"Confusion matrix\")\n",
        "plt.show()"
      ],
      "execution_count": 161,
      "outputs": [
        {
          "output_type": "display_data",
          "data": {
            "image/png": "[encoded data removed]",
            "text/plain": [
              "<Figure size 432x288 with 1 Axes>"
            ]
          },
          "metadata": {
            "needs_background": "light"
          }
        }
      ]
    },
    {
      "cell_type": "markdown",
      "metadata": {
        "id": "Lyn3uID_UFCu"
      },
      "source": [
        "Логистическая регрессия лучше определяла, все так же путаются все классы с классом оценок на 5.0"
      ]
    },
    {
      "cell_type": "code",
      "metadata": {
        "colab": {
          "base_uri": "https://localhost:8080/"
        },
        "id": "3BnfXALXULqV",
        "outputId": "61fd19be-730b-4830-adfa-37a082f04484"
      },
      "source": [
        "clf = RandomForestClassifier(max_depth=2, random_state=42)\n",
        "clf.fit(X_train_tfidf, y_train_tfidf)\n",
        "\n",
        "answers = clf.predict(X_test_tfidf)\n",
        "y_true = y_test_tfidf\n",
        "y_pred = answers\n",
        "f1_score(y_true, y_pred, average='micro')"
      ],
      "execution_count": 164,
      "outputs": [
        {
          "output_type": "execute_result",
          "data": {
            "text/plain": [
              "0.4779501481610598"
            ]
          },
          "metadata": {},
          "execution_count": 164
        }
      ]
    },
    {
      "cell_type": "code",
      "metadata": {
        "colab": {
          "base_uri": "https://localhost:8080/",
          "height": 281
        },
        "id": "O-5kTQHzUk4H",
        "outputId": "6764eee3-0476-4f9c-ee08-aad6477c396c"
      },
      "source": [
        "cm = confusion_matrix(y_true, y_pred)\n",
        "sns.heatmap(data=confusion_matrix(y_true, y_pred), annot=True, fmt=\"d\", cbar=False, xticklabels=[1,2,3,4,5], yticklabels=[1,2,3,4,5])\n",
        "plt.title(\"Confusion matrix\")\n",
        "plt.show()"
      ],
      "execution_count": 165,
      "outputs": [
        {
          "output_type": "display_data",
          "data": {
            "image/png": "[encoded data removed]",
            "text/plain": [
              "<Figure size 432x288 with 1 Axes>"
            ]
          },
          "metadata": {
            "needs_background": "light"
          }
        }
      ]
    },
    {
      "cell_type": "markdown",
      "metadata": {
        "id": "EQ-KG5opJiG6"
      },
      "source": [
        "Рандомфорест вообще не справился, все приписал к 5ому классу"
      ]
    },
    {
      "cell_type": "markdown",
      "metadata": {
        "id": "lTwE0R_qcEdj"
      },
      "source": [
        "Градиентный бустинг"
      ]
    },
    {
      "cell_type": "code",
      "metadata": {
        "id": "7U0G_VBrVlzz"
      },
      "source": [
        "clf = GradientBoostingClassifier(n_estimators=100, learning_rate=1.0,\n",
        "    max_depth=1, random_state=42).fit(X_train_tfidf, y_train_tfidf)\n",
        "answers = clf.predict(X_test_tfidf)"
      ],
      "execution_count": 173,
      "outputs": []
    },
    {
      "cell_type": "code",
      "metadata": {
        "colab": {
          "base_uri": "https://localhost:8080/"
        },
        "id": "1vLoTbTFV3uy",
        "outputId": "bfd6d5e3-f574-4446-a266-6e54f3f30fd8"
      },
      "source": [
        "y_true = y_test_tfidf\n",
        "y_pred = answers\n",
        "f1_score(y_true, y_pred, average='micro')"
      ],
      "execution_count": 174,
      "outputs": [
        {
          "output_type": "execute_result",
          "data": {
            "text/plain": [
              "0.5569112776712567"
            ]
          },
          "metadata": {},
          "execution_count": 174
        }
      ]
    },
    {
      "cell_type": "code",
      "metadata": {
        "colab": {
          "base_uri": "https://localhost:8080/",
          "height": 281
        },
        "id": "o9CzR_rmWCLx",
        "outputId": "3c97a0ae-6b09-4854-ed4c-df48b74d529c"
      },
      "source": [
        "cm = confusion_matrix(y_true, y_pred)\n",
        "sns.heatmap(data=confusion_matrix(y_true, y_pred), annot=True, fmt=\"d\", cbar=False, xticklabels=[1,2,3,4,5], yticklabels=[1,2,3,4,5])\n",
        "plt.title(\"Confusion matrix\")\n",
        "plt.show()"
      ],
      "execution_count": 175,
      "outputs": [
        {
          "output_type": "display_data",
          "data": {
            "image/png": "[encoded data removed]",
            "text/plain": [
              "<Figure size 432x288 with 1 Axes>"
            ]
          },
          "metadata": {
            "needs_background": "light"
          }
        }
      ]
    },
    {
      "cell_type": "markdown",
      "metadata": {
        "id": "iWQ-lahTWHDv"
      },
      "source": [
        "Градиентный бустинг почти на уровне логистической регрессии"
      ]
    },
    {
      "cell_type": "markdown",
      "metadata": {
        "id": "6zZDBQHJWM_C"
      },
      "source": [
        "##### Гридсерч"
      ]
    },
    {
      "cell_type": "markdown",
      "metadata": {
        "id": "VBRR-QqnWcES"
      },
      "source": [
        "Логрег и градиентный бустинг"
      ]
    },
    {
      "cell_type": "code",
      "metadata": {
        "colab": {
          "base_uri": "https://localhost:8080/"
        },
        "id": "1sA3ATIkWPk6",
        "outputId": "301feb2c-9daa-47bc-8723-4a3072f5d194"
      },
      "source": [
        "from sklearn.pipeline import Pipeline\n",
        "\n",
        "logregpipe = Pipeline([('scale', StandardScaler(with_mean=False)),\n",
        "                   ('logreg',LogisticRegression(multi_class=\"multinomial\",solver=\"lbfgs\"))])\n",
        "\n",
        "# Gridsearch to determine the value of C\n",
        "param_grid = {'logreg__C':np.arange(0.01,100,10)}\n",
        "logreg_cv = GridSearchCV(logregpipe,param_grid,cv=5,return_train_score=True)\n",
        "logreg_cv.fit(X_train_tfidf,y_train_tfidf)\n",
        "print(logreg_cv.best_params_)\n",
        "\n",
        "bestlogreg = logreg_cv.best_estimator_\n",
        "bestlogreg.fit(X_train_tfidf,y_train_tfidf)\n",
        "bestlogreg.coef_ = bestlogreg.named_steps['logreg'].coef_\n",
        "bestlogreg.score(X_train_tfidf,y_train_tfidf)"
      ],
      "execution_count": 181,
      "outputs": [
        {
          "output_type": "stream",
          "name": "stderr",
          "text": [
            "/usr/local/lib/python3.7/dist-packages/sklearn/linear_model/_logistic.py:940: ConvergenceWarning: lbfgs failed to converge (status=1):\n",
            "STOP: TOTAL NO. of ITERATIONS REACHED LIMIT.\n",
            "\n",
            "Increase the number of iterations (max_iter) or scale the data as shown in:\n",
            "    https://scikit-learn.org/stable/modules/preprocessing.html\n",
            "Please also refer to the documentation for alternative solver options:\n",
            "    https://scikit-learn.org/stable/modules/linear_model.html#logistic-regression\n",
            "  extra_warning_msg=_LOGISTIC_SOLVER_CONVERGENCE_MSG)\n",
            "/usr/local/lib/python3.7/dist-packages/sklearn/linear_model/_logistic.py:940: ConvergenceWarning: lbfgs failed to converge (status=1):\n",
            "STOP: TOTAL NO. of ITERATIONS REACHED LIMIT.\n",
            "\n",
            "Increase the number of iterations (max_iter) or scale the data as shown in:\n",
            "    https://scikit-learn.org/stable/modules/preprocessing.html\n",
            "Please also refer to the documentation for alternative solver options:\n",
            "    https://scikit-learn.org/stable/modules/linear_model.html#logistic-regression\n",
            "  extra_warning_msg=_LOGISTIC_SOLVER_CONVERGENCE_MSG)\n",
            "/usr/local/lib/python3.7/dist-packages/sklearn/linear_model/_logistic.py:940: ConvergenceWarning: lbfgs failed to converge (status=1):\n",
            "STOP: TOTAL NO. of ITERATIONS REACHED LIMIT.\n",
            "\n",
            "Increase the number of iterations (max_iter) or scale the data as shown in:\n",
            "    https://scikit-learn.org/stable/modules/preprocessing.html\n",
            "Please also refer to the documentation for alternative solver options:\n",
            "    https://scikit-learn.org/stable/modules/linear_model.html#logistic-regression\n",
            "  extra_warning_msg=_LOGISTIC_SOLVER_CONVERGENCE_MSG)\n",
            "/usr/local/lib/python3.7/dist-packages/sklearn/linear_model/_logistic.py:940: ConvergenceWarning: lbfgs failed to converge (status=1):\n",
            "STOP: TOTAL NO. of ITERATIONS REACHED LIMIT.\n",
            "\n",
            "Increase the number of iterations (max_iter) or scale the data as shown in:\n",
            "    https://scikit-learn.org/stable/modules/preprocessing.html\n",
            "Please also refer to the documentation for alternative solver options:\n",
            "    https://scikit-learn.org/stable/modules/linear_model.html#logistic-regression\n",
            "  extra_warning_msg=_LOGISTIC_SOLVER_CONVERGENCE_MSG)\n",
            "/usr/local/lib/python3.7/dist-packages/sklearn/linear_model/_logistic.py:940: ConvergenceWarning: lbfgs failed to converge (status=1):\n",
            "STOP: TOTAL NO. of ITERATIONS REACHED LIMIT.\n",
            "\n",
            "Increase the number of iterations (max_iter) or scale the data as shown in:\n",
            "    https://scikit-learn.org/stable/modules/preprocessing.html\n",
            "Please also refer to the documentation for alternative solver options:\n",
            "    https://scikit-learn.org/stable/modules/linear_model.html#logistic-regression\n",
            "  extra_warning_msg=_LOGISTIC_SOLVER_CONVERGENCE_MSG)\n",
            "/usr/local/lib/python3.7/dist-packages/sklearn/linear_model/_logistic.py:940: ConvergenceWarning: lbfgs failed to converge (status=1):\n",
            "STOP: TOTAL NO. of ITERATIONS REACHED LIMIT.\n",
            "\n",
            "Increase the number of iterations (max_iter) or scale the data as shown in:\n",
            "    https://scikit-learn.org/stable/modules/preprocessing.html\n",
            "Please also refer to the documentation for alternative solver options:\n",
            "    https://scikit-learn.org/stable/modules/linear_model.html#logistic-regression\n",
            "  extra_warning_msg=_LOGISTIC_SOLVER_CONVERGENCE_MSG)\n",
            "/usr/local/lib/python3.7/dist-packages/sklearn/linear_model/_logistic.py:940: ConvergenceWarning: lbfgs failed to converge (status=1):\n",
            "STOP: TOTAL NO. of ITERATIONS REACHED LIMIT.\n",
            "\n",
            "Increase the number of iterations (max_iter) or scale the data as shown in:\n",
            "    https://scikit-learn.org/stable/modules/preprocessing.html\n",
            "Please also refer to the documentation for alternative solver options:\n",
            "    https://scikit-learn.org/stable/modules/linear_model.html#logistic-regression\n",
            "  extra_warning_msg=_LOGISTIC_SOLVER_CONVERGENCE_MSG)\n",
            "/usr/local/lib/python3.7/dist-packages/sklearn/linear_model/_logistic.py:940: ConvergenceWarning: lbfgs failed to converge (status=1):\n",
            "STOP: TOTAL NO. of ITERATIONS REACHED LIMIT.\n",
            "\n",
            "Increase the number of iterations (max_iter) or scale the data as shown in:\n",
            "    https://scikit-learn.org/stable/modules/preprocessing.html\n",
            "Please also refer to the documentation for alternative solver options:\n",
            "    https://scikit-learn.org/stable/modules/linear_model.html#logistic-regression\n",
            "  extra_warning_msg=_LOGISTIC_SOLVER_CONVERGENCE_MSG)\n",
            "/usr/local/lib/python3.7/dist-packages/sklearn/linear_model/_logistic.py:940: ConvergenceWarning: lbfgs failed to converge (status=1):\n",
            "STOP: TOTAL NO. of ITERATIONS REACHED LIMIT.\n",
            "\n",
            "Increase the number of iterations (max_iter) or scale the data as shown in:\n",
            "    https://scikit-learn.org/stable/modules/preprocessing.html\n",
            "Please also refer to the documentation for alternative solver options:\n",
            "    https://scikit-learn.org/stable/modules/linear_model.html#logistic-regression\n",
            "  extra_warning_msg=_LOGISTIC_SOLVER_CONVERGENCE_MSG)\n",
            "/usr/local/lib/python3.7/dist-packages/sklearn/linear_model/_logistic.py:940: ConvergenceWarning: lbfgs failed to converge (status=1):\n",
            "STOP: TOTAL NO. of ITERATIONS REACHED LIMIT.\n",
            "\n",
            "Increase the number of iterations (max_iter) or scale the data as shown in:\n",
            "    https://scikit-learn.org/stable/modules/preprocessing.html\n",
            "Please also refer to the documentation for alternative solver options:\n",
            "    https://scikit-learn.org/stable/modules/linear_model.html#logistic-regression\n",
            "  extra_warning_msg=_LOGISTIC_SOLVER_CONVERGENCE_MSG)\n",
            "/usr/local/lib/python3.7/dist-packages/sklearn/linear_model/_logistic.py:940: ConvergenceWarning: lbfgs failed to converge (status=1):\n",
            "STOP: TOTAL NO. of ITERATIONS REACHED LIMIT.\n",
            "\n",
            "Increase the number of iterations (max_iter) or scale the data as shown in:\n",
            "    https://scikit-learn.org/stable/modules/preprocessing.html\n",
            "Please also refer to the documentation for alternative solver options:\n",
            "    https://scikit-learn.org/stable/modules/linear_model.html#logistic-regression\n",
            "  extra_warning_msg=_LOGISTIC_SOLVER_CONVERGENCE_MSG)\n",
            "/usr/local/lib/python3.7/dist-packages/sklearn/linear_model/_logistic.py:940: ConvergenceWarning: lbfgs failed to converge (status=1):\n",
            "STOP: TOTAL NO. of ITERATIONS REACHED LIMIT.\n",
            "\n",
            "Increase the number of iterations (max_iter) or scale the data as shown in:\n",
            "    https://scikit-learn.org/stable/modules/preprocessing.html\n",
            "Please also refer to the documentation for alternative solver options:\n",
            "    https://scikit-learn.org/stable/modules/linear_model.html#logistic-regression\n",
            "  extra_warning_msg=_LOGISTIC_SOLVER_CONVERGENCE_MSG)\n",
            "/usr/local/lib/python3.7/dist-packages/sklearn/linear_model/_logistic.py:940: ConvergenceWarning: lbfgs failed to converge (status=1):\n",
            "STOP: TOTAL NO. of ITERATIONS REACHED LIMIT.\n",
            "\n",
            "Increase the number of iterations (max_iter) or scale the data as shown in:\n",
            "    https://scikit-learn.org/stable/modules/preprocessing.html\n",
            "Please also refer to the documentation for alternative solver options:\n",
            "    https://scikit-learn.org/stable/modules/linear_model.html#logistic-regression\n",
            "  extra_warning_msg=_LOGISTIC_SOLVER_CONVERGENCE_MSG)\n",
            "/usr/local/lib/python3.7/dist-packages/sklearn/linear_model/_logistic.py:940: ConvergenceWarning: lbfgs failed to converge (status=1):\n",
            "STOP: TOTAL NO. of ITERATIONS REACHED LIMIT.\n",
            "\n",
            "Increase the number of iterations (max_iter) or scale the data as shown in:\n",
            "    https://scikit-learn.org/stable/modules/preprocessing.html\n",
            "Please also refer to the documentation for alternative solver options:\n",
            "    https://scikit-learn.org/stable/modules/linear_model.html#logistic-regression\n",
            "  extra_warning_msg=_LOGISTIC_SOLVER_CONVERGENCE_MSG)\n",
            "/usr/local/lib/python3.7/dist-packages/sklearn/linear_model/_logistic.py:940: ConvergenceWarning: lbfgs failed to converge (status=1):\n",
            "STOP: TOTAL NO. of ITERATIONS REACHED LIMIT.\n",
            "\n",
            "Increase the number of iterations (max_iter) or scale the data as shown in:\n",
            "    https://scikit-learn.org/stable/modules/preprocessing.html\n",
            "Please also refer to the documentation for alternative solver options:\n",
            "    https://scikit-learn.org/stable/modules/linear_model.html#logistic-regression\n",
            "  extra_warning_msg=_LOGISTIC_SOLVER_CONVERGENCE_MSG)\n",
            "/usr/local/lib/python3.7/dist-packages/sklearn/linear_model/_logistic.py:940: ConvergenceWarning: lbfgs failed to converge (status=1):\n",
            "STOP: TOTAL NO. of ITERATIONS REACHED LIMIT.\n",
            "\n",
            "Increase the number of iterations (max_iter) or scale the data as shown in:\n",
            "    https://scikit-learn.org/stable/modules/preprocessing.html\n",
            "Please also refer to the documentation for alternative solver options:\n",
            "    https://scikit-learn.org/stable/modules/linear_model.html#logistic-regression\n",
            "  extra_warning_msg=_LOGISTIC_SOLVER_CONVERGENCE_MSG)\n",
            "/usr/local/lib/python3.7/dist-packages/sklearn/linear_model/_logistic.py:940: ConvergenceWarning: lbfgs failed to converge (status=1):\n",
            "STOP: TOTAL NO. of ITERATIONS REACHED LIMIT.\n",
            "\n",
            "Increase the number of iterations (max_iter) or scale the data as shown in:\n",
            "    https://scikit-learn.org/stable/modules/preprocessing.html\n",
            "Please also refer to the documentation for alternative solver options:\n",
            "    https://scikit-learn.org/stable/modules/linear_model.html#logistic-regression\n",
            "  extra_warning_msg=_LOGISTIC_SOLVER_CONVERGENCE_MSG)\n",
            "/usr/local/lib/python3.7/dist-packages/sklearn/linear_model/_logistic.py:940: ConvergenceWarning: lbfgs failed to converge (status=1):\n",
            "STOP: TOTAL NO. of ITERATIONS REACHED LIMIT.\n",
            "\n",
            "Increase the number of iterations (max_iter) or scale the data as shown in:\n",
            "    https://scikit-learn.org/stable/modules/preprocessing.html\n",
            "Please also refer to the documentation for alternative solver options:\n",
            "    https://scikit-learn.org/stable/modules/linear_model.html#logistic-regression\n",
            "  extra_warning_msg=_LOGISTIC_SOLVER_CONVERGENCE_MSG)\n",
            "/usr/local/lib/python3.7/dist-packages/sklearn/linear_model/_logistic.py:940: ConvergenceWarning: lbfgs failed to converge (status=1):\n",
            "STOP: TOTAL NO. of ITERATIONS REACHED LIMIT.\n",
            "\n",
            "Increase the number of iterations (max_iter) or scale the data as shown in:\n",
            "    https://scikit-learn.org/stable/modules/preprocessing.html\n",
            "Please also refer to the documentation for alternative solver options:\n",
            "    https://scikit-learn.org/stable/modules/linear_model.html#logistic-regression\n",
            "  extra_warning_msg=_LOGISTIC_SOLVER_CONVERGENCE_MSG)\n",
            "/usr/local/lib/python3.7/dist-packages/sklearn/linear_model/_logistic.py:940: ConvergenceWarning: lbfgs failed to converge (status=1):\n",
            "STOP: TOTAL NO. of ITERATIONS REACHED LIMIT.\n",
            "\n",
            "Increase the number of iterations (max_iter) or scale the data as shown in:\n",
            "    https://scikit-learn.org/stable/modules/preprocessing.html\n",
            "Please also refer to the documentation for alternative solver options:\n",
            "    https://scikit-learn.org/stable/modules/linear_model.html#logistic-regression\n",
            "  extra_warning_msg=_LOGISTIC_SOLVER_CONVERGENCE_MSG)\n",
            "/usr/local/lib/python3.7/dist-packages/sklearn/linear_model/_logistic.py:940: ConvergenceWarning: lbfgs failed to converge (status=1):\n",
            "STOP: TOTAL NO. of ITERATIONS REACHED LIMIT.\n",
            "\n",
            "Increase the number of iterations (max_iter) or scale the data as shown in:\n",
            "    https://scikit-learn.org/stable/modules/preprocessing.html\n",
            "Please also refer to the documentation for alternative solver options:\n",
            "    https://scikit-learn.org/stable/modules/linear_model.html#logistic-regression\n",
            "  extra_warning_msg=_LOGISTIC_SOLVER_CONVERGENCE_MSG)\n",
            "/usr/local/lib/python3.7/dist-packages/sklearn/linear_model/_logistic.py:940: ConvergenceWarning: lbfgs failed to converge (status=1):\n",
            "STOP: TOTAL NO. of ITERATIONS REACHED LIMIT.\n",
            "\n",
            "Increase the number of iterations (max_iter) or scale the data as shown in:\n",
            "    https://scikit-learn.org/stable/modules/preprocessing.html\n",
            "Please also refer to the documentation for alternative solver options:\n",
            "    https://scikit-learn.org/stable/modules/linear_model.html#logistic-regression\n",
            "  extra_warning_msg=_LOGISTIC_SOLVER_CONVERGENCE_MSG)\n",
            "/usr/local/lib/python3.7/dist-packages/sklearn/linear_model/_logistic.py:940: ConvergenceWarning: lbfgs failed to converge (status=1):\n",
            "STOP: TOTAL NO. of ITERATIONS REACHED LIMIT.\n",
            "\n",
            "Increase the number of iterations (max_iter) or scale the data as shown in:\n",
            "    https://scikit-learn.org/stable/modules/preprocessing.html\n",
            "Please also refer to the documentation for alternative solver options:\n",
            "    https://scikit-learn.org/stable/modules/linear_model.html#logistic-regression\n",
            "  extra_warning_msg=_LOGISTIC_SOLVER_CONVERGENCE_MSG)\n",
            "/usr/local/lib/python3.7/dist-packages/sklearn/linear_model/_logistic.py:940: ConvergenceWarning: lbfgs failed to converge (status=1):\n",
            "STOP: TOTAL NO. of ITERATIONS REACHED LIMIT.\n",
            "\n",
            "Increase the number of iterations (max_iter) or scale the data as shown in:\n",
            "    https://scikit-learn.org/stable/modules/preprocessing.html\n",
            "Please also refer to the documentation for alternative solver options:\n",
            "    https://scikit-learn.org/stable/modules/linear_model.html#logistic-regression\n",
            "  extra_warning_msg=_LOGISTIC_SOLVER_CONVERGENCE_MSG)\n",
            "/usr/local/lib/python3.7/dist-packages/sklearn/linear_model/_logistic.py:940: ConvergenceWarning: lbfgs failed to converge (status=1):\n",
            "STOP: TOTAL NO. of ITERATIONS REACHED LIMIT.\n",
            "\n",
            "Increase the number of iterations (max_iter) or scale the data as shown in:\n",
            "    https://scikit-learn.org/stable/modules/preprocessing.html\n",
            "Please also refer to the documentation for alternative solver options:\n",
            "    https://scikit-learn.org/stable/modules/linear_model.html#logistic-regression\n",
            "  extra_warning_msg=_LOGISTIC_SOLVER_CONVERGENCE_MSG)\n",
            "/usr/local/lib/python3.7/dist-packages/sklearn/linear_model/_logistic.py:940: ConvergenceWarning: lbfgs failed to converge (status=1):\n",
            "STOP: TOTAL NO. of ITERATIONS REACHED LIMIT.\n",
            "\n",
            "Increase the number of iterations (max_iter) or scale the data as shown in:\n",
            "    https://scikit-learn.org/stable/modules/preprocessing.html\n",
            "Please also refer to the documentation for alternative solver options:\n",
            "    https://scikit-learn.org/stable/modules/linear_model.html#logistic-regression\n",
            "  extra_warning_msg=_LOGISTIC_SOLVER_CONVERGENCE_MSG)\n",
            "/usr/local/lib/python3.7/dist-packages/sklearn/linear_model/_logistic.py:940: ConvergenceWarning: lbfgs failed to converge (status=1):\n",
            "STOP: TOTAL NO. of ITERATIONS REACHED LIMIT.\n",
            "\n",
            "Increase the number of iterations (max_iter) or scale the data as shown in:\n",
            "    https://scikit-learn.org/stable/modules/preprocessing.html\n",
            "Please also refer to the documentation for alternative solver options:\n",
            "    https://scikit-learn.org/stable/modules/linear_model.html#logistic-regression\n",
            "  extra_warning_msg=_LOGISTIC_SOLVER_CONVERGENCE_MSG)\n",
            "/usr/local/lib/python3.7/dist-packages/sklearn/linear_model/_logistic.py:940: ConvergenceWarning: lbfgs failed to converge (status=1):\n",
            "STOP: TOTAL NO. of ITERATIONS REACHED LIMIT.\n",
            "\n",
            "Increase the number of iterations (max_iter) or scale the data as shown in:\n",
            "    https://scikit-learn.org/stable/modules/preprocessing.html\n",
            "Please also refer to the documentation for alternative solver options:\n",
            "    https://scikit-learn.org/stable/modules/linear_model.html#logistic-regression\n",
            "  extra_warning_msg=_LOGISTIC_SOLVER_CONVERGENCE_MSG)\n",
            "/usr/local/lib/python3.7/dist-packages/sklearn/linear_model/_logistic.py:940: ConvergenceWarning: lbfgs failed to converge (status=1):\n",
            "STOP: TOTAL NO. of ITERATIONS REACHED LIMIT.\n",
            "\n",
            "Increase the number of iterations (max_iter) or scale the data as shown in:\n",
            "    https://scikit-learn.org/stable/modules/preprocessing.html\n",
            "Please also refer to the documentation for alternative solver options:\n",
            "    https://scikit-learn.org/stable/modules/linear_model.html#logistic-regression\n",
            "  extra_warning_msg=_LOGISTIC_SOLVER_CONVERGENCE_MSG)\n",
            "/usr/local/lib/python3.7/dist-packages/sklearn/linear_model/_logistic.py:940: ConvergenceWarning: lbfgs failed to converge (status=1):\n",
            "STOP: TOTAL NO. of ITERATIONS REACHED LIMIT.\n",
            "\n",
            "Increase the number of iterations (max_iter) or scale the data as shown in:\n",
            "    https://scikit-learn.org/stable/modules/preprocessing.html\n",
            "Please also refer to the documentation for alternative solver options:\n",
            "    https://scikit-learn.org/stable/modules/linear_model.html#logistic-regression\n",
            "  extra_warning_msg=_LOGISTIC_SOLVER_CONVERGENCE_MSG)\n",
            "/usr/local/lib/python3.7/dist-packages/sklearn/linear_model/_logistic.py:940: ConvergenceWarning: lbfgs failed to converge (status=1):\n",
            "STOP: TOTAL NO. of ITERATIONS REACHED LIMIT.\n",
            "\n",
            "Increase the number of iterations (max_iter) or scale the data as shown in:\n",
            "    https://scikit-learn.org/stable/modules/preprocessing.html\n",
            "Please also refer to the documentation for alternative solver options:\n",
            "    https://scikit-learn.org/stable/modules/linear_model.html#logistic-regression\n",
            "  extra_warning_msg=_LOGISTIC_SOLVER_CONVERGENCE_MSG)\n",
            "/usr/local/lib/python3.7/dist-packages/sklearn/linear_model/_logistic.py:940: ConvergenceWarning: lbfgs failed to converge (status=1):\n",
            "STOP: TOTAL NO. of ITERATIONS REACHED LIMIT.\n",
            "\n",
            "Increase the number of iterations (max_iter) or scale the data as shown in:\n",
            "    https://scikit-learn.org/stable/modules/preprocessing.html\n",
            "Please also refer to the documentation for alternative solver options:\n",
            "    https://scikit-learn.org/stable/modules/linear_model.html#logistic-regression\n",
            "  extra_warning_msg=_LOGISTIC_SOLVER_CONVERGENCE_MSG)\n",
            "/usr/local/lib/python3.7/dist-packages/sklearn/linear_model/_logistic.py:940: ConvergenceWarning: lbfgs failed to converge (status=1):\n",
            "STOP: TOTAL NO. of ITERATIONS REACHED LIMIT.\n",
            "\n",
            "Increase the number of iterations (max_iter) or scale the data as shown in:\n",
            "    https://scikit-learn.org/stable/modules/preprocessing.html\n",
            "Please also refer to the documentation for alternative solver options:\n",
            "    https://scikit-learn.org/stable/modules/linear_model.html#logistic-regression\n",
            "  extra_warning_msg=_LOGISTIC_SOLVER_CONVERGENCE_MSG)\n",
            "/usr/local/lib/python3.7/dist-packages/sklearn/linear_model/_logistic.py:940: ConvergenceWarning: lbfgs failed to converge (status=1):\n",
            "STOP: TOTAL NO. of ITERATIONS REACHED LIMIT.\n",
            "\n",
            "Increase the number of iterations (max_iter) or scale the data as shown in:\n",
            "    https://scikit-learn.org/stable/modules/preprocessing.html\n",
            "Please also refer to the documentation for alternative solver options:\n",
            "    https://scikit-learn.org/stable/modules/linear_model.html#logistic-regression\n",
            "  extra_warning_msg=_LOGISTIC_SOLVER_CONVERGENCE_MSG)\n",
            "/usr/local/lib/python3.7/dist-packages/sklearn/linear_model/_logistic.py:940: ConvergenceWarning: lbfgs failed to converge (status=1):\n",
            "STOP: TOTAL NO. of ITERATIONS REACHED LIMIT.\n",
            "\n",
            "Increase the number of iterations (max_iter) or scale the data as shown in:\n",
            "    https://scikit-learn.org/stable/modules/preprocessing.html\n",
            "Please also refer to the documentation for alternative solver options:\n",
            "    https://scikit-learn.org/stable/modules/linear_model.html#logistic-regression\n",
            "  extra_warning_msg=_LOGISTIC_SOLVER_CONVERGENCE_MSG)\n",
            "/usr/local/lib/python3.7/dist-packages/sklearn/linear_model/_logistic.py:940: ConvergenceWarning: lbfgs failed to converge (status=1):\n",
            "STOP: TOTAL NO. of ITERATIONS REACHED LIMIT.\n",
            "\n",
            "Increase the number of iterations (max_iter) or scale the data as shown in:\n",
            "    https://scikit-learn.org/stable/modules/preprocessing.html\n",
            "Please also refer to the documentation for alternative solver options:\n",
            "    https://scikit-learn.org/stable/modules/linear_model.html#logistic-regression\n",
            "  extra_warning_msg=_LOGISTIC_SOLVER_CONVERGENCE_MSG)\n",
            "/usr/local/lib/python3.7/dist-packages/sklearn/linear_model/_logistic.py:940: ConvergenceWarning: lbfgs failed to converge (status=1):\n",
            "STOP: TOTAL NO. of ITERATIONS REACHED LIMIT.\n",
            "\n",
            "Increase the number of iterations (max_iter) or scale the data as shown in:\n",
            "    https://scikit-learn.org/stable/modules/preprocessing.html\n",
            "Please also refer to the documentation for alternative solver options:\n",
            "    https://scikit-learn.org/stable/modules/linear_model.html#logistic-regression\n",
            "  extra_warning_msg=_LOGISTIC_SOLVER_CONVERGENCE_MSG)\n",
            "/usr/local/lib/python3.7/dist-packages/sklearn/linear_model/_logistic.py:940: ConvergenceWarning: lbfgs failed to converge (status=1):\n",
            "STOP: TOTAL NO. of ITERATIONS REACHED LIMIT.\n",
            "\n",
            "Increase the number of iterations (max_iter) or scale the data as shown in:\n",
            "    https://scikit-learn.org/stable/modules/preprocessing.html\n",
            "Please also refer to the documentation for alternative solver options:\n",
            "    https://scikit-learn.org/stable/modules/linear_model.html#logistic-regression\n",
            "  extra_warning_msg=_LOGISTIC_SOLVER_CONVERGENCE_MSG)\n",
            "/usr/local/lib/python3.7/dist-packages/sklearn/linear_model/_logistic.py:940: ConvergenceWarning: lbfgs failed to converge (status=1):\n",
            "STOP: TOTAL NO. of ITERATIONS REACHED LIMIT.\n",
            "\n",
            "Increase the number of iterations (max_iter) or scale the data as shown in:\n",
            "    https://scikit-learn.org/stable/modules/preprocessing.html\n",
            "Please also refer to the documentation for alternative solver options:\n",
            "    https://scikit-learn.org/stable/modules/linear_model.html#logistic-regression\n",
            "  extra_warning_msg=_LOGISTIC_SOLVER_CONVERGENCE_MSG)\n",
            "/usr/local/lib/python3.7/dist-packages/sklearn/linear_model/_logistic.py:940: ConvergenceWarning: lbfgs failed to converge (status=1):\n",
            "STOP: TOTAL NO. of ITERATIONS REACHED LIMIT.\n",
            "\n",
            "Increase the number of iterations (max_iter) or scale the data as shown in:\n",
            "    https://scikit-learn.org/stable/modules/preprocessing.html\n",
            "Please also refer to the documentation for alternative solver options:\n",
            "    https://scikit-learn.org/stable/modules/linear_model.html#logistic-regression\n",
            "  extra_warning_msg=_LOGISTIC_SOLVER_CONVERGENCE_MSG)\n",
            "/usr/local/lib/python3.7/dist-packages/sklearn/linear_model/_logistic.py:940: ConvergenceWarning: lbfgs failed to converge (status=1):\n",
            "STOP: TOTAL NO. of ITERATIONS REACHED LIMIT.\n",
            "\n",
            "Increase the number of iterations (max_iter) or scale the data as shown in:\n",
            "    https://scikit-learn.org/stable/modules/preprocessing.html\n",
            "Please also refer to the documentation for alternative solver options:\n",
            "    https://scikit-learn.org/stable/modules/linear_model.html#logistic-regression\n",
            "  extra_warning_msg=_LOGISTIC_SOLVER_CONVERGENCE_MSG)\n",
            "/usr/local/lib/python3.7/dist-packages/sklearn/linear_model/_logistic.py:940: ConvergenceWarning: lbfgs failed to converge (status=1):\n",
            "STOP: TOTAL NO. of ITERATIONS REACHED LIMIT.\n",
            "\n",
            "Increase the number of iterations (max_iter) or scale the data as shown in:\n",
            "    https://scikit-learn.org/stable/modules/preprocessing.html\n",
            "Please also refer to the documentation for alternative solver options:\n",
            "    https://scikit-learn.org/stable/modules/linear_model.html#logistic-regression\n",
            "  extra_warning_msg=_LOGISTIC_SOLVER_CONVERGENCE_MSG)\n",
            "/usr/local/lib/python3.7/dist-packages/sklearn/linear_model/_logistic.py:940: ConvergenceWarning: lbfgs failed to converge (status=1):\n",
            "STOP: TOTAL NO. of ITERATIONS REACHED LIMIT.\n",
            "\n",
            "Increase the number of iterations (max_iter) or scale the data as shown in:\n",
            "    https://scikit-learn.org/stable/modules/preprocessing.html\n",
            "Please also refer to the documentation for alternative solver options:\n",
            "    https://scikit-learn.org/stable/modules/linear_model.html#logistic-regression\n",
            "  extra_warning_msg=_LOGISTIC_SOLVER_CONVERGENCE_MSG)\n",
            "/usr/local/lib/python3.7/dist-packages/sklearn/linear_model/_logistic.py:940: ConvergenceWarning: lbfgs failed to converge (status=1):\n",
            "STOP: TOTAL NO. of ITERATIONS REACHED LIMIT.\n",
            "\n",
            "Increase the number of iterations (max_iter) or scale the data as shown in:\n",
            "    https://scikit-learn.org/stable/modules/preprocessing.html\n",
            "Please also refer to the documentation for alternative solver options:\n",
            "    https://scikit-learn.org/stable/modules/linear_model.html#logistic-regression\n",
            "  extra_warning_msg=_LOGISTIC_SOLVER_CONVERGENCE_MSG)\n",
            "/usr/local/lib/python3.7/dist-packages/sklearn/linear_model/_logistic.py:940: ConvergenceWarning: lbfgs failed to converge (status=1):\n",
            "STOP: TOTAL NO. of ITERATIONS REACHED LIMIT.\n",
            "\n",
            "Increase the number of iterations (max_iter) or scale the data as shown in:\n",
            "    https://scikit-learn.org/stable/modules/preprocessing.html\n",
            "Please also refer to the documentation for alternative solver options:\n",
            "    https://scikit-learn.org/stable/modules/linear_model.html#logistic-regression\n",
            "  extra_warning_msg=_LOGISTIC_SOLVER_CONVERGENCE_MSG)\n"
          ]
        },
        {
          "output_type": "stream",
          "name": "stdout",
          "text": [
            "{'logreg__C': 0.01}\n"
          ]
        },
        {
          "output_type": "execute_result",
          "data": {
            "text/plain": [
              "0.7778681855166802"
            ]
          },
          "metadata": {},
          "execution_count": 181
        }
      ]
    },
    {
      "cell_type": "code",
      "metadata": {
        "colab": {
          "base_uri": "https://localhost:8080/"
        },
        "id": "BTAEoeifZN5L",
        "outputId": "7812b536-8f71-4af9-c3d1-a2ea2015fa07"
      },
      "source": [
        "answers = bestlogreg.predict(X_test_tfidf)\n",
        "y_true = y_test_tfidf\n",
        "y_pred = answers\n",
        "f1_score(y_true, y_pred, average='micro')"
      ],
      "execution_count": 183,
      "outputs": [
        {
          "output_type": "execute_result",
          "data": {
            "text/plain": [
              "0.5694613909708907"
            ]
          },
          "metadata": {},
          "execution_count": 183
        }
      ]
    },
    {
      "cell_type": "code",
      "metadata": {
        "colab": {
          "base_uri": "https://localhost:8080/",
          "height": 281
        },
        "id": "AgBsk4fTZaJo",
        "outputId": "129f57a8-8879-4f5d-da1b-65a0a7a6977c"
      },
      "source": [
        "cm = confusion_matrix(y_true, y_pred)\n",
        "sns.heatmap(data=confusion_matrix(y_true, y_pred), annot=True, fmt=\"d\", cbar=False, xticklabels=[1,2,3,4,5], yticklabels=[1,2,3,4,5])\n",
        "plt.title(\"Confusion matrix\")\n",
        "plt.show()"
      ],
      "execution_count": 184,
      "outputs": [
        {
          "output_type": "display_data",
          "data": {
            "image/png": "[encoded data removed]",
            "text/plain": [
              "<Figure size 432x288 with 1 Axes>"
            ]
          },
          "metadata": {
            "needs_background": "light"
          }
        }
      ]
    },
    {
      "cell_type": "markdown",
      "metadata": {
        "id": "qG-yPdF3ZjWA"
      },
      "source": [
        "Ф-мера чуть меньше, чем у обычной логрег без подачи параметров..."
      ]
    },
    {
      "cell_type": "markdown",
      "metadata": {
        "id": "jal_lrbOaQFC"
      },
      "source": [
        "Для градиентного бустинга"
      ]
    },
    {
      "cell_type": "code",
      "metadata": {
        "colab": {
          "base_uri": "https://localhost:8080/"
        },
        "id": "btz4ycDQZ7aM",
        "outputId": "3456fc0e-6c4d-4c70-f326-23f358304809"
      },
      "source": [
        "parameters = {\n",
        "    \"learning_rate\": [0.01, 0.1, 2.0],\n",
        "    \"n_estimators\":[200, 300]\n",
        "    }\n",
        "\n",
        "clf = GridSearchCV(GradientBoostingClassifier(), parameters, cv=10, n_jobs=-1)\n",
        "\n",
        "clf.fit(X_train_tfidf, y_train_tfidf)\n",
        "print(clf.score(X_train_tfidf, y_train_tfidf))\n",
        "print(clf.best_params_)"
      ],
      "execution_count": 185,
      "outputs": [
        {
          "output_type": "stream",
          "name": "stdout",
          "text": [
            "0.8112286411716843\n",
            "{'learning_rate': 0.1, 'n_estimators': 300}\n"
          ]
        }
      ]
    },
    {
      "cell_type": "code",
      "metadata": {
        "colab": {
          "base_uri": "https://localhost:8080/"
        },
        "id": "FXwlqkcMagbC",
        "outputId": "0ae27e72-2b5c-436a-b8f3-92b15986dd0c"
      },
      "source": [
        "clf = GradientBoostingClassifier(n_estimators=300, learning_rate=0.1, random_state=42).fit(X_train_tfidf, y_train_tfidf)\n",
        "answers = clf.predict(X_test_tfidf)\n",
        "y_true = y_test_tfidf\n",
        "y_pred = answers\n",
        "f1_score(y_true, y_pred, average='micro')"
      ],
      "execution_count": 186,
      "outputs": [
        {
          "output_type": "execute_result",
          "data": {
            "text/plain": [
              "0.5769565975248387"
            ]
          },
          "metadata": {},
          "execution_count": 186
        }
      ]
    },
    {
      "cell_type": "code",
      "metadata": {
        "colab": {
          "base_uri": "https://localhost:8080/",
          "height": 281
        },
        "id": "4DG4rW6IazQY",
        "outputId": "e4a50af7-f106-46c3-b78e-17f523e359a7"
      },
      "source": [
        "cm = confusion_matrix(y_true, y_pred)\n",
        "sns.heatmap(data=confusion_matrix(y_true, y_pred), annot=True, fmt=\"d\", cbar=False, xticklabels=[1,2,3,4,5], yticklabels=[1,2,3,4,5])\n",
        "plt.title(\"Confusion matrix\")\n",
        "plt.show()"
      ],
      "execution_count": 187,
      "outputs": [
        {
          "output_type": "display_data",
          "data": {
            "image/png": "[encoded data removed]",
            "text/plain": [
              "<Figure size 432x288 with 1 Axes>"
            ]
          },
          "metadata": {
            "needs_background": "light"
          }
        }
      ]
    },
    {
      "cell_type": "markdown",
      "metadata": {
        "id": "McbryJhHa9Hv"
      },
      "source": [
        "Вывод: все равно лучше всего справилась обычная логистическая регрессия без параметров, но градиентному бустингу помог подбор параметров по гридсерчу\n",
        "\n",
        "Все равно лучше всего выделяются отзывы на 5, еще выделяются отзывы на 1. Видимо, все, кроме отзывов на 1, примерно одинаковые по сентимент анализу, и их сложно отделить простыми методами. (когда пишут worst, понятно, что все плохо, а когда описывают какие-то проблемы, нужно что-то более мудрое, чем bow или tfidf vectorizer)"
      ]
    }
  ]
}