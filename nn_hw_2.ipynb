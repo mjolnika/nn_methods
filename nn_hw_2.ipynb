{
  "nbformat": 4,
  "nbformat_minor": 0,
  "metadata": {
    "colab": {
      "name": "nn-hw-2",
      "provenance": [],
      "collapsed_sections": [],
      "authorship_tag": "ABX9TyNLHw44jLyHMFwl4X5tMzWT"
    },
    "kernelspec": {
      "name": "python3",
      "display_name": "Python 3"
    },
    "language_info": {
      "name": "python"
    }
  },
  "cells": [
    {
      "cell_type": "markdown",
      "source": [
        "Настя Панасюк"
      ],
      "metadata": {
        "id": "ygPsCOpEhqH7"
      }
    },
    {
      "cell_type": "code",
      "execution_count": null,
      "metadata": {
        "colab": {
          "base_uri": "https://localhost:8080/"
        },
        "id": "JUHyOJfhhnAM",
        "outputId": "5c5f567e-4a51-422f-f5fe-c22896f28efa"
      },
      "outputs": [
        {
          "output_type": "stream",
          "name": "stdout",
          "text": [
            "Downloading...\n",
            "From: https://drive.google.com/uc?id=1L6ivCo7-18i_fu8bGy091MHEqMS2hMXY\n",
            "To: /content/positive.csv\n",
            "100% 26.2M/26.2M [00:00<00:00, 96.4MB/s]\n",
            "Downloading...\n",
            "From: https://drive.google.com/uc?id=15gosW2-sW7Gc5s5cBKWPbXypJxJMiOud\n",
            "To: /content/negative.csv\n",
            "100% 24.5M/24.5M [00:00<00:00, 112MB/s] \n"
          ]
        }
      ],
      "source": [
        "!gdown https://drive.google.com/uc?id=1L6ivCo7-18i_fu8bGy091MHEqMS2hMXY\n",
        "!gdown https://drive.google.com/uc?id=15gosW2-sW7Gc5s5cBKWPbXypJxJMiOud"
      ]
    },
    {
      "cell_type": "markdown",
      "source": [
        "I. CNN на уровне слов: модель берет слова, пропускает их через Embedding слой. По эмбеддингам проходит CNN c фильтрами с разным окном, полученные результаты конкатенируются друг с другом по глубине, по результату конкатенации еще один сверточный слой, далее max pooling over time, на выходе линейный слой + сигмоида, функция потерь BCELoss. (модель аналогична тому, что мы делали на паре по сверткам, но на уровне слов, а не символов)"
      ],
      "metadata": {
        "id": "Chjf3vi2j7g8"
      }
    },
    {
      "cell_type": "code",
      "source": [
        "import torch\n",
        "import torch.nn as nn\n",
        "import torch.nn.functional as F\n",
        "from torch.utils.data import Dataset, DataLoader, RandomSampler, SequentialSampler\n",
        "from torch.nn.utils.rnn import pad_sequence\n",
        "import torch.optim as optim\n",
        "!pip install torchmetrics\n",
        "from torchmetrics import F1\n",
        "from torchmetrics.functional import f1, recall\n",
        "\n",
        "import pandas as pd\n",
        "#import numpy as np\n",
        "from string import punctuation\n",
        "from collections import Counter\n",
        "import re\n",
        "import nltk\n",
        "from nltk.tokenize import RegexpTokenizer\n",
        "\n",
        "from sklearn.model_selection import train_test_split\n",
        "from sklearn.utils import shuffle\n",
        "\n",
        "import nltk\n",
        "from nltk.corpus import stopwords\n",
        "from nltk.tokenize import RegexpTokenizer\n",
        "\n",
        "!pip install pymorphy2 \n",
        "\n",
        "from pymorphy2 import MorphAnalyzer\n",
        "\n",
        "tokenizer = RegexpTokenizer(r'[\\w-]+')\n",
        "morph = MorphAnalyzer()"
      ],
      "metadata": {
        "id": "jEGR7kQtlONg",
        "colab": {
          "base_uri": "https://localhost:8080/"
        },
        "outputId": "82d9ca5a-17fd-46c8-b64b-82c31ee9409c"
      },
      "execution_count": 30,
      "outputs": [
        {
          "output_type": "stream",
          "name": "stdout",
          "text": [
            "Collecting torchmetrics\n",
            "  Downloading torchmetrics-0.6.1-py3-none-any.whl (332 kB)\n",
            "\u001b[?25l\r\u001b[K     |█                               | 10 kB 25.7 MB/s eta 0:00:01\r\u001b[K     |██                              | 20 kB 34.1 MB/s eta 0:00:01\r\u001b[K     |███                             | 30 kB 32.7 MB/s eta 0:00:01\r\u001b[K     |████                            | 40 kB 21.1 MB/s eta 0:00:01\r\u001b[K     |█████                           | 51 kB 19.0 MB/s eta 0:00:01\r\u001b[K     |██████                          | 61 kB 14.3 MB/s eta 0:00:01\r\u001b[K     |███████                         | 71 kB 13.6 MB/s eta 0:00:01\r\u001b[K     |███████▉                        | 81 kB 14.5 MB/s eta 0:00:01\r\u001b[K     |████████▉                       | 92 kB 15.9 MB/s eta 0:00:01\r\u001b[K     |█████████▉                      | 102 kB 12.0 MB/s eta 0:00:01\r\u001b[K     |██████████▉                     | 112 kB 12.0 MB/s eta 0:00:01\r\u001b[K     |███████████▉                    | 122 kB 12.0 MB/s eta 0:00:01\r\u001b[K     |████████████▉                   | 133 kB 12.0 MB/s eta 0:00:01\r\u001b[K     |█████████████▉                  | 143 kB 12.0 MB/s eta 0:00:01\r\u001b[K     |██████████████▉                 | 153 kB 12.0 MB/s eta 0:00:01\r\u001b[K     |███████████████▊                | 163 kB 12.0 MB/s eta 0:00:01\r\u001b[K     |████████████████▊               | 174 kB 12.0 MB/s eta 0:00:01\r\u001b[K     |█████████████████▊              | 184 kB 12.0 MB/s eta 0:00:01\r\u001b[K     |██████████████████▊             | 194 kB 12.0 MB/s eta 0:00:01\r\u001b[K     |███████████████████▊            | 204 kB 12.0 MB/s eta 0:00:01\r\u001b[K     |████████████████████▊           | 215 kB 12.0 MB/s eta 0:00:01\r\u001b[K     |█████████████████████▊          | 225 kB 12.0 MB/s eta 0:00:01\r\u001b[K     |██████████████████████▊         | 235 kB 12.0 MB/s eta 0:00:01\r\u001b[K     |███████████████████████▋        | 245 kB 12.0 MB/s eta 0:00:01\r\u001b[K     |████████████████████████▋       | 256 kB 12.0 MB/s eta 0:00:01\r\u001b[K     |█████████████████████████▋      | 266 kB 12.0 MB/s eta 0:00:01\r\u001b[K     |██████████████████████████▋     | 276 kB 12.0 MB/s eta 0:00:01\r\u001b[K     |███████████████████████████▋    | 286 kB 12.0 MB/s eta 0:00:01\r\u001b[K     |████████████████████████████▋   | 296 kB 12.0 MB/s eta 0:00:01\r\u001b[K     |█████████████████████████████▋  | 307 kB 12.0 MB/s eta 0:00:01\r\u001b[K     |██████████████████████████████▌ | 317 kB 12.0 MB/s eta 0:00:01\r\u001b[K     |███████████████████████████████▌| 327 kB 12.0 MB/s eta 0:00:01\r\u001b[K     |████████████████████████████████| 332 kB 12.0 MB/s \n",
            "\u001b[?25hRequirement already satisfied: packaging in /usr/local/lib/python3.7/dist-packages (from torchmetrics) (21.3)\n",
            "Requirement already satisfied: numpy>=1.17.2 in /usr/local/lib/python3.7/dist-packages (from torchmetrics) (1.19.5)\n",
            "Requirement already satisfied: torch>=1.3.1 in /usr/local/lib/python3.7/dist-packages (from torchmetrics) (1.10.0+cu111)\n",
            "Requirement already satisfied: typing-extensions in /usr/local/lib/python3.7/dist-packages (from torch>=1.3.1->torchmetrics) (3.10.0.2)\n",
            "Requirement already satisfied: pyparsing!=3.0.5,>=2.0.2 in /usr/local/lib/python3.7/dist-packages (from packaging->torchmetrics) (3.0.6)\n",
            "Installing collected packages: torchmetrics\n",
            "Successfully installed torchmetrics-0.6.1\n",
            "Requirement already satisfied: pymorphy2 in /usr/local/lib/python3.7/dist-packages (0.9.1)\n",
            "Requirement already satisfied: docopt>=0.6 in /usr/local/lib/python3.7/dist-packages (from pymorphy2) (0.6.2)\n",
            "Requirement already satisfied: pymorphy2-dicts-ru<3.0,>=2.4 in /usr/local/lib/python3.7/dist-packages (from pymorphy2) (2.4.417127.4579844)\n",
            "Requirement already satisfied: dawg-python>=0.7.1 in /usr/local/lib/python3.7/dist-packages (from pymorphy2) (0.7.2)\n"
          ]
        }
      ]
    },
    {
      "cell_type": "code",
      "source": [
        "positive = pd.read_csv('positive.csv', sep=';', names=['id', 'tdate', 'tname', 'ttext', 'ttype', 'trep', 'trtw',\n",
        "        'tfav', 'tstcount', 'tfol', 'tfrien', 'listcount'])\n",
        "negative = pd.read_csv('negative.csv', sep=';', names=['id', 'tdate', 'tname', 'ttext', 'ttype', 'trep', 'trtw',\n",
        "        'tfav', 'tstcount', 'tfol', 'tfrien', 'listcount'])\n",
        "corpus = pd.concat([positive, negative])\n",
        "corpus = corpus[['ttext', 'ttype']].drop_duplicates()\n",
        "corpus['ttype'] = (corpus['ttype'] > 0).astype(int)\n",
        "len(corpus)"
      ],
      "metadata": {
        "id": "hP_yveNMkhHo",
        "colab": {
          "base_uri": "https://localhost:8080/"
        },
        "outputId": "de441602-4df8-49dc-f6b7-4c43c5087737"
      },
      "execution_count": 75,
      "outputs": [
        {
          "output_type": "execute_result",
          "data": {
            "text/plain": [
              "217440"
            ]
          },
          "metadata": {},
          "execution_count": 75
        }
      ]
    },
    {
      "cell_type": "code",
      "source": [
        "pd.set_option('display.max_colwidth', None)\n",
        "corpus.tail(5)"
      ],
      "metadata": {
        "colab": {
          "base_uri": "https://localhost:8080/",
          "height": 206
        },
        "id": "Bi0xk8PamPKg",
        "outputId": "f1cb1138-a4cf-4e0f-f3a0-76da2d670dd1"
      },
      "execution_count": 76,
      "outputs": [
        {
          "output_type": "execute_result",
          "data": {
            "text/html": [
              "<div>\n",
              "<style scoped>\n",
              "    .dataframe tbody tr th:only-of-type {\n",
              "        vertical-align: middle;\n",
              "    }\n",
              "\n",
              "    .dataframe tbody tr th {\n",
              "        vertical-align: top;\n",
              "    }\n",
              "\n",
              "    .dataframe thead th {\n",
              "        text-align: right;\n",
              "    }\n",
              "</style>\n",
              "<table border=\"1\" class=\"dataframe\">\n",
              "  <thead>\n",
              "    <tr style=\"text-align: right;\">\n",
              "      <th></th>\n",
              "      <th>ttext</th>\n",
              "      <th>ttype</th>\n",
              "    </tr>\n",
              "  </thead>\n",
              "  <tbody>\n",
              "    <tr>\n",
              "      <th>111918</th>\n",
              "      <td>Но не каждый хочет что то исправлять:( http://t.co/QNODDQzuZ7</td>\n",
              "      <td>0</td>\n",
              "    </tr>\n",
              "    <tr>\n",
              "      <th>111919</th>\n",
              "      <td>скучаю так :-( только @taaannyaaa вправляет мозги, но я все равно скучаю</td>\n",
              "      <td>0</td>\n",
              "    </tr>\n",
              "    <tr>\n",
              "      <th>111920</th>\n",
              "      <td>Вот и в школу, в говно это идти уже надо(</td>\n",
              "      <td>0</td>\n",
              "    </tr>\n",
              "    <tr>\n",
              "      <th>111921</th>\n",
              "      <td>RT @_Them__: @LisaBeroud Тауриэль, не грусти :( *обнял*</td>\n",
              "      <td>0</td>\n",
              "    </tr>\n",
              "    <tr>\n",
              "      <th>111922</th>\n",
              "      <td>Такси везет меня на работу. Раздумываю приплатить, чтобы меня втащили на пятый этаж. Лифта то нет :(</td>\n",
              "      <td>0</td>\n",
              "    </tr>\n",
              "  </tbody>\n",
              "</table>\n",
              "</div>"
            ],
            "text/plain": [
              "                                                                                                       ttext  ttype\n",
              "111918                                         Но не каждый хочет что то исправлять:( http://t.co/QNODDQzuZ7      0\n",
              "111919                              скучаю так :-( только @taaannyaaa вправляет мозги, но я все равно скучаю      0\n",
              "111920                                                             Вот и в школу, в говно это идти уже надо(      0\n",
              "111921                                               RT @_Them__: @LisaBeroud Тауриэль, не грусти :( *обнял*      0\n",
              "111922  Такси везет меня на работу. Раздумываю приплатить, чтобы меня втащили на пятый этаж. Лифта то нет :(      0"
            ]
          },
          "metadata": {},
          "execution_count": 76
        }
      ]
    },
    {
      "cell_type": "code",
      "source": [
        "def tokenize(line):\n",
        "  line = re.sub('RT[^:]+:', 'USER', line)\n",
        "  line = re.sub('https?[^ ]+', 'LINK', line)\n",
        "  tokens = tokenizer.tokenize(line)\n",
        "  tokens = [token.lower() for token in tokens if re.search('[A-zА-яЁё]', token)]\n",
        "  preprocessed_line = ' '.join(tokens)\n",
        "  return preprocessed_line \n",
        "\n",
        "\n",
        "corpus['text'] = corpus['ttext'].apply(lambda x: tokenize(x))\n",
        "corpus['tokens'] = corpus['text'].apply(lambda x: x.split(' '))"
      ],
      "metadata": {
        "id": "uZ-SLFhKS4qW"
      },
      "execution_count": 101,
      "outputs": []
    },
    {
      "cell_type": "code",
      "source": [
        "corpus.head(5)"
      ],
      "metadata": {
        "colab": {
          "base_uri": "https://localhost:8080/",
          "height": 327
        },
        "id": "ILexEn3TXXC5",
        "outputId": "7340339c-787b-4ec2-d662-bcb2ebb33cd9"
      },
      "execution_count": 102,
      "outputs": [
        {
          "output_type": "execute_result",
          "data": {
            "text/html": [
              "<div>\n",
              "<style scoped>\n",
              "    .dataframe tbody tr th:only-of-type {\n",
              "        vertical-align: middle;\n",
              "    }\n",
              "\n",
              "    .dataframe tbody tr th {\n",
              "        vertical-align: top;\n",
              "    }\n",
              "\n",
              "    .dataframe thead th {\n",
              "        text-align: right;\n",
              "    }\n",
              "</style>\n",
              "<table border=\"1\" class=\"dataframe\">\n",
              "  <thead>\n",
              "    <tr style=\"text-align: right;\">\n",
              "      <th></th>\n",
              "      <th>ttext</th>\n",
              "      <th>ttype</th>\n",
              "      <th>text</th>\n",
              "      <th>tokens</th>\n",
              "    </tr>\n",
              "  </thead>\n",
              "  <tbody>\n",
              "    <tr>\n",
              "      <th>0</th>\n",
              "      <td>@first_timee хоть я и школота, но поверь, у нас то же самое :D общество профилирующий предмет типа)</td>\n",
              "      <td>1</td>\n",
              "      <td>first_timee хоть я и школота но поверь у нас то же самое d общество профилирующий предмет типа</td>\n",
              "      <td>[first_timee, хоть, я, и, школота, но, поверь, у, нас, то, же, самое, d, общество, профилирующий, предмет, типа]</td>\n",
              "    </tr>\n",
              "    <tr>\n",
              "      <th>1</th>\n",
              "      <td>Да, все-таки он немного похож на него. Но мой мальчик все равно лучше:D</td>\n",
              "      <td>1</td>\n",
              "      <td>да все-таки он немного похож на него но мой мальчик все равно лучше d</td>\n",
              "      <td>[да, все-таки, он, немного, похож, на, него, но, мой, мальчик, все, равно, лучше, d]</td>\n",
              "    </tr>\n",
              "    <tr>\n",
              "      <th>2</th>\n",
              "      <td>RT @KatiaCheh: Ну ты идиотка) я испугалась за тебя!!!</td>\n",
              "      <td>1</td>\n",
              "      <td>user ну ты идиотка я испугалась за тебя</td>\n",
              "      <td>[user, ну, ты, идиотка, я, испугалась, за, тебя]</td>\n",
              "    </tr>\n",
              "    <tr>\n",
              "      <th>3</th>\n",
              "      <td>RT @digger2912: \"Кто то в углу сидит и погибает от голода, а мы ещё 2 порции взяли, хотя уже и так жрать не хотим\" :DD http://t.co/GqG6iuE2…</td>\n",
              "      <td>1</td>\n",
              "      <td>user кто то в углу сидит и погибает от голода а мы ещё порции взяли хотя уже и так жрать не хотим dd link</td>\n",
              "      <td>[user, кто, то, в, углу, сидит, и, погибает, от, голода, а, мы, ещё, порции, взяли, хотя, уже, и, так, жрать, не, хотим, dd, link]</td>\n",
              "    </tr>\n",
              "    <tr>\n",
              "      <th>4</th>\n",
              "      <td>@irina_dyshkant Вот что значит страшилка :D\\nНо блин,посмотрев все части,у тебя создастся ощущение,что авторы курили что-то :D</td>\n",
              "      <td>1</td>\n",
              "      <td>irina_dyshkant вот что значит страшилка d но блин посмотрев все части у тебя создастся ощущение что авторы курили что-то d</td>\n",
              "      <td>[irina_dyshkant, вот, что, значит, страшилка, d, но, блин, посмотрев, все, части, у, тебя, создастся, ощущение, что, авторы, курили, что-то, d]</td>\n",
              "    </tr>\n",
              "  </tbody>\n",
              "</table>\n",
              "</div>"
            ],
            "text/plain": [
              "                                                                                                                                          ttext  ...                                                                                                                                           tokens\n",
              "0                                           @first_timee хоть я и школота, но поверь, у нас то же самое :D общество профилирующий предмет типа)  ...                                 [first_timee, хоть, я, и, школота, но, поверь, у, нас, то, же, самое, d, общество, профилирующий, предмет, типа]\n",
              "1                                                                       Да, все-таки он немного похож на него. Но мой мальчик все равно лучше:D  ...                                                             [да, все-таки, он, немного, похож, на, него, но, мой, мальчик, все, равно, лучше, d]\n",
              "2                                                                                         RT @KatiaCheh: Ну ты идиотка) я испугалась за тебя!!!  ...                                                                                                 [user, ну, ты, идиотка, я, испугалась, за, тебя]\n",
              "3  RT @digger2912: \"Кто то в углу сидит и погибает от голода, а мы ещё 2 порции взяли, хотя уже и так жрать не хотим\" :DD http://t.co/GqG6iuE2…  ...               [user, кто, то, в, углу, сидит, и, погибает, от, голода, а, мы, ещё, порции, взяли, хотя, уже, и, так, жрать, не, хотим, dd, link]\n",
              "4                @irina_dyshkant Вот что значит страшилка :D\\nНо блин,посмотрев все части,у тебя создастся ощущение,что авторы курили что-то :D  ...  [irina_dyshkant, вот, что, значит, страшилка, d, но, блин, посмотрев, все, части, у, тебя, создастся, ощущение, что, авторы, курили, что-то, d]\n",
              "\n",
              "[5 rows x 4 columns]"
            ]
          },
          "metadata": {},
          "execution_count": 102
        }
      ]
    },
    {
      "cell_type": "code",
      "source": [
        "corpus_toks = []\n",
        "for sublist in corpus['text']:\n",
        "    sublist = sublist.split(' ')\n",
        "    for item in sublist:\n",
        "        corpus_toks.append(item)\n",
        "\n",
        "corpus_toks = Counter(corpus_toks)\n",
        "\n",
        "word2id = {'PAD':0}\n",
        "c = 0\n",
        "for k, length in corpus_toks.most_common():\n",
        "  c += 1\n",
        "  if length > 3:\n",
        "    word2id[k] = c\n",
        "\n",
        "len(word2id)"
      ],
      "metadata": {
        "id": "ajaJzoNRcVCV",
        "colab": {
          "base_uri": "https://localhost:8080/"
        },
        "outputId": "d3b83909-9fbe-422f-a641-fc8428500105"
      },
      "execution_count": 116,
      "outputs": [
        {
          "output_type": "execute_result",
          "data": {
            "text/plain": [
              "42629"
            ]
          },
          "metadata": {},
          "execution_count": 116
        }
      ]
    },
    {
      "cell_type": "code",
      "source": [
        "DEVICE = torch.device('cuda') if torch.cuda.is_available() else torch.device('cpu')\n",
        "DEVICE"
      ],
      "metadata": {
        "id": "WU0V8FfTlFd7",
        "colab": {
          "base_uri": "https://localhost:8080/"
        },
        "outputId": "f7f68282-bb1e-458f-d562-e71174b9fbaf"
      },
      "execution_count": 117,
      "outputs": [
        {
          "output_type": "execute_result",
          "data": {
            "text/plain": [
              "device(type='cpu')"
            ]
          },
          "metadata": {},
          "execution_count": 117
        }
      ]
    },
    {
      "cell_type": "code",
      "source": [
        "class TweetsDataset(Dataset):\n",
        "\n",
        "    def __init__(self, dataset, word2id, DEVICE):\n",
        "        self.dataset = dataset['tokens'].values\n",
        "        self.word2id = word2id\n",
        "        self.length = dataset.shape[0]\n",
        "        self.target = dataset['ttype'].values\n",
        "        self.device = DEVICE\n",
        "\n",
        "    def __len__(self): #это обязательный метод, он должен уметь считать длину датасета\n",
        "        return self.length\n",
        "\n",
        "    def __getitem__(self, index): #еще один обязательный метод. По индексу возвращает элемент выборки\n",
        "        tokens = self.dataset[index] # токенизируем\n",
        "        ids = torch.LongTensor([self.word2id[token] for token in tokens if token in self.word2id])\n",
        "        y = [self.target[index]]\n",
        "        return ids, y\n",
        "\n",
        "    def collate_fn(self, batch): #этот метод можно реализовывать и отдельно,\n",
        "    # он понадобится для DataLoader во время итерации по батчам\n",
        "      ids, y = list(zip(*batch))\n",
        "      padded_ids = pad_sequence(ids, batch_first=True).to(self.device)\n",
        "      #мы хотим применять BCELoss, он будет брать на вход predicted размера batch_size x 1 (так как для каждого семпла модель будет отдавать одно число), target размера batch_size x 1\n",
        "      y = torch.Tensor(y).to(self.device) # tuple ([1], [0], [1])  -> Tensor [[1.], [0.], [1.]] \n",
        "      return padded_ids, y"
      ],
      "metadata": {
        "id": "FSpTTqg0U3ju"
      },
      "execution_count": 118,
      "outputs": []
    },
    {
      "cell_type": "code",
      "source": [
        "train_data, val_data = train_test_split(corpus[['tokens', 'ttype']], test_size=0.2, stratify=corpus['ttype'], random_state=42)\n",
        "\n",
        "train_dataset = TweetsDataset(train_data, word2id, DEVICE)\n",
        "train_sampler = RandomSampler(train_dataset)\n",
        "train_iterator = DataLoader(train_dataset, collate_fn=train_dataset.collate_fn, sampler=train_sampler, batch_size=1024)\n",
        "\n",
        "val_dataset = TweetsDataset(val_data, word2id, DEVICE)\n",
        "val_sampler = SequentialSampler(val_dataset)\n",
        "val_iterator = DataLoader(val_dataset, collate_fn=train_dataset.collate_fn, sampler=val_sampler, batch_size=1024)"
      ],
      "metadata": {
        "id": "_khajEkQlk19"
      },
      "execution_count": 162,
      "outputs": []
    },
    {
      "cell_type": "markdown",
      "source": [
        "### cnn"
      ],
      "metadata": {
        "id": "1Y1kGIo5pUL4"
      }
    },
    {
      "cell_type": "markdown",
      "source": [
        "##### model"
      ],
      "metadata": {
        "id": "fH_6xSoO0JrY"
      }
    },
    {
      "cell_type": "code",
      "source": [
        "class CNN(nn.Module):\n",
        "    \n",
        "    def __init__(self, vocab_size, embedding_dim, weights=None):\n",
        "        super().__init__()\n",
        "        self.embedding = nn.Embedding(vocab_size, embedding_dim)\n",
        "        if weights is not None:\n",
        "            self.embedding.from_pretrained(torch.tensor(weights), freeze=True)\n",
        "        self.bigrams = nn.Conv1d(in_channels=embedding_dim, out_channels=100, kernel_size=2, padding='same')\n",
        "        self.trigrams = nn.Conv1d(in_channels=embedding_dim, out_channels=80, kernel_size=3, padding='same')\n",
        "        self.concated = nn.Conv1d(in_channels=180, out_channels=180, kernel_size=2, padding='same')\n",
        "        self.pooling = nn.MaxPool1d(kernel_size=2, stride=2)\n",
        "        self.relu = nn.ReLU()\n",
        "        self.hidden = nn.Linear(in_features=180, out_features=1)\n",
        "       # self.dropout = nn.Dropout(p=0.5)\n",
        "        self.out = nn.Sigmoid()\n",
        "\n",
        "    def forward(self, word):\n",
        "        #batch_size x seq_len\n",
        "        embedded = self.embedding(word)\n",
        "        #batch_size x seq_len x embedding_dim\n",
        "        embedded = embedded.transpose(1,2)\n",
        "        #batch_size x embedding_dim x seq_len\n",
        "        feature_map_bigrams = self.relu(self.bigrams(embedded))\n",
        "        #batch_size x filter_count2 x seq_len* \n",
        "        feature_map_trigrams = self.relu(self.trigrams(embedded))\n",
        "        \n",
        "        # batch_size x filter_count3\n",
        "        concat = torch.cat((feature_map_bigrams, feature_map_trigrams), 1)\n",
        "        concat = self.pooling(self.relu(self.concated(concat)))\n",
        "        pooling = concat.max(2)[0] \n",
        "        # batch _size x (filter_count2 + filter_count3)\n",
        "        logits = self.hidden(pooling) \n",
        "        logits = self.out(logits)      \n",
        "        return logits"
      ],
      "metadata": {
        "id": "oxOqhcz1npb_"
      },
      "execution_count": 141,
      "outputs": []
    },
    {
      "cell_type": "code",
      "source": [
        "def train(model, iterator, optimizer, criterion):\n",
        "    print('Training...')\n",
        "    epoch_loss = 0 # для подсчета среднего лосса на всех батчах\n",
        "    model.train()  # ставим модель в обучение, явно указываем, что сейчас надо будет хранить градиенты у всех весов\n",
        "\n",
        "    epoch_loss = 0\n",
        "    epoch_metric = 0\n",
        "\n",
        "    for i, (texts, ys) in enumerate(iterator): #итерируемся по батчам\n",
        "        optimizer.zero_grad()  #обнуляем градиенты\n",
        "        preds_proba = model(texts) #прогоняем данные через модель\n",
        "        loss = criterion(preds_proba, ys) #считаем значение функции потерь  \n",
        "        loss.backward() #считаем градиенты  \n",
        "        optimizer.step() #обновляем веса \n",
        "        epoch_loss += loss.item() #сохраняем значение функции потерь\n",
        "        batch_metric = f1(preds_proba.round().long(), ys.long(), ignore_index=0)\n",
        "        epoch_metric += batch_metric\n",
        "\n",
        "        if not (i + 1) % int(len(iterator)/5):\n",
        "              print(f'Val loss: {epoch_loss/i}, Val f1: {epoch_metric/i}')\n",
        "        \n",
        "    return epoch_metric / len(iterator), epoch_loss / len(iterator) # возвращаем среднее значение по всей выборке\n",
        "\n",
        "def evaluate(model, iterator, criterion):\n",
        "    print(\"\\nValidating...\")\n",
        "    epoch_loss = 0\n",
        "    epoch_metric = 0\n",
        "    model.eval() \n",
        "    with torch.no_grad():\n",
        "        for i, (texts, ys) in enumerate(iterator):   \n",
        "            predictions = model(texts)  # делаем предсказания на тесте\n",
        "            loss = criterion(predictions, ys)   # считаем значения функции ошибки для статистики  \n",
        "            epoch_loss += loss.item()\n",
        "            batch_metric = f1(predictions.round().long(), ys.long(), ignore_index=0)\n",
        "            epoch_metric += batch_metric\n",
        "            if not (i + 1) % int(len(iterator)/5):\n",
        "              print(f'Val loss: {epoch_loss/i}, Val f1: {epoch_metric/i}')\n",
        "  \n",
        "        \n",
        "    return epoch_metric / len(iterator), epoch_loss / len(iterator) # возвращаем средний лосс по батчам\n",
        "\n",
        "model = CNN(len(word2id), 5)\n",
        "optimizer = optim.Adam(model.parameters(), lr=0.001)\n",
        "criterion = nn.BCELoss() # Binary Cross Entropy\n",
        "\n",
        "# веса модели и значения лосса храним там же, где и все остальные тензоры\n",
        "model = model.to(DEVICE)\n",
        "criterion = criterion.to(DEVICE)\n",
        "\n",
        "losses = []\n",
        "losses_eval = []\n",
        "\n",
        "for i in range(5): # работаю в колабе, очень плохой интернет, поэтому для теста пока так\n",
        "    print(f'\\nstarting Epoch {i}')\n",
        "    epoch_loss = train(model, train_iterator, optimizer, criterion)\n",
        "    losses.append(epoch_loss)\n",
        "\n",
        "    epoch_loss_on_test = evaluate(model, val_iterator, criterion)\n",
        "    losses_eval.append(epoch_loss_on_test)"
      ],
      "metadata": {
        "id": "R6brdJOGyFj4",
        "colab": {
          "base_uri": "https://localhost:8080/"
        },
        "outputId": "1370f648-13ee-4040-d852-103f2ca09dac"
      },
      "execution_count": 163,
      "outputs": [
        {
          "output_type": "stream",
          "name": "stdout",
          "text": [
            "\n",
            "starting Epoch 0\n",
            "Training...\n",
            "Val loss: 0.7013405109896804, Val f1: 0.5279585123062134\n",
            "Val loss: 0.6776460747220623, Val f1: 0.56022709608078\n",
            "Val loss: 0.6643653871989487, Val f1: 0.5701403617858887\n",
            "Val loss: 0.6561833200631318, Val f1: 0.5747734308242798\n",
            "Val loss: 0.649901512459185, Val f1: 0.5802148580551147\n",
            "\n",
            "Validating...\n",
            "Val loss: 0.706622838973999, Val f1: 0.7032313942909241\n",
            "Val loss: 0.6603137175242106, Val f1: 0.6505408883094788\n",
            "Val loss: 0.644349261470463, Val f1: 0.6373050212860107\n",
            "Val loss: 0.6375631074751577, Val f1: 0.6308582425117493\n",
            "Val loss: 0.6334672952309633, Val f1: 0.6269897222518921\n",
            "\n",
            "starting Epoch 1\n",
            "Training...\n",
            "Val loss: 0.6320449583458178, Val f1: 0.6430345177650452\n",
            "Val loss: 0.6206097923108002, Val f1: 0.6364155411720276\n",
            "Val loss: 0.6173112492750187, Val f1: 0.6342986226081848\n",
            "Val loss: 0.6139104057241369, Val f1: 0.6343365907669067\n",
            "Val loss: 0.6110879905830474, Val f1: 0.63584303855896\n",
            "\n",
            "Validating...\n",
            "Val loss: 0.6836206998143878, Val f1: 0.7307418584823608\n",
            "Val loss: 0.638587995370229, Val f1: 0.6758086085319519\n",
            "Val loss: 0.6229797342549199, Val f1: 0.6594889163970947\n",
            "Val loss: 0.6161253606119463, Val f1: 0.6525847911834717\n",
            "Val loss: 0.6124095656932929, Val f1: 0.6487221121788025\n",
            "\n",
            "starting Epoch 2\n",
            "Training...\n",
            "Val loss: 0.6095853773030367, Val f1: 0.6726352572441101\n",
            "Val loss: 0.5975626208888951, Val f1: 0.6710373163223267\n",
            "Val loss: 0.5919446384552682, Val f1: 0.6689427495002747\n",
            "Val loss: 0.5889808495839437, Val f1: 0.668606698513031\n",
            "Val loss: 0.5874049638855386, Val f1: 0.6688806414604187\n",
            "\n",
            "Validating...\n",
            "Val loss: 0.6695594021252224, Val f1: 0.7186242341995239\n",
            "Val loss: 0.6236666719118754, Val f1: 0.6715906262397766\n",
            "Val loss: 0.6081690451373225, Val f1: 0.6570081114768982\n",
            "Val loss: 0.6010285269829535, Val f1: 0.6510270833969116\n",
            "Val loss: 0.5977004919296656, Val f1: 0.6488457322120667\n",
            "\n",
            "starting Epoch 3\n",
            "Training...\n",
            "Val loss: 0.581534353169528, Val f1: 0.7066118717193604\n",
            "Val loss: 0.5714849331485692, Val f1: 0.6969199180603027\n",
            "Val loss: 0.5681608431410081, Val f1: 0.6970601081848145\n",
            "Val loss: 0.5657245340170683, Val f1: 0.6961906552314758\n",
            "Val loss: 0.5628380701386717, Val f1: 0.6971919536590576\n",
            "\n",
            "Validating...\n",
            "Val loss: 0.6436403478894915, Val f1: 0.7984619736671448\n",
            "Val loss: 0.599949852625529, Val f1: 0.7444223165512085\n",
            "Val loss: 0.5866784220156462, Val f1: 0.7267738580703735\n",
            "Val loss: 0.5789113602330608, Val f1: 0.7186716794967651\n",
            "Val loss: 0.5759597435975686, Val f1: 0.7145429253578186\n",
            "\n",
            "starting Epoch 4\n",
            "Training...\n",
            "Val loss: 0.5602639353636539, Val f1: 0.7302273511886597\n",
            "Val loss: 0.5513198731550529, Val f1: 0.7183153629302979\n",
            "Val loss: 0.5473325807269257, Val f1: 0.7161587476730347\n",
            "Val loss: 0.5443162573708429, Val f1: 0.7161952257156372\n",
            "Val loss: 0.5430640391344149, Val f1: 0.7166171073913574\n",
            "\n",
            "Validating...\n",
            "Val loss: 0.6337633899280003, Val f1: 0.8315642476081848\n",
            "Val loss: 0.5926810224850972, Val f1: 0.7697846293449402\n",
            "Val loss: 0.5810116218483966, Val f1: 0.7523367404937744\n",
            "Val loss: 0.5726624977204108, Val f1: 0.7456326484680176\n",
            "Val loss: 0.5694104509475904, Val f1: 0.7414519190788269\n"
          ]
        }
      ]
    },
    {
      "cell_type": "code",
      "source": [
        "import matplotlib.pyplot as plt\n",
        "lss = [los[1] for los in losses]\n",
        "evs = [los[1] for los in losses_eval]\n",
        "plt.plot(lss)\n",
        "plt.plot(evs)\n",
        "plt.title('BCE loss value')\n",
        "plt.ylabel('BCE loss')\n",
        "plt.xlabel('epoch')\n",
        "plt.legend(['train', 'val'], loc='upper right')\n",
        "plt.show()"
      ],
      "metadata": {
        "id": "xDvYaTdS1Nxf",
        "colab": {
          "base_uri": "https://localhost:8080/",
          "height": 295
        },
        "outputId": "471c46a0-f61b-4e00-98c7-49df7f966eb1"
      },
      "execution_count": 133,
      "outputs": [
        {
          "output_type": "display_data",
          "data": {
            "image/png": "[encoded data removed]",
            "text/plain": [
              "<Figure size 432x288 with 1 Axes>"
            ]
          },
          "metadata": {
            "needs_background": "light"
          }
        }
      ]
    },
    {
      "cell_type": "markdown",
      "source": [
        "### fasttext"
      ],
      "metadata": {
        "id": "sVIjr_REQ2YJ"
      }
    },
    {
      "cell_type": "code",
      "source": [
        "from gensim.models import FastText\n",
        "fasttext = FastText(corpus['text'].tolist(), size=100, window=5, min_count=3)"
      ],
      "metadata": {
        "id": "0q4d5svIQ1ye"
      },
      "execution_count": 137,
      "outputs": []
    },
    {
      "cell_type": "code",
      "source": [
        "import numpy as np\n",
        "\n",
        "weights = np.zeros((len(word2id), 100))\n",
        "count = 0\n",
        "for word, i in word2id.items():\n",
        "    if word == 'PAD':\n",
        "        continue   \n",
        "    try:\n",
        "        weights[i] = fasttext.wv[word]    \n",
        "    except KeyError:\n",
        "      count += 1\n",
        "      # oov словам сопоставляем случайный вектор\n",
        "      weights[i] = np.random.normal(0,0.1,100)"
      ],
      "metadata": {
        "id": "NhGGCA7qyFne"
      },
      "execution_count": 139,
      "outputs": []
    },
    {
      "cell_type": "code",
      "source": [
        "model = CNN(len(word2id), 100, weights)\n",
        "optimizer = optim.Adam(model.parameters(), lr=0.001)\n",
        "criterion = nn.BCELoss() # Binary Cross Entropy\n",
        "\n",
        "# веса модели и значения лосса храним там же, где и все остальные тензоры\n",
        "model = model.to(DEVICE)\n",
        "criterion = criterion.to(DEVICE)\n",
        "\n",
        "losses_ft = []\n",
        "losses_eval_ft = []\n",
        "\n",
        "for i in range(5):\n",
        "    print(f'\\nstarting Epoch {i}')\n",
        "    epoch_loss = train(model, train_iterator, optimizer, criterion)\n",
        "    losses_ft.append(epoch_loss)\n",
        "\n",
        "    epoch_loss_on_test = evaluate(model, val_iterator, criterion)\n",
        "    losses_eval_ft.append(epoch_loss_on_test)"
      ],
      "metadata": {
        "colab": {
          "base_uri": "https://localhost:8080/"
        },
        "id": "gW7AeYj4VOnH",
        "outputId": "b312a95c-fbee-4b7c-d6ae-3296d10bc0f8"
      },
      "execution_count": 142,
      "outputs": [
        {
          "output_type": "stream",
          "name": "stdout",
          "text": [
            "\n",
            "starting Epoch 0\n",
            "Training...\n",
            "Val loss: 0.6666884928038626, Val f1: 0.5711579918861389\n",
            "Val loss: 0.6296297987895225, Val f1: 0.6095152497291565\n",
            "Val loss: 0.6120221414188347, Val f1: 0.6298003792762756\n",
            "Val loss: 0.5980467279752095, Val f1: 0.6463456749916077\n",
            "Val loss: 0.5891324546210159, Val f1: 0.65656977891922\n",
            "\n",
            "Validating...\n",
            "Val loss: 0.6107084155082703, Val f1: 0.8317893743515015\n",
            "Val loss: 0.571240262190501, Val f1: 0.7689230442047119\n",
            "Val loss: 0.5600466831870701, Val f1: 0.7475221753120422\n",
            "Val loss: 0.5548958797608653, Val f1: 0.739115297794342\n",
            "Val loss: 0.5528633365264306, Val f1: 0.7329834699630737\n",
            "\n",
            "starting Epoch 1\n",
            "Training...\n",
            "Val loss: 0.5357935961448785, Val f1: 0.7541112303733826\n",
            "Val loss: 0.525522429996462, Val f1: 0.7415659427642822\n",
            "Val loss: 0.5173265054674432, Val f1: 0.7425519824028015\n",
            "Val loss: 0.5120848066276974, Val f1: 0.7446827292442322\n",
            "Val loss: 0.5091721078700567, Val f1: 0.7455108761787415\n",
            "\n",
            "Validating...\n",
            "Val loss: 0.5711358317307064, Val f1: 0.8523087501525879\n",
            "Val loss: 0.5334984640280406, Val f1: 0.792547345161438\n",
            "Val loss: 0.5234037261942158, Val f1: 0.7719455361366272\n",
            "Val loss: 0.5183050757454287, Val f1: 0.7647407650947571\n",
            "Val loss: 0.5172718877975757, Val f1: 0.7593652009963989\n",
            "\n",
            "starting Epoch 2\n",
            "Training...\n",
            "Val loss: 0.4751873467907761, Val f1: 0.7968257069587708\n",
            "Val loss: 0.4663193194723841, Val f1: 0.788514256477356\n",
            "Val loss: 0.46278857742205703, Val f1: 0.7862101793289185\n",
            "Val loss: 0.46071596984510066, Val f1: 0.7849704623222351\n",
            "Val loss: 0.45787824840235286, Val f1: 0.7845177054405212\n",
            "\n",
            "Validating...\n",
            "Val loss: 0.5509269194943565, Val f1: 0.8797382116317749\n",
            "Val loss: 0.5150566915671031, Val f1: 0.8183183670043945\n",
            "Val loss: 0.5071315661720608, Val f1: 0.7968345284461975\n",
            "Val loss: 0.501214676326321, Val f1: 0.7890018224716187\n",
            "Val loss: 0.5015495220820109, Val f1: 0.7832329869270325\n",
            "\n",
            "starting Epoch 3\n",
            "Training...\n",
            "Val loss: 0.4243351970658158, Val f1: 0.8355108499526978\n",
            "Val loss: 0.4152398185053868, Val f1: 0.8252624273300171\n",
            "Val loss: 0.4140788543932509, Val f1: 0.8193437457084656\n",
            "Val loss: 0.41295259043022436, Val f1: 0.8172180652618408\n",
            "Val loss: 0.4127458531475631, Val f1: 0.8156793117523193\n",
            "\n",
            "Validating...\n",
            "Val loss: 0.5529172973973411, Val f1: 0.8812258839607239\n",
            "Val loss: 0.5157931963602702, Val f1: 0.820602297782898\n",
            "Val loss: 0.5065488426581674, Val f1: 0.799328088760376\n",
            "Val loss: 0.500519048783087, Val f1: 0.7906374931335449\n",
            "Val loss: 0.5009038410125635, Val f1: 0.7849997282028198\n",
            "\n",
            "starting Epoch 4\n",
            "Training...\n",
            "Val loss: 0.3757493929429488, Val f1: 0.8667861819267273\n",
            "Val loss: 0.3709241405351838, Val f1: 0.8517219424247742\n",
            "Val loss: 0.37242872644178937, Val f1: 0.8449975252151489\n",
            "Val loss: 0.3715041142922861, Val f1: 0.8426687717437744\n",
            "Val loss: 0.3717280899631907, Val f1: 0.8406394720077515\n",
            "\n",
            "Validating...\n",
            "Val loss: 0.5619447784764426, Val f1: 0.8757966160774231\n",
            "Val loss: 0.5234525243441264, Val f1: 0.8150655627250671\n",
            "Val loss: 0.5132660010586614, Val f1: 0.7942242622375488\n",
            "Val loss: 0.5072605763712237, Val f1: 0.7859136462211609\n",
            "Val loss: 0.5084845698796786, Val f1: 0.7794851660728455\n"
          ]
        }
      ]
    },
    {
      "cell_type": "code",
      "source": [
        "lss = [los[1] for los in losses_ft]\n",
        "evs = [los[1] for los in losses_eval_ft]\n",
        "plt.plot(lss)\n",
        "plt.plot(evs)\n",
        "plt.title('BCE loss value')\n",
        "plt.ylabel('BCE loss')\n",
        "plt.xlabel('epoch')\n",
        "plt.legend(['train', 'val'], loc='upper right')\n",
        "plt.show()"
      ],
      "metadata": {
        "colab": {
          "base_uri": "https://localhost:8080/",
          "height": 295
        },
        "id": "02j-NmA4W4o6",
        "outputId": "bdebc96f-25aa-4860-91cb-f838f2565d6e"
      },
      "execution_count": 143,
      "outputs": [
        {
          "output_type": "display_data",
          "data": {
            "image/png": "[encoded data removed]",
            "text/plain": [
              "<Figure size 432x288 with 1 Axes>"
            ]
          },
          "metadata": {
            "needs_background": "light"
          }
        }
      ]
    },
    {
      "cell_type": "markdown",
      "source": [
        "II. combine word2id + symbol2id"
      ],
      "metadata": {
        "id": "JL28Yra4Wcdq"
      }
    },
    {
      "cell_type": "code",
      "source": [
        "vocab = Counter()\n",
        "\n",
        "for text in corpus['text']:\n",
        "    for symbol in text:\n",
        "        vocab.update(list(symbol))\n",
        "print('всего уникальных символов:', len(vocab))\n",
        "\n",
        "filtered_vocab = set()\n",
        "\n",
        "for symbol in vocab:\n",
        "    if vocab[symbol] > 5:\n",
        "        filtered_vocab.add(symbol)\n",
        "print('уникальных символов, втретившихся больше 5 раз:', len(filtered_vocab))\n",
        "\n",
        "symbol2id = {'PAD':0}\n",
        "\n",
        "for symbol in filtered_vocab:\n",
        "    symbol2id[symbol] = len(symbol2id)\n",
        "\n",
        "id2symbol = {i:symbol for symbol, i in symbol2id.items()}"
      ],
      "metadata": {
        "colab": {
          "base_uri": "https://localhost:8080/"
        },
        "id": "3MvwQ-iTWgJm",
        "outputId": "5aa89227-c1e6-4982-ed05-2f499d6633ef"
      },
      "execution_count": 144,
      "outputs": [
        {
          "output_type": "stream",
          "name": "stdout",
          "text": [
            "всего уникальных символов: 127\n",
            "уникальных символов, втретившихся больше 5 раз: 90\n"
          ]
        }
      ]
    },
    {
      "cell_type": "code",
      "source": [
        "class CombineDataset(Dataset):\n",
        "\n",
        "    def __init__(self, dataset, word2id, symbol2id, DEVICE):\n",
        "        self.dataset = dataset['tokens'].values\n",
        "        self.text = dataset['text'].values\n",
        "        self.word2id = word2id\n",
        "        self.symbol2id = symbol2id\n",
        "        self.length = dataset.shape[0]\n",
        "        self.target = dataset['ttype'].values\n",
        "        self.device = DEVICE\n",
        "\n",
        "    def __len__(self): #это обязательный метод, он должен уметь считать длину датасета\n",
        "        return self.length\n",
        "\n",
        "    def __getitem__(self, index): #еще один обязательный метод. По индексу возвращает элемент выборки\n",
        "        tokens = self.dataset[index] # токенизируем\n",
        "        symbols = list(self.text)\n",
        "        ids = torch.LongTensor([self.word2id[token] for token in tokens if token in self.word2id])\n",
        "        symbol_ids = torch.LongTensor([self.symbol2id[sym] for sym in symbols if sym in self.symbol2id])\n",
        "        y = [self.target[index]]\n",
        "        return ids, symbol_ids, y\n",
        "\n",
        "    def collate_fn(self, batch): #этот метод можно реализовывать и отдельно,\n",
        "    # он понадобится для DataLoader во время итерации по батчам\n",
        "      ids, symbol_ids, y = list(zip(*batch))\n",
        "      padded_ids = pad_sequence(ids, batch_first=True).to(self.device)\n",
        "      #мы хотим применять BCELoss, он будет брать на вход predicted размера batch_size x 1 (так как для каждого семпла модель будет отдавать одно число), target размера batch_size x 1\n",
        "      padded_sym_ids = pad_sequence(symbol_ids, batch_first=True).to(self.device)\n",
        "      y = torch.Tensor(y).to(self.device) # tuple ([1], [0], [1])  -> Tensor [[1.], [0.], [1.]] \n",
        "      return padded_ids, padded_sym_ids, y"
      ],
      "metadata": {
        "id": "3CazL9eheANx"
      },
      "execution_count": 153,
      "outputs": []
    },
    {
      "cell_type": "code",
      "source": [
        "class CombCNN(nn.Module):\n",
        "    def __init__(self, words_vocab, sym_vocab, embedding_dim, weights=None):\n",
        "        super().__init__()\n",
        "        self.word_embedding = nn.Embedding(words_vocab, embedding_dim)\n",
        "        self.sym_embedding = nn.Embedding(sym_vocab, embedding_dim)\n",
        "        if weights is not None:\n",
        "            self.word_embedding.from_pretrained(torch.tensor(weights), freeze=True)\n",
        "        self.bigrams = nn.Conv1d(in_channels=embedding_dim, out_channels=100, kernel_size=2, padding='same')\n",
        "        self.trigrams = nn.Conv1d(in_channels=embedding_dim, out_channels=80, kernel_size=3, padding='same')\n",
        "        self.concated = nn.Conv1d(in_channels=180, out_channels=180, kernel_size=2, padding='same')\n",
        "        self.pooling = nn.MaxPool1d(kernel_size=2, stride=2)\n",
        "        self.relu = nn.ReLU()\n",
        "        self.hidden = nn.Linear(in_features=180, out_features=1)\n",
        "        self.out = nn.Sigmoid()\n",
        "\n",
        "    def forward(self, word, sym):\n",
        "        #batch_size x seq_len\n",
        "        sym_embedded = self.sym_embedding(sym)\n",
        "        #batch_size x seq_len x embedding_dim\n",
        "        sym_embedded =  sym_embedded.transpose(1,2)\n",
        "        #batch_size x embedding_dim x seq_len\n",
        "        feature_map_bigrams = self.relu(self.bigrams(sym_embedded))\n",
        "        #batch_size x filter_count2 x seq_len* \n",
        "        feature_map_trigrams = self.relu(self.trigrams(sym_embedded))\n",
        "\n",
        "        embedded = self.word_embedding(word)   # переводим последовательность индексов в последовательность эмбеддингов\n",
        "        mean_emb = torch.mean(embedded, dim=1) # считаем средний эмбеддинг предложения\n",
        "        \n",
        "        pooling1 = feature_map_bigrams.max(2)[0] \n",
        "        pooling2 = feature_map_trigrams.max(2)[0]\n",
        "        concat = torch.cat((pooling1, pooling2), 1)\n",
        "        sym_logits = nn.Linear(concat, in_features=180, out_features=100)\n",
        " \n",
        "        concat = torch.cat((sym_logits, mean_emb), 1)\n",
        "\n",
        "        logits = self.out(self.hidden(concat))\n",
        "        return logits"
      ],
      "metadata": {
        "id": "H-eg2BdwfoeI"
      },
      "execution_count": 149,
      "outputs": []
    },
    {
      "cell_type": "code",
      "source": [
        "train_data, val_data = train_test_split(corpus[['tokens', 'text', 'ttype']], test_size=0.2, stratify=corpus['ttype'], random_state=42)\n",
        "\n",
        "train_dataset = CombineDataset(train_data, word2id, symbol2id, DEVICE)\n",
        "train_sampler = RandomSampler(train_dataset)\n",
        "train_iterator = DataLoader(train_dataset, collate_fn=train_dataset.collate_fn, sampler=train_sampler, batch_size=1024)\n",
        "\n",
        "val_dataset = CombineDataset(val_data, word2id, symbol2id, DEVICE)\n",
        "val_sampler = SequentialSampler(val_dataset)\n",
        "val_iterator = DataLoader(val_dataset, collate_fn=train_dataset.collate_fn, sampler=val_sampler, batch_size=1024)"
      ],
      "metadata": {
        "id": "SxXczqgzqH_E"
      },
      "execution_count": 173,
      "outputs": []
    },
    {
      "cell_type": "code",
      "source": [
        "def train(model, iterator, optimizer, criterion):\n",
        "    print('Training...')\n",
        "    epoch_loss = 0 # для подсчета среднего лосса на всех батчах\n",
        "    model.train()  # ставим модель в обучение, явно указываем, что сейчас надо будет хранить градиенты у всех весов\n",
        "\n",
        "    epoch_loss = 0\n",
        "    epoch_metric = 0\n",
        "\n",
        "    for i, (texts, symbols, ys) in enumerate(iterator): #итерируемся по батчам\n",
        "        print(i)\n",
        "        optimizer.zero_grad()  #обнуляем градиенты\n",
        "        preds_proba = model(texts, symbols) #прогоняем данные через модель\n",
        "        loss = criterion(preds_proba, ys) #считаем значение функции потерь  \n",
        "        loss.backward() #считаем градиенты  \n",
        "        optimizer.step() #обновляем веса \n",
        "        epoch_loss += loss.item() #сохраняем значение функции потерь\n",
        "        batch_metric = f1(preds_proba.round().long(), ys.long(), ignore_index=0)\n",
        "        epoch_metric += batch_metric\n",
        "\n",
        "        if not (i + 1) % int(len(iterator)/5):\n",
        "              print(f'Val loss: {epoch_loss/i}, Val f1: {epoch_metric/i}')\n",
        "        \n",
        "    return epoch_metric / len(iterator), epoch_loss / len(iterator) # возвращаем среднее значение по всей выборке\n",
        "\n",
        "\n",
        "\n",
        "def evaluate(model, iterator, criterion):\n",
        "    print(\"\\nValidating...\")\n",
        "    epoch_loss = 0\n",
        "    epoch_metric = 0\n",
        "    model.eval() \n",
        "    with torch.no_grad():\n",
        "        for i, (texts, symbols, ys) in enumerate(iterator):   \n",
        "            predictions = model(texts, symbols)  # делаем предсказания на тесте\n",
        "            loss = criterion(predictions, ys)   # считаем значения функции ошибки для статистики  \n",
        "            epoch_loss += loss.item()\n",
        "            batch_metric = f1(predictions.round().long(), ys.long(), ignore_index=0)\n",
        "            epoch_metric += batch_metric\n",
        "            if not (i + 1) % int(len(iterator)/5):\n",
        "              print(f'Val loss: {epoch_loss/i}, Val f1: {epoch_metric/i}')\n",
        "  \n",
        "        \n",
        "    return epoch_metric / len(iterator), epoch_loss / len(iterator) # возвращаем средний лосс по батчам\n",
        "\n",
        "new_model = CombCNN(len(word2id), len(symbol2id), 100, weights)\n",
        "optimizer = optim.Adam(new_model.parameters(), lr=0.001)\n",
        "criterion = nn.BCELoss() # Binary Cross Entropy\n",
        "\n",
        "# веса модели и значения лосса храним там же, где и все остальные тензоры\n",
        "new_model = new_model.to(DEVICE)\n",
        "criterion = criterion.to(DEVICE)\n",
        "\n",
        "losses_ft = []\n",
        "losses_eval_ft = []\n",
        "\n",
        "for i in range(5):\n",
        "    print(f'\\nstarting Epoch {i}')\n",
        "    epoch_loss = train(model, train_iterator, optimizer, criterion)\n",
        "    losses_ft.append(epoch_loss)\n",
        "\n",
        "    epoch_loss_on_test = evaluate(model, val_iterator, criterion)\n",
        "    losses_eval_ft.append(epoch_loss_on_test)"
      ],
      "metadata": {
        "colab": {
          "base_uri": "https://localhost:8080/",
          "height": 1000
        },
        "id": "W_UvUf1bqVXc",
        "outputId": "c2046fd8-097e-41e3-dcf6-bfbc2ec683e0"
      },
      "execution_count": 174,
      "outputs": [
        {
          "output_type": "stream",
          "name": "stdout",
          "text": [
            "\n",
            "starting Epoch 0\n",
            "Training...\n",
            "0\n"
          ]
        },
        {
          "output_type": "error",
          "ename": "RuntimeError",
          "evalue": "ignored",
          "traceback": [
            "\u001b[0;31m---------------------------------------------------------------------------\u001b[0m",
            "\u001b[0;31mRuntimeError\u001b[0m                              Traceback (most recent call last)",
            "\u001b[0;32m<ipython-input-174-5d537f3b457f>\u001b[0m in \u001b[0;36m<module>\u001b[0;34m()\u001b[0m\n\u001b[1;32m     56\u001b[0m \u001b[0;32mfor\u001b[0m \u001b[0mi\u001b[0m \u001b[0;32min\u001b[0m \u001b[0mrange\u001b[0m\u001b[0;34m(\u001b[0m\u001b[0;36m5\u001b[0m\u001b[0;34m)\u001b[0m\u001b[0;34m:\u001b[0m\u001b[0;34m\u001b[0m\u001b[0;34m\u001b[0m\u001b[0m\n\u001b[1;32m     57\u001b[0m     \u001b[0mprint\u001b[0m\u001b[0;34m(\u001b[0m\u001b[0;34mf'\\nstarting Epoch {i}'\u001b[0m\u001b[0;34m)\u001b[0m\u001b[0;34m\u001b[0m\u001b[0;34m\u001b[0m\u001b[0m\n\u001b[0;32m---> 58\u001b[0;31m     \u001b[0mepoch_loss\u001b[0m \u001b[0;34m=\u001b[0m \u001b[0mtrain\u001b[0m\u001b[0;34m(\u001b[0m\u001b[0mmodel\u001b[0m\u001b[0;34m,\u001b[0m \u001b[0mtrain_iterator\u001b[0m\u001b[0;34m,\u001b[0m \u001b[0moptimizer\u001b[0m\u001b[0;34m,\u001b[0m \u001b[0mcriterion\u001b[0m\u001b[0;34m)\u001b[0m\u001b[0;34m\u001b[0m\u001b[0;34m\u001b[0m\u001b[0m\n\u001b[0m\u001b[1;32m     59\u001b[0m     \u001b[0mlosses_ft\u001b[0m\u001b[0;34m.\u001b[0m\u001b[0mappend\u001b[0m\u001b[0;34m(\u001b[0m\u001b[0mepoch_loss\u001b[0m\u001b[0;34m)\u001b[0m\u001b[0;34m\u001b[0m\u001b[0;34m\u001b[0m\u001b[0m\n\u001b[1;32m     60\u001b[0m \u001b[0;34m\u001b[0m\u001b[0m\n",
            "\u001b[0;32m<ipython-input-174-5d537f3b457f>\u001b[0m in \u001b[0;36mtrain\u001b[0;34m(model, iterator, optimizer, criterion)\u001b[0m\n\u001b[1;32m     10\u001b[0m         \u001b[0mprint\u001b[0m\u001b[0;34m(\u001b[0m\u001b[0mi\u001b[0m\u001b[0;34m)\u001b[0m\u001b[0;34m\u001b[0m\u001b[0;34m\u001b[0m\u001b[0m\n\u001b[1;32m     11\u001b[0m         \u001b[0moptimizer\u001b[0m\u001b[0;34m.\u001b[0m\u001b[0mzero_grad\u001b[0m\u001b[0;34m(\u001b[0m\u001b[0;34m)\u001b[0m  \u001b[0;31m#обнуляем градиенты\u001b[0m\u001b[0;34m\u001b[0m\u001b[0;34m\u001b[0m\u001b[0m\n\u001b[0;32m---> 12\u001b[0;31m         \u001b[0mpreds_proba\u001b[0m \u001b[0;34m=\u001b[0m \u001b[0mmodel\u001b[0m\u001b[0;34m(\u001b[0m\u001b[0mtexts\u001b[0m\u001b[0;34m,\u001b[0m \u001b[0msymbols\u001b[0m\u001b[0;34m)\u001b[0m \u001b[0;31m#прогоняем данные через модель\u001b[0m\u001b[0;34m\u001b[0m\u001b[0;34m\u001b[0m\u001b[0m\n\u001b[0m\u001b[1;32m     13\u001b[0m         \u001b[0mloss\u001b[0m \u001b[0;34m=\u001b[0m \u001b[0mcriterion\u001b[0m\u001b[0;34m(\u001b[0m\u001b[0mpreds_proba\u001b[0m\u001b[0;34m,\u001b[0m \u001b[0mys\u001b[0m\u001b[0;34m)\u001b[0m \u001b[0;31m#считаем значение функции потерь\u001b[0m\u001b[0;34m\u001b[0m\u001b[0;34m\u001b[0m\u001b[0m\n\u001b[1;32m     14\u001b[0m         \u001b[0mloss\u001b[0m\u001b[0;34m.\u001b[0m\u001b[0mbackward\u001b[0m\u001b[0;34m(\u001b[0m\u001b[0;34m)\u001b[0m \u001b[0;31m#считаем градиенты\u001b[0m\u001b[0;34m\u001b[0m\u001b[0;34m\u001b[0m\u001b[0m\n",
            "\u001b[0;32m/usr/local/lib/python3.7/dist-packages/torch/nn/modules/module.py\u001b[0m in \u001b[0;36m_call_impl\u001b[0;34m(self, *input, **kwargs)\u001b[0m\n\u001b[1;32m   1100\u001b[0m         if not (self._backward_hooks or self._forward_hooks or self._forward_pre_hooks or _global_backward_hooks\n\u001b[1;32m   1101\u001b[0m                 or _global_forward_hooks or _global_forward_pre_hooks):\n\u001b[0;32m-> 1102\u001b[0;31m             \u001b[0;32mreturn\u001b[0m \u001b[0mforward_call\u001b[0m\u001b[0;34m(\u001b[0m\u001b[0;34m*\u001b[0m\u001b[0minput\u001b[0m\u001b[0;34m,\u001b[0m \u001b[0;34m**\u001b[0m\u001b[0mkwargs\u001b[0m\u001b[0;34m)\u001b[0m\u001b[0;34m\u001b[0m\u001b[0;34m\u001b[0m\u001b[0m\n\u001b[0m\u001b[1;32m   1103\u001b[0m         \u001b[0;31m# Do not call functions when jit is used\u001b[0m\u001b[0;34m\u001b[0m\u001b[0;34m\u001b[0m\u001b[0;34m\u001b[0m\u001b[0m\n\u001b[1;32m   1104\u001b[0m         \u001b[0mfull_backward_hooks\u001b[0m\u001b[0;34m,\u001b[0m \u001b[0mnon_full_backward_hooks\u001b[0m \u001b[0;34m=\u001b[0m \u001b[0;34m[\u001b[0m\u001b[0;34m]\u001b[0m\u001b[0;34m,\u001b[0m \u001b[0;34m[\u001b[0m\u001b[0;34m]\u001b[0m\u001b[0;34m\u001b[0m\u001b[0;34m\u001b[0m\u001b[0m\n",
            "\u001b[0;32m<ipython-input-149-7004c9dc85a6>\u001b[0m in \u001b[0;36mforward\u001b[0;34m(self, word, sym)\u001b[0m\n\u001b[1;32m     22\u001b[0m         \u001b[0msym_embedded\u001b[0m \u001b[0;34m=\u001b[0m  \u001b[0msym_embedded\u001b[0m\u001b[0;34m.\u001b[0m\u001b[0mtranspose\u001b[0m\u001b[0;34m(\u001b[0m\u001b[0;36m1\u001b[0m\u001b[0;34m,\u001b[0m\u001b[0;36m2\u001b[0m\u001b[0;34m)\u001b[0m\u001b[0;34m\u001b[0m\u001b[0;34m\u001b[0m\u001b[0m\n\u001b[1;32m     23\u001b[0m         \u001b[0;31m#batch_size x embedding_dim x seq_len\u001b[0m\u001b[0;34m\u001b[0m\u001b[0;34m\u001b[0m\u001b[0;34m\u001b[0m\u001b[0m\n\u001b[0;32m---> 24\u001b[0;31m         \u001b[0mfeature_map_bigrams\u001b[0m \u001b[0;34m=\u001b[0m \u001b[0mself\u001b[0m\u001b[0;34m.\u001b[0m\u001b[0mrelu\u001b[0m\u001b[0;34m(\u001b[0m\u001b[0mself\u001b[0m\u001b[0;34m.\u001b[0m\u001b[0mbigrams\u001b[0m\u001b[0;34m(\u001b[0m\u001b[0msym_embedded\u001b[0m\u001b[0;34m)\u001b[0m\u001b[0;34m)\u001b[0m\u001b[0;34m\u001b[0m\u001b[0;34m\u001b[0m\u001b[0m\n\u001b[0m\u001b[1;32m     25\u001b[0m         \u001b[0;31m#batch_size x filter_count2 x seq_len*\u001b[0m\u001b[0;34m\u001b[0m\u001b[0;34m\u001b[0m\u001b[0;34m\u001b[0m\u001b[0m\n\u001b[1;32m     26\u001b[0m         \u001b[0mfeature_map_trigrams\u001b[0m \u001b[0;34m=\u001b[0m \u001b[0mself\u001b[0m\u001b[0;34m.\u001b[0m\u001b[0mrelu\u001b[0m\u001b[0;34m(\u001b[0m\u001b[0mself\u001b[0m\u001b[0;34m.\u001b[0m\u001b[0mtrigrams\u001b[0m\u001b[0;34m(\u001b[0m\u001b[0msym_embedded\u001b[0m\u001b[0;34m)\u001b[0m\u001b[0;34m)\u001b[0m\u001b[0;34m\u001b[0m\u001b[0;34m\u001b[0m\u001b[0m\n",
            "\u001b[0;32m/usr/local/lib/python3.7/dist-packages/torch/nn/modules/module.py\u001b[0m in \u001b[0;36m_call_impl\u001b[0;34m(self, *input, **kwargs)\u001b[0m\n\u001b[1;32m   1100\u001b[0m         if not (self._backward_hooks or self._forward_hooks or self._forward_pre_hooks or _global_backward_hooks\n\u001b[1;32m   1101\u001b[0m                 or _global_forward_hooks or _global_forward_pre_hooks):\n\u001b[0;32m-> 1102\u001b[0;31m             \u001b[0;32mreturn\u001b[0m \u001b[0mforward_call\u001b[0m\u001b[0;34m(\u001b[0m\u001b[0;34m*\u001b[0m\u001b[0minput\u001b[0m\u001b[0;34m,\u001b[0m \u001b[0;34m**\u001b[0m\u001b[0mkwargs\u001b[0m\u001b[0;34m)\u001b[0m\u001b[0;34m\u001b[0m\u001b[0;34m\u001b[0m\u001b[0m\n\u001b[0m\u001b[1;32m   1103\u001b[0m         \u001b[0;31m# Do not call functions when jit is used\u001b[0m\u001b[0;34m\u001b[0m\u001b[0;34m\u001b[0m\u001b[0;34m\u001b[0m\u001b[0m\n\u001b[1;32m   1104\u001b[0m         \u001b[0mfull_backward_hooks\u001b[0m\u001b[0;34m,\u001b[0m \u001b[0mnon_full_backward_hooks\u001b[0m \u001b[0;34m=\u001b[0m \u001b[0;34m[\u001b[0m\u001b[0;34m]\u001b[0m\u001b[0;34m,\u001b[0m \u001b[0;34m[\u001b[0m\u001b[0;34m]\u001b[0m\u001b[0;34m\u001b[0m\u001b[0;34m\u001b[0m\u001b[0m\n",
            "\u001b[0;32m/usr/local/lib/python3.7/dist-packages/torch/nn/modules/conv.py\u001b[0m in \u001b[0;36mforward\u001b[0;34m(self, input)\u001b[0m\n\u001b[1;32m    299\u001b[0m \u001b[0;34m\u001b[0m\u001b[0m\n\u001b[1;32m    300\u001b[0m     \u001b[0;32mdef\u001b[0m \u001b[0mforward\u001b[0m\u001b[0;34m(\u001b[0m\u001b[0mself\u001b[0m\u001b[0;34m,\u001b[0m \u001b[0minput\u001b[0m\u001b[0;34m:\u001b[0m \u001b[0mTensor\u001b[0m\u001b[0;34m)\u001b[0m \u001b[0;34m->\u001b[0m \u001b[0mTensor\u001b[0m\u001b[0;34m:\u001b[0m\u001b[0;34m\u001b[0m\u001b[0;34m\u001b[0m\u001b[0m\n\u001b[0;32m--> 301\u001b[0;31m         \u001b[0;32mreturn\u001b[0m \u001b[0mself\u001b[0m\u001b[0;34m.\u001b[0m\u001b[0m_conv_forward\u001b[0m\u001b[0;34m(\u001b[0m\u001b[0minput\u001b[0m\u001b[0;34m,\u001b[0m \u001b[0mself\u001b[0m\u001b[0;34m.\u001b[0m\u001b[0mweight\u001b[0m\u001b[0;34m,\u001b[0m \u001b[0mself\u001b[0m\u001b[0;34m.\u001b[0m\u001b[0mbias\u001b[0m\u001b[0;34m)\u001b[0m\u001b[0;34m\u001b[0m\u001b[0;34m\u001b[0m\u001b[0m\n\u001b[0m\u001b[1;32m    302\u001b[0m \u001b[0;34m\u001b[0m\u001b[0m\n\u001b[1;32m    303\u001b[0m \u001b[0;34m\u001b[0m\u001b[0m\n",
            "\u001b[0;32m/usr/local/lib/python3.7/dist-packages/torch/nn/modules/conv.py\u001b[0m in \u001b[0;36m_conv_forward\u001b[0;34m(self, input, weight, bias)\u001b[0m\n\u001b[1;32m    296\u001b[0m                             _single(0), self.dilation, self.groups)\n\u001b[1;32m    297\u001b[0m         return F.conv1d(input, weight, bias, self.stride,\n\u001b[0;32m--> 298\u001b[0;31m                         self.padding, self.dilation, self.groups)\n\u001b[0m\u001b[1;32m    299\u001b[0m \u001b[0;34m\u001b[0m\u001b[0m\n\u001b[1;32m    300\u001b[0m     \u001b[0;32mdef\u001b[0m \u001b[0mforward\u001b[0m\u001b[0;34m(\u001b[0m\u001b[0mself\u001b[0m\u001b[0;34m,\u001b[0m \u001b[0minput\u001b[0m\u001b[0;34m:\u001b[0m \u001b[0mTensor\u001b[0m\u001b[0;34m)\u001b[0m \u001b[0;34m->\u001b[0m \u001b[0mTensor\u001b[0m\u001b[0;34m:\u001b[0m\u001b[0;34m\u001b[0m\u001b[0;34m\u001b[0m\u001b[0m\n",
            "\u001b[0;31mRuntimeError\u001b[0m: Calculated padded input size per channel: (1). Kernel size: (2). Kernel size can't be greater than actual input size"
          ]
        }
      ]
    },
    {
      "cell_type": "markdown",
      "source": [
        "запуталась("
      ],
      "metadata": {
        "id": "iWihHyYe1i5F"
      }
    }
  ]
}